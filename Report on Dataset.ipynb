{
 "cells": [
  {
   "cell_type": "markdown",
   "id": "c0a90326",
   "metadata": {},
   "source": [
    "# Report on the dataset\n",
    "## Author: Mohammad Mosaffa\n",
    "In this report, the dataset of the company's repair service system will be explained \n",
    "\n",
    "In the first step, dataset should be read and some fundamental libraries are called."
   ]
  },
  {
   "cell_type": "code",
   "execution_count": 2,
   "id": "84be419d",
   "metadata": {},
   "outputs": [],
   "source": [
    "import numpy as np \n",
    "import pandas as pd \n",
    "import matplotlib.pyplot as plt\n",
    "\n",
    "df=pd.read_excel('C:/Users/moham/OneDrive/Desktop/Article/Dataset/Final_Dataset.xlsx',na_values=' ')"
   ]
  },
  {
   "cell_type": "markdown",
   "id": "76e7461c",
   "metadata": {},
   "source": [
    "In this section, five first records of the dataset are shown."
   ]
  },
  {
   "cell_type": "code",
   "execution_count": 13,
   "id": "5e5fe294",
   "metadata": {},
   "outputs": [
    {
     "data": {
      "text/html": [
       "<div>\n",
       "<style scoped>\n",
       "    .dataframe tbody tr th:only-of-type {\n",
       "        vertical-align: middle;\n",
       "    }\n",
       "\n",
       "    .dataframe tbody tr th {\n",
       "        vertical-align: top;\n",
       "    }\n",
       "\n",
       "    .dataframe thead th {\n",
       "        text-align: right;\n",
       "    }\n",
       "</style>\n",
       "<table border=\"1\" class=\"dataframe\">\n",
       "  <thead>\n",
       "    <tr style=\"text-align: right;\">\n",
       "      <th></th>\n",
       "      <th>Code</th>\n",
       "      <th>Enter_Date</th>\n",
       "      <th>Enter_Month</th>\n",
       "      <th>Enter_Day_Name</th>\n",
       "      <th>Enter_Year</th>\n",
       "      <th>Enter_Time</th>\n",
       "      <th>Brand</th>\n",
       "      <th>Model</th>\n",
       "      <th>Explanation</th>\n",
       "      <th>Estimated_Price</th>\n",
       "      <th>Received_in_Day</th>\n",
       "      <th>In_Queue</th>\n",
       "      <th>TotalDays</th>\n",
       "      <th>DaysToStart</th>\n",
       "      <th>DaysToFinished</th>\n",
       "    </tr>\n",
       "  </thead>\n",
       "  <tbody>\n",
       "    <tr>\n",
       "      <th>0</th>\n",
       "      <td>CN00000012</td>\n",
       "      <td>2016-02-01</td>\n",
       "      <td>February</td>\n",
       "      <td>Monday</td>\n",
       "      <td>2016</td>\n",
       "      <td>16:20:36</td>\n",
       "      <td>sony</td>\n",
       "      <td>FW</td>\n",
       "      <td>تصوير نمي دهد  يا رندوم  احتمال خاموشي ok  نيست</td>\n",
       "      <td>800000 jتا 1100000</td>\n",
       "      <td>0</td>\n",
       "      <td>1</td>\n",
       "      <td>15</td>\n",
       "      <td>15</td>\n",
       "      <td>0</td>\n",
       "    </tr>\n",
       "    <tr>\n",
       "      <th>1</th>\n",
       "      <td>CN00000086</td>\n",
       "      <td>2016-02-08</td>\n",
       "      <td>February</td>\n",
       "      <td>Monday</td>\n",
       "      <td>2016</td>\n",
       "      <td>18:31:19</td>\n",
       "      <td>DELL</td>\n",
       "      <td>5040</td>\n",
       "      <td>بعد از مدتي خاموش مي کند  احتمال خاموشي ok  فن...</td>\n",
       "      <td>درحال تعمير</td>\n",
       "      <td>1</td>\n",
       "      <td>1</td>\n",
       "      <td>15</td>\n",
       "      <td>12</td>\n",
       "      <td>3</td>\n",
       "    </tr>\n",
       "    <tr>\n",
       "      <th>2</th>\n",
       "      <td>CN00000161</td>\n",
       "      <td>2016-02-09</td>\n",
       "      <td>February</td>\n",
       "      <td>Tuesday</td>\n",
       "      <td>2016</td>\n",
       "      <td>18:31:05</td>\n",
       "      <td>HP</td>\n",
       "      <td>DV2000</td>\n",
       "      <td>فلت 800000  ال اي دي 1850000  نور دارد تصوير ن...</td>\n",
       "      <td>مشکل گرافيک دارد</td>\n",
       "      <td>2</td>\n",
       "      <td>1</td>\n",
       "      <td>18</td>\n",
       "      <td>16</td>\n",
       "      <td>2</td>\n",
       "    </tr>\n",
       "    <tr>\n",
       "      <th>3</th>\n",
       "      <td>CN00000191</td>\n",
       "      <td>2016-02-10</td>\n",
       "      <td>February</td>\n",
       "      <td>Wednesday</td>\n",
       "      <td>2016</td>\n",
       "      <td>18:30:19</td>\n",
       "      <td>sony</td>\n",
       "      <td>SVF14</td>\n",
       "      <td>تصوير نمي دهد  فلت 800000 ال اي دي 1850000 يا ...</td>\n",
       "      <td>ال اي دي چک شد تصوير نمي دهد فلت موجود نيست</td>\n",
       "      <td>3</td>\n",
       "      <td>1</td>\n",
       "      <td>5</td>\n",
       "      <td>5</td>\n",
       "      <td>0</td>\n",
       "    </tr>\n",
       "    <tr>\n",
       "      <th>4</th>\n",
       "      <td>CN00000175</td>\n",
       "      <td>2016-02-11</td>\n",
       "      <td>February</td>\n",
       "      <td>Thursday</td>\n",
       "      <td>2016</td>\n",
       "      <td>12:23:06</td>\n",
       "      <td>MACBOOK</td>\n",
       "      <td>A1278</td>\n",
       "      <td>تصوير پرش دارد   بعد از 5 دقيقه  ابتدا مشکل دي...</td>\n",
       "      <td>0</td>\n",
       "      <td>4</td>\n",
       "      <td>4</td>\n",
       "      <td>46</td>\n",
       "      <td>24</td>\n",
       "      <td>22</td>\n",
       "    </tr>\n",
       "  </tbody>\n",
       "</table>\n",
       "</div>"
      ],
      "text/plain": [
       "         Code Enter_Date Enter_Month Enter_Day_Name  Enter_Year Enter_Time  \\\n",
       "0  CN00000012 2016-02-01    February         Monday        2016   16:20:36   \n",
       "1  CN00000086 2016-02-08    February         Monday        2016   18:31:19   \n",
       "2  CN00000161 2016-02-09    February        Tuesday        2016   18:31:05   \n",
       "3  CN00000191 2016-02-10    February      Wednesday        2016   18:30:19   \n",
       "4  CN00000175 2016-02-11    February       Thursday        2016   12:23:06   \n",
       "\n",
       "                            Brand                           Model  \\\n",
       "0  sony                            FW                               \n",
       "1                            DELL                            5040   \n",
       "2  HP                              DV2000                           \n",
       "3  sony                            SVF14                            \n",
       "4  MACBOOK                         A1278                            \n",
       "\n",
       "                                         Explanation  \\\n",
       "0    تصوير نمي دهد  يا رندوم  احتمال خاموشي ok  نيست   \n",
       "1  بعد از مدتي خاموش مي کند  احتمال خاموشي ok  فن...   \n",
       "2  فلت 800000  ال اي دي 1850000  نور دارد تصوير ن...   \n",
       "3  تصوير نمي دهد  فلت 800000 ال اي دي 1850000 يا ...   \n",
       "4  تصوير پرش دارد   بعد از 5 دقيقه  ابتدا مشکل دي...   \n",
       "\n",
       "                               Estimated_Price  Received_in_Day  In_Queue  \\\n",
       "0                           800000 jتا 1100000                0         1   \n",
       "1                                  درحال تعمير                1         1   \n",
       "2                             مشکل گرافيک دارد                2         1   \n",
       "3  ال اي دي چک شد تصوير نمي دهد فلت موجود نيست                3         1   \n",
       "4                                            0                4         4   \n",
       "\n",
       "   TotalDays  DaysToStart  DaysToFinished  \n",
       "0         15           15               0  \n",
       "1         15           12               3  \n",
       "2         18           16               2  \n",
       "3          5            5               0  \n",
       "4         46           24              22  "
      ]
     },
     "execution_count": 13,
     "metadata": {},
     "output_type": "execute_result"
    }
   ],
   "source": [
    "df.head()"
   ]
  },
  {
   "cell_type": "code",
   "execution_count": 16,
   "id": "f9677159",
   "metadata": {},
   "outputs": [
    {
     "data": {
      "text/plain": [
       "(40365, 15)"
      ]
     },
     "execution_count": 16,
     "metadata": {},
     "output_type": "execute_result"
    }
   ],
   "source": [
    "df.shape"
   ]
  },
  {
   "cell_type": "markdown",
   "id": "a8add975",
   "metadata": {},
   "source": [
    "It should be mentioned that the three last columns are dependent with each other. In other words, the **DaysToStart + DaysToFinished = TotalDays**; DaysToStart give us how long does it takes for a specific device's repair process is started. The DaysToFinished inform us about how long does it takes a repair process for a specific device. As a result, the total waiting-time for a customer is TotalDays.\n",
    "\n",
    "In the following, these two columns will be eliminated. "
   ]
  },
  {
   "cell_type": "code",
   "execution_count": 19,
   "id": "858ba36e",
   "metadata": {},
   "outputs": [
    {
     "name": "stdout",
     "output_type": "stream",
     "text": [
      "<class 'pandas.core.frame.DataFrame'>\n",
      "RangeIndex: 40365 entries, 0 to 40364\n",
      "Data columns (total 13 columns):\n",
      " #   Column           Non-Null Count  Dtype         \n",
      "---  ------           --------------  -----         \n",
      " 0   Code             40365 non-null  object        \n",
      " 1   Enter_Date       40365 non-null  datetime64[ns]\n",
      " 2   Enter_Month      40365 non-null  object        \n",
      " 3   Enter_Day_Name   40365 non-null  object        \n",
      " 4   Enter_Year       40365 non-null  int64         \n",
      " 5   Enter_Time       40365 non-null  object        \n",
      " 6   Brand            40365 non-null  object        \n",
      " 7   Model            40365 non-null  object        \n",
      " 8   Explanation      40341 non-null  object        \n",
      " 9   Estimated_Price  38568 non-null  object        \n",
      " 10  Received_in_Day  40365 non-null  int64         \n",
      " 11  In_Queue         40365 non-null  int64         \n",
      " 12  TotalDays        40365 non-null  int64         \n",
      "dtypes: datetime64[ns](1), int64(4), object(8)\n",
      "memory usage: 4.0+ MB\n"
     ]
    }
   ],
   "source": [
    "df.iloc[:,:13].info()"
   ]
  },
  {
   "cell_type": "markdown",
   "id": "29b4713b",
   "metadata": {},
   "source": [
    "As it shows, the dataset contains both numeric and object variables. Some of the object variables should be considered as categorical, and some of them should be considered as text."
   ]
  },
  {
   "cell_type": "code",
   "execution_count": 20,
   "id": "f4bd72fb",
   "metadata": {},
   "outputs": [
    {
     "data": {
      "text/html": [
       "<div>\n",
       "<style scoped>\n",
       "    .dataframe tbody tr th:only-of-type {\n",
       "        vertical-align: middle;\n",
       "    }\n",
       "\n",
       "    .dataframe tbody tr th {\n",
       "        vertical-align: top;\n",
       "    }\n",
       "\n",
       "    .dataframe thead th {\n",
       "        text-align: right;\n",
       "    }\n",
       "</style>\n",
       "<table border=\"1\" class=\"dataframe\">\n",
       "  <thead>\n",
       "    <tr style=\"text-align: right;\">\n",
       "      <th></th>\n",
       "      <th>Enter_Year</th>\n",
       "      <th>Received_in_Day</th>\n",
       "      <th>In_Queue</th>\n",
       "      <th>TotalDays</th>\n",
       "    </tr>\n",
       "  </thead>\n",
       "  <tbody>\n",
       "    <tr>\n",
       "      <th>count</th>\n",
       "      <td>40365.000000</td>\n",
       "      <td>40365.000000</td>\n",
       "      <td>40365.000000</td>\n",
       "      <td>40365.000000</td>\n",
       "    </tr>\n",
       "    <tr>\n",
       "      <th>mean</th>\n",
       "      <td>2017.499368</td>\n",
       "      <td>233.052199</td>\n",
       "      <td>44.440852</td>\n",
       "      <td>15.619076</td>\n",
       "    </tr>\n",
       "    <tr>\n",
       "      <th>std</th>\n",
       "      <td>1.060353</td>\n",
       "      <td>54.573339</td>\n",
       "      <td>12.222194</td>\n",
       "      <td>32.989805</td>\n",
       "    </tr>\n",
       "    <tr>\n",
       "      <th>min</th>\n",
       "      <td>2016.000000</td>\n",
       "      <td>0.000000</td>\n",
       "      <td>1.000000</td>\n",
       "      <td>0.000000</td>\n",
       "    </tr>\n",
       "    <tr>\n",
       "      <th>25%</th>\n",
       "      <td>2017.000000</td>\n",
       "      <td>200.000000</td>\n",
       "      <td>37.000000</td>\n",
       "      <td>4.000000</td>\n",
       "    </tr>\n",
       "    <tr>\n",
       "      <th>50%</th>\n",
       "      <td>2018.000000</td>\n",
       "      <td>232.000000</td>\n",
       "      <td>44.000000</td>\n",
       "      <td>8.000000</td>\n",
       "    </tr>\n",
       "    <tr>\n",
       "      <th>75%</th>\n",
       "      <td>2018.000000</td>\n",
       "      <td>261.000000</td>\n",
       "      <td>52.000000</td>\n",
       "      <td>16.000000</td>\n",
       "    </tr>\n",
       "    <tr>\n",
       "      <th>max</th>\n",
       "      <td>2019.000000</td>\n",
       "      <td>455.000000</td>\n",
       "      <td>105.000000</td>\n",
       "      <td>975.000000</td>\n",
       "    </tr>\n",
       "  </tbody>\n",
       "</table>\n",
       "</div>"
      ],
      "text/plain": [
       "         Enter_Year  Received_in_Day      In_Queue     TotalDays\n",
       "count  40365.000000     40365.000000  40365.000000  40365.000000\n",
       "mean    2017.499368       233.052199     44.440852     15.619076\n",
       "std        1.060353        54.573339     12.222194     32.989805\n",
       "min     2016.000000         0.000000      1.000000      0.000000\n",
       "25%     2017.000000       200.000000     37.000000      4.000000\n",
       "50%     2018.000000       232.000000     44.000000      8.000000\n",
       "75%     2018.000000       261.000000     52.000000     16.000000\n",
       "max     2019.000000       455.000000    105.000000    975.000000"
      ]
     },
     "execution_count": 20,
     "metadata": {},
     "output_type": "execute_result"
    }
   ],
   "source": [
    "df.iloc[:,:13].describe()"
   ]
  },
  {
   "cell_type": "code",
   "execution_count": 21,
   "id": "d7ff1b2d",
   "metadata": {},
   "outputs": [
    {
     "data": {
      "text/html": [
       "<div>\n",
       "<style scoped>\n",
       "    .dataframe tbody tr th:only-of-type {\n",
       "        vertical-align: middle;\n",
       "    }\n",
       "\n",
       "    .dataframe tbody tr th {\n",
       "        vertical-align: top;\n",
       "    }\n",
       "\n",
       "    .dataframe thead th {\n",
       "        text-align: right;\n",
       "    }\n",
       "</style>\n",
       "<table border=\"1\" class=\"dataframe\">\n",
       "  <thead>\n",
       "    <tr style=\"text-align: right;\">\n",
       "      <th></th>\n",
       "      <th>Code</th>\n",
       "      <th>Enter_Month</th>\n",
       "      <th>Enter_Day_Name</th>\n",
       "      <th>Enter_Time</th>\n",
       "      <th>Brand</th>\n",
       "      <th>Model</th>\n",
       "      <th>Explanation</th>\n",
       "      <th>Estimated_Price</th>\n",
       "    </tr>\n",
       "  </thead>\n",
       "  <tbody>\n",
       "    <tr>\n",
       "      <th>count</th>\n",
       "      <td>40365</td>\n",
       "      <td>40365</td>\n",
       "      <td>40365</td>\n",
       "      <td>40365</td>\n",
       "      <td>40365</td>\n",
       "      <td>40365</td>\n",
       "      <td>40341</td>\n",
       "      <td>38568</td>\n",
       "    </tr>\n",
       "    <tr>\n",
       "      <th>unique</th>\n",
       "      <td>39876</td>\n",
       "      <td>12</td>\n",
       "      <td>6</td>\n",
       "      <td>24021</td>\n",
       "      <td>46</td>\n",
       "      <td>2853</td>\n",
       "      <td>23318</td>\n",
       "      <td>3346</td>\n",
       "    </tr>\n",
       "    <tr>\n",
       "      <th>top</th>\n",
       "      <td>CN00000851</td>\n",
       "      <td>July</td>\n",
       "      <td>Saturday</td>\n",
       "      <td>15:52:53</td>\n",
       "      <td>ASUS</td>\n",
       "      <td>N5010</td>\n",
       "      <td>روشن نمي شود</td>\n",
       "      <td>800000</td>\n",
       "    </tr>\n",
       "    <tr>\n",
       "      <th>freq</th>\n",
       "      <td>4</td>\n",
       "      <td>4269</td>\n",
       "      <td>7324</td>\n",
       "      <td>8</td>\n",
       "      <td>7957</td>\n",
       "      <td>1380</td>\n",
       "      <td>2621</td>\n",
       "      <td>4713</td>\n",
       "    </tr>\n",
       "  </tbody>\n",
       "</table>\n",
       "</div>"
      ],
      "text/plain": [
       "              Code Enter_Month Enter_Day_Name Enter_Time  \\\n",
       "count        40365       40365          40365      40365   \n",
       "unique       39876          12              6      24021   \n",
       "top     CN00000851        July       Saturday   15:52:53   \n",
       "freq             4        4269           7324          8   \n",
       "\n",
       "                                 Brand                           Model  \\\n",
       "count                            40365                           40365   \n",
       "unique                              46                            2853   \n",
       "top     ASUS                            N5010                            \n",
       "freq                              7957                            1380   \n",
       "\n",
       "         Explanation  Estimated_Price  \n",
       "count          40341            38568  \n",
       "unique         23318             3346  \n",
       "top     روشن نمي شود           800000  \n",
       "freq            2621             4713  "
      ]
     },
     "execution_count": 21,
     "metadata": {},
     "output_type": "execute_result"
    }
   ],
   "source": [
    "df.iloc[:,:13].describe(include=object)"
   ]
  },
  {
   "cell_type": "markdown",
   "id": "4d402f99",
   "metadata": {},
   "source": [
    "Up to here, some basic intuition about the dataset has been built. In the following, each column will be analyzed one by one.\n",
    "\n",
    "## X1: Code"
   ]
  },
  {
   "cell_type": "code",
   "execution_count": 25,
   "id": "3192cb7b",
   "metadata": {},
   "outputs": [
    {
     "data": {
      "text/plain": [
       "count          40365\n",
       "unique         39876\n",
       "top       CN00000851\n",
       "freq               4\n",
       "Name: Code, dtype: object"
      ]
     },
     "execution_count": 25,
     "metadata": {},
     "output_type": "execute_result"
    }
   ],
   "source": [
    "df.iloc[:,0].describe(include=object)"
   ]
  },
  {
   "cell_type": "code",
   "execution_count": 26,
   "id": "148d7e1a",
   "metadata": {},
   "outputs": [
    {
     "data": {
      "text/plain": [
       "0    CN00000851\n",
       "Name: Code, dtype: object"
      ]
     },
     "execution_count": 26,
     "metadata": {},
     "output_type": "execute_result"
    }
   ],
   "source": [
    "df.iloc[:,0].mode()"
   ]
  },
  {
   "cell_type": "markdown",
   "id": "3c316012",
   "metadata": {},
   "source": [
    "Because of some extranious action in the company, a unique ID may be repeated in the dataset. For example, if a device was repaired by the company, but it wil be received by company within a two month for re-repairing, the former unique ID is assigned again. Also, due to the some mistake in recording, they may be repeated in the dataset. \n",
    "\n",
    "It would be better if these repeated data will be eliminated from the dataset.\n",
    "\n",
    "\n",
    "## X2: Enter_date:\n",
    "A column which has a information about the date of entering of each electronic device. (Type: Date)"
   ]
  },
  {
   "cell_type": "code",
   "execution_count": 30,
   "id": "78a1c287",
   "metadata": {},
   "outputs": [
    {
     "name": "stderr",
     "output_type": "stream",
     "text": [
      "C:\\Users\\moham\\AppData\\Local\\Temp\\ipykernel_23440\\2083568345.py:2: FutureWarning: Treating datetime data as categorical rather than numeric in `.describe` is deprecated and will be removed in a future version of pandas. Specify `datetime_is_numeric=True` to silence this warning and adopt the future behavior now.\n",
      "  df.iloc[:,1].describe(include=all)\n"
     ]
    },
    {
     "data": {
      "text/plain": [
       "count                   40365\n",
       "unique                   1005\n",
       "top       2017-02-21 00:00:00\n",
       "freq                      105\n",
       "first     2016-02-01 00:00:00\n",
       "last      2019-09-04 00:00:00\n",
       "Name: Enter_Date, dtype: object"
      ]
     },
     "execution_count": 30,
     "metadata": {},
     "output_type": "execute_result"
    }
   ],
   "source": [
    "df.iloc[:,1]=df.iloc[:,1].agg(pd.Timestamp)\n",
    "df.iloc[:,1].describe(include=all)"
   ]
  },
  {
   "cell_type": "code",
   "execution_count": 42,
   "id": "773ab0a5",
   "metadata": {},
   "outputs": [
    {
     "data": {
      "text/plain": [
       "(array([2998., 3918., 3653., 3379., 4177., 3798., 4122., 5142., 4478.,\n",
       "        4700.]),\n",
       " array([16832. , 16963.1, 17094.2, 17225.3, 17356.4, 17487.5, 17618.6,\n",
       "        17749.7, 17880.8, 18011.9, 18143. ]),\n",
       " <BarContainer object of 10 artists>)"
      ]
     },
     "execution_count": 42,
     "metadata": {},
     "output_type": "execute_result"
    },
    {
     "data": {
      "image/png": "[encoded data removed]",
      "text/plain": [
       "<Figure size 576x432 with 1 Axes>"
      ]
     },
     "metadata": {
      "needs_background": "light"
     },
     "output_type": "display_data"
    }
   ],
   "source": [
    "plt.figure(figsize=(8, 6))\n",
    "plt.title('Histogram of the Date')\n",
    "plt.xlabel('Date')\n",
    "plt.ylabel('Frequent')\n",
    "plt.grid(linestyle='-', linewidth=0.5)\n",
    "plt.hist(df.iloc[:,1], edgecolor=\"black\")"
   ]
  },
  {
   "cell_type": "markdown",
   "id": "c0ecfd7b",
   "metadata": {},
   "source": [
    "It is understandable that by passing time, the number of devices are received by the company is increased. For having better intution, the date was spreated into three different columns, day, month, and year for studying the data precisely.\n",
    "\n",
    "## X3: Enter_Day_Name\n",
    "## X4: Enter_Month\n",
    "## X5: Enter_Year"
   ]
  },
  {
   "cell_type": "code",
   "execution_count": 51,
   "id": "9596f78f",
   "metadata": {},
   "outputs": [
    {
     "data": {
      "text/html": [
       "<div>\n",
       "<style scoped>\n",
       "    .dataframe tbody tr th:only-of-type {\n",
       "        vertical-align: middle;\n",
       "    }\n",
       "\n",
       "    .dataframe tbody tr th {\n",
       "        vertical-align: top;\n",
       "    }\n",
       "\n",
       "    .dataframe thead th {\n",
       "        text-align: right;\n",
       "    }\n",
       "</style>\n",
       "<table border=\"1\" class=\"dataframe\">\n",
       "  <thead>\n",
       "    <tr style=\"text-align: right;\">\n",
       "      <th></th>\n",
       "      <th>Enter_Month</th>\n",
       "      <th>Enter_Day_Name</th>\n",
       "      <th>Enter_Year</th>\n",
       "    </tr>\n",
       "  </thead>\n",
       "  <tbody>\n",
       "    <tr>\n",
       "      <th>count</th>\n",
       "      <td>40365</td>\n",
       "      <td>40365</td>\n",
       "      <td>40365</td>\n",
       "    </tr>\n",
       "    <tr>\n",
       "      <th>unique</th>\n",
       "      <td>12</td>\n",
       "      <td>6</td>\n",
       "      <td>4</td>\n",
       "    </tr>\n",
       "    <tr>\n",
       "      <th>top</th>\n",
       "      <td>July</td>\n",
       "      <td>Saturday</td>\n",
       "      <td>2018</td>\n",
       "    </tr>\n",
       "    <tr>\n",
       "      <th>freq</th>\n",
       "      <td>4269</td>\n",
       "      <td>7324</td>\n",
       "      <td>12357</td>\n",
       "    </tr>\n",
       "  </tbody>\n",
       "</table>\n",
       "</div>"
      ],
      "text/plain": [
       "       Enter_Month Enter_Day_Name  Enter_Year\n",
       "count        40365          40365       40365\n",
       "unique          12              6           4\n",
       "top           July       Saturday        2018\n",
       "freq          4269           7324       12357"
      ]
     },
     "execution_count": 51,
     "metadata": {},
     "output_type": "execute_result"
    }
   ],
   "source": [
    "df.iloc[:,4] = df.iloc[:,4].astype(object)\n",
    "df.iloc[:,2:5].describe(include=object)"
   ]
  },
  {
   "cell_type": "code",
   "execution_count": 94,
   "id": "584b1840",
   "metadata": {},
   "outputs": [
    {
     "data": {
      "text/plain": [
       "Text(0, 0.5, 'Frequency')"
      ]
     },
     "execution_count": 94,
     "metadata": {},
     "output_type": "execute_result"
    },
    {
     "data": {
      "image/png": "[encoded data removed]",
      "text/plain": [
       "<Figure size 720x432 with 1 Axes>"
      ]
     },
     "metadata": {},
     "output_type": "display_data"
    }
   ],
   "source": [
    "ax = df.iloc[:,2].value_counts().plot(kind='bar',\n",
    "                                    figsize=(10,6),\n",
    "                                    title=\"Number of received devices in each month\")\n",
    "ax.set_xlabel(\"Month\")\n",
    "ax.set_ylabel(\"Frequency\")"
   ]
  },
  {
   "cell_type": "code",
   "execution_count": 95,
   "id": "c77bce5c",
   "metadata": {},
   "outputs": [
    {
     "data": {
      "text/plain": [
       "Text(0, 0.5, 'Frequency')"
      ]
     },
     "execution_count": 95,
     "metadata": {},
     "output_type": "execute_result"
    },
    {
     "data": {
      "image/png": "[encoded data removed]",
      "text/plain": [
       "<Figure size 720x432 with 1 Axes>"
      ]
     },
     "metadata": {},
     "output_type": "display_data"
    }
   ],
   "source": [
    "ax = df.iloc[:,3].value_counts().plot(kind='bar',\n",
    "                                    figsize=(10,6),\n",
    "                                    title=\"Number of received devices in each day\")\n",
    "ax.set_xlabel(\"Days\")\n",
    "ax.set_ylabel(\"Frequency\")"
   ]
  },
  {
   "cell_type": "code",
   "execution_count": 97,
   "id": "e77130a2",
   "metadata": {},
   "outputs": [
    {
     "data": {
      "text/plain": [
       "Text(0, 0.5, 'Frequency')"
      ]
     },
     "execution_count": 97,
     "metadata": {},
     "output_type": "execute_result"
    },
    {
     "data": {
      "image/png": "[encoded data removed]",
      "text/plain": [
       "<Figure size 720x576 with 1 Axes>"
      ]
     },
     "metadata": {},
     "output_type": "display_data"
    }
   ],
   "source": [
    "ax = df.iloc[:,4].value_counts().plot(kind='bar',\n",
    "                                    figsize=(10,8),\n",
    "                                    title=\"Number of received devices in each year\")\n",
    "ax.set_xlabel(\"Year\")\n",
    "ax.set_ylabel(\"Frequency\")"
   ]
  },
  {
   "cell_type": "markdown",
   "id": "a54f60d8",
   "metadata": {},
   "source": [
    "From this part, it can be percieved that in the **March**, the number of received devices is minimum, since the new year of Iran is happen in this month, and so the activities of the company is in the low performance. Also, **Thursday**, has significantly the lowest received devices in compare with other days. Because the next day is Friday, which is a holyday in Iran, and customers reluctant to visit the company in this day.\n",
    "\n",
    "## X6: Time\n",
    "It indicates the time when the company receives a device."
   ]
  },
  {
   "cell_type": "code",
   "execution_count": 101,
   "id": "e4288650",
   "metadata": {},
   "outputs": [
    {
     "data": {
      "text/plain": [
       "count        40365\n",
       "unique       24021\n",
       "top       15:52:53\n",
       "freq             8\n",
       "Name: Enter_Time, dtype: object"
      ]
     },
     "execution_count": 101,
     "metadata": {},
     "output_type": "execute_result"
    }
   ],
   "source": [
    "df.iloc[:,5].describe(include=all)"
   ]
  },
  {
   "cell_type": "markdown",
   "id": "a2183ae0",
   "metadata": {},
   "source": [
    "For exhibiting the time distribution, it needs to be transformed into numeric. As a result, the codes below are developed to store the integer value of time in a temporary array."
   ]
  },
  {
   "cell_type": "code",
   "execution_count": 123,
   "id": "ff2dc5ae",
   "metadata": {},
   "outputs": [],
   "source": [
    "from datetime import *\n",
    "\n",
    "df.iloc[:,5]=df.iloc[:,5].agg(pd.Timestamp)\n",
    "\n",
    "Time = np.zeros((len(df),1))\n",
    "for i in range(len(df)):\n",
    "    Time[i] = df.iloc[i,5].hour + (df.iloc[i,5].minute/60)"
   ]
  },
  {
   "cell_type": "code",
   "execution_count": 136,
   "id": "1700156b",
   "metadata": {},
   "outputs": [
    {
     "data": {
      "text/plain": [
       "(array([  19., 1879., 3383., 4397., 4869., 4517., 4512., 4281., 3868.,\n",
       "        4088., 4028.,  453.]),\n",
       " array([ 8,  9, 10, 11, 12, 13, 14, 15, 16, 17, 18, 19, 20]),\n",
       " <BarContainer object of 12 artists>)"
      ]
     },
     "execution_count": 136,
     "metadata": {},
     "output_type": "execute_result"
    },
    {
     "data": {
      "image/png": "[encoded data removed]",
      "text/plain": [
       "<Figure size 576x432 with 1 Axes>"
      ]
     },
     "metadata": {},
     "output_type": "display_data"
    }
   ],
   "source": [
    "plt.figure(figsize=(8, 6))\n",
    "plt.title('Histogram of the arrival time')\n",
    "plt.xlabel('Time')\n",
    "plt.ylabel('Frequent')\n",
    "plt.grid(linestyle='-', linewidth=0.5)\n",
    "plt.hist(Time, bins=range(8,21,1), edgecolor=\"black\")"
   ]
  },
  {
   "cell_type": "markdown",
   "id": "3b302a12",
   "metadata": {},
   "source": [
    "The histogram of the arrival time manifests that 12 pm and 17 pm can be considered as two maximum of the two separate Normal distributions. All in all, it indicates the fact that customers prefer to come to the company in the meanwhile rather than early morning or late at night, which is logical.\n",
    "\n",
    "\n",
    "## X7: Brand\n",
    "This column is included technical information about devices which are arrived in the company. Specifically, this column has stored the brand of each laptop."
   ]
  },
  {
   "cell_type": "code",
   "execution_count": 137,
   "id": "405124e6",
   "metadata": {},
   "outputs": [
    {
     "data": {
      "text/plain": [
       "count                              40365\n",
       "unique                                46\n",
       "top       ASUS                          \n",
       "freq                                7957\n",
       "Name: Brand, dtype: object"
      ]
     },
     "execution_count": 137,
     "metadata": {},
     "output_type": "execute_result"
    }
   ],
   "source": [
    "df.iloc[:,6].describe(include=object)"
   ]
  },
  {
   "cell_type": "code",
   "execution_count": 142,
   "id": "620e7bc1",
   "metadata": {},
   "outputs": [
    {
     "data": {
      "text/plain": [
       "Text(0, 0.5, 'Frequency')"
      ]
     },
     "execution_count": 142,
     "metadata": {},
     "output_type": "execute_result"
    },
    {
     "data": {
      "image/png": "[encoded data removed]",
      "text/plain": [
       "<Figure size 720x432 with 1 Axes>"
      ]
     },
     "metadata": {},
     "output_type": "display_data"
    }
   ],
   "source": [
    "ax = df.iloc[:,6].value_counts()[:10].plot(kind='bar',\n",
    "                                    figsize=(10,6),\n",
    "                                    title=\"Number of received devices in each brand\")\n",
    "ax.set_xlabel(\"Brand\")\n",
    "ax.set_ylabel(\"Frequency\")"
   ]
  },
  {
   "cell_type": "code",
   "execution_count": 143,
   "id": "4ca374dd",
   "metadata": {},
   "outputs": [
    {
     "data": {
      "text/plain": [
       "array(['sony                          ', 'DELL',\n",
       "       'HP                            ', 'MACBOOK                       ',\n",
       "       'COMPAQ                        ', 'ASUS                          ',\n",
       "       'LENOVO', 'MSI                           ',\n",
       "       'ACER                          ', 'TOSHIBA', 'SAMSUNG',\n",
       "       'FUJITSU SIEMENS', 'GIGABYTE', 'LENOVO                        ',\n",
       "       'TOSHIBA                       ', 'EMACHINE',\n",
       "       'متفرقه                        ', 'PACKARD BELL                  ',\n",
       "       'GATEWAY                       ', 'LG                            ',\n",
       "       'SAMSUNG                       ', 'HASEE                         ',\n",
       "       'suzuki                        ', 'APPLE                         ',\n",
       "       'ADVANT                        ', 'GIGABYTE                      ',\n",
       "       'HYUNDAI                       ', 'ZENITH                        ',\n",
       "       'SIEMENS                       ', 'ASROCK                        ',\n",
       "       'SONY                          ', 'SUZUKI                        ',\n",
       "       'متفرقه', 'TEAM                          ',\n",
       "       'LCD                           ', 'DELL                          ',\n",
       "       'ELPIDA                        ', 'EMACHINE                      ',\n",
       "       'SEAGATE                       ', 'WD                            ',\n",
       "       'KINGSTON                      ', 'FUJITSU SIEMENS               ',\n",
       "       'SONY ERICSSON                 ', 'CRUCIAL                       ',\n",
       "       'DELTA                         ', 'XIAOMI                        '],\n",
       "      dtype=object)"
      ]
     },
     "execution_count": 143,
     "metadata": {},
     "output_type": "execute_result"
    }
   ],
   "source": [
    "df.iloc[:,6].unique()"
   ]
  },
  {
   "cell_type": "markdown",
   "id": "02e9916d",
   "metadata": {},
   "source": [
    "Because of several typos and dichotomy in writing the name of each specific brand by clerks, some of them are distinguished differently but the truth is there are the same. To tackle this problem, the text here should be normalized. As a result, **spaces should be eliminated and also all characters should be uppercase**."
   ]
  },
  {
   "cell_type": "code",
   "execution_count": 162,
   "id": "479740e9",
   "metadata": {},
   "outputs": [
    {
     "data": {
      "text/plain": [
       "array(['SONY', 'DELL', 'HP', 'MACBOOK', 'COMPAQ', 'ASUS', 'LENOVO', 'MSI',\n",
       "       'ACER', 'TOSHIBA', 'SAMSUNG', 'FUJITSUSIEMENS', 'GIGABYTE',\n",
       "       'EMACHINE', 'متفرقه', 'PACKARDBELL', 'GATEWAY', 'LG', 'HASEE',\n",
       "       'SUZUKI', 'APPLE', 'ADVANT', 'HYUNDAI', 'ZENITH', 'SIEMENS',\n",
       "       'ASROCK', 'TEAM', 'LCD', 'ELPIDA', 'SEAGATE', 'WD', 'KINGSTON',\n",
       "       'SONYERICSSON', 'CRUCIAL', 'DELTA', 'XIAOMI'], dtype=object)"
      ]
     },
     "execution_count": 162,
     "metadata": {},
     "output_type": "execute_result"
    }
   ],
   "source": [
    "df.iloc[:,6].agg(lambda x: x.replace(' ','').upper()).unique()"
   ]
  },
  {
   "cell_type": "code",
   "execution_count": 163,
   "id": "bf2cdb7e",
   "metadata": {},
   "outputs": [],
   "source": [
    "df.iloc[:,6] = df.iloc[:,6].agg(lambda x: x.replace(' ','').upper())"
   ]
  },
  {
   "cell_type": "code",
   "execution_count": 166,
   "id": "2da35e57",
   "metadata": {},
   "outputs": [
    {
     "data": {
      "text/plain": [
       "Text(0, 0.5, 'Frequency')"
      ]
     },
     "execution_count": 166,
     "metadata": {},
     "output_type": "execute_result"
    },
    {
     "data": {
      "image/png": "[encoded data removed]",
      "text/plain": [
       "<Figure size 720x432 with 1 Axes>"
      ]
     },
     "metadata": {},
     "output_type": "display_data"
    }
   ],
   "source": [
    "ax = df.iloc[:,6].value_counts()[:11].plot(kind='bar',\n",
    "                                    figsize=(10,6),\n",
    "                                    title=\"Number of received devices in each brand\")\n",
    "ax.set_xlabel(\"Brand\")\n",
    "ax.set_ylabel(\"Frequency\")"
   ]
  },
  {
   "cell_type": "markdown",
   "id": "af1803e2",
   "metadata": {},
   "source": [
    "## X8: Model\n",
    "As same as the previous column, it has stored the model of each laptop that the company receives"
   ]
  },
  {
   "cell_type": "code",
   "execution_count": 167,
   "id": "730d92c2",
   "metadata": {},
   "outputs": [
    {
     "data": {
      "text/plain": [
       "count                              40365\n",
       "unique                              2853\n",
       "top       N5010                         \n",
       "freq                                1380\n",
       "Name: Model, dtype: object"
      ]
     },
     "execution_count": 167,
     "metadata": {},
     "output_type": "execute_result"
    }
   ],
   "source": [
    "df.iloc[:,7].describe(include=object)"
   ]
  },
  {
   "cell_type": "markdown",
   "id": "191750a0",
   "metadata": {},
   "source": [
    "*Normalizing the column*"
   ]
  },
  {
   "cell_type": "code",
   "execution_count": 171,
   "id": "97415add",
   "metadata": {},
   "outputs": [],
   "source": [
    "df.iloc[:,7] = df.iloc[:,7].apply(str)"
   ]
  },
  {
   "cell_type": "code",
   "execution_count": 172,
   "id": "56005cd1",
   "metadata": {},
   "outputs": [],
   "source": [
    "df.iloc[:,7] = df.iloc[:,7].agg(lambda x: x.replace(' ','').upper())"
   ]
  },
  {
   "cell_type": "code",
   "execution_count": 173,
   "id": "9acc86db",
   "metadata": {},
   "outputs": [
    {
     "data": {
      "text/plain": [
       "count     40365\n",
       "unique     2774\n",
       "top       N5010\n",
       "freq       2185\n",
       "Name: Model, dtype: object"
      ]
     },
     "execution_count": 173,
     "metadata": {},
     "output_type": "execute_result"
    }
   ],
   "source": [
    "df.iloc[:,7].describe(include=object)"
   ]
  },
  {
   "cell_type": "markdown",
   "id": "3ec9182c",
   "metadata": {},
   "source": [
    "*Since the model is entirely pertinent to the brand, in the following codes, a histogram will be depicted showing the number of different models embedded in each brand.*"
   ]
  },
  {
   "cell_type": "code",
   "execution_count": 195,
   "id": "1f55af93",
   "metadata": {},
   "outputs": [],
   "source": [
    "brand = df.groupby('Brand')['Model'].nunique()"
   ]
  },
  {
   "cell_type": "code",
   "execution_count": 220,
   "id": "f0aef5c0",
   "metadata": {},
   "outputs": [
    {
     "data": {
      "image/png": "[encoded data removed]",
      "text/plain": [
       "<Figure size 720x432 with 1 Axes>"
      ]
     },
     "metadata": {},
     "output_type": "display_data"
    }
   ],
   "source": [
    "brand = brand.sort_values(ascending=False)\n",
    "height = brand\n",
    "bars = (brand.index)\n",
    "y_pos = np.arange(len(bars))\n",
    "\n",
    "\n",
    "plt.figure(figsize=(10, 6))\n",
    "plt.bar(y_pos[:11], height[:11])\n",
    "\n",
    "plt.title('Number of different models in each brand')\n",
    "plt.xlabel('Brand')\n",
    "plt.ylabel('Number')\n",
    "plt.xticks(y_pos[:11], bars[:11])\n",
    "plt.xticks(rotation=45)\n",
    "\n",
    "plt.show()"
   ]
  },
  {
   "cell_type": "markdown",
   "id": "2cd764ac",
   "metadata": {},
   "source": [
    "## X9: Explenation\n",
    "This column contains notes that have been recorded by technicians about the condition of each device before entering the repair process."
   ]
  },
  {
   "cell_type": "code",
   "execution_count": 221,
   "id": "7560083c",
   "metadata": {},
   "outputs": [
    {
     "data": {
      "text/plain": [
       "count            40341\n",
       "unique           23318\n",
       "top       روشن نمي شود\n",
       "freq              2621\n",
       "Name: Explanation, dtype: object"
      ]
     },
     "execution_count": 221,
     "metadata": {},
     "output_type": "execute_result"
    }
   ],
   "source": [
    "df.iloc[:,8].describe(include=object)"
   ]
  },
  {
   "cell_type": "code",
   "execution_count": 224,
   "id": "b8daf23d",
   "metadata": {},
   "outputs": [
    {
     "data": {
      "text/plain": [
       "Text(0, 0.5, 'Frequency')"
      ]
     },
     "execution_count": 224,
     "metadata": {},
     "output_type": "execute_result"
    },
    {
     "data": {
      "image/png": "[encoded data removed]",
      "text/plain": [
       "<Figure size 720x432 with 1 Axes>"
      ]
     },
     "metadata": {},
     "output_type": "display_data"
    }
   ],
   "source": [
    "ax = df.iloc[:,8].value_counts()[:11].plot(kind='bar',\n",
    "                                    figsize=(10,6),\n",
    "                                    title=\"Some of the frequent explanations in the dataset\")\n",
    "ax.set_xlabel(\"Explanation\")\n",
    "ax.set_ylabel(\"Frequency\")"
   ]
  },
  {
   "cell_type": "markdown",
   "id": "5acc8d88",
   "metadata": {},
   "source": [
    "**This variable needs to be preprocessed by NLP techniques to normalize, clean, and extract valuable insight.**"
   ]
  },
  {
   "cell_type": "markdown",
   "id": "c5e34c65",
   "metadata": {},
   "source": [
    "## X10: Estmation \n",
    "This column contains the estimation of the cost that technicians provide for each device before entering the repair process.\n",
    "But, this column is not neat, since it is included both numbers and text simultaneously. "
   ]
  },
  {
   "cell_type": "code",
   "execution_count": 225,
   "id": "1aec13ed",
   "metadata": {},
   "outputs": [
    {
     "data": {
      "text/plain": [
       "count      38568\n",
       "unique      3346\n",
       "top       800000\n",
       "freq        4713\n",
       "Name: Estimated_Price, dtype: int64"
      ]
     },
     "execution_count": 225,
     "metadata": {},
     "output_type": "execute_result"
    }
   ],
   "source": [
    "df.iloc[:,9].describe(include=object)"
   ]
  },
  {
   "cell_type": "markdown",
   "id": "e67af700",
   "metadata": {},
   "source": [
    "## X12: Number_of_devices_have_been_in_the_system \n",
    "This column indicates that how many devices are waiting to be repaired, or under repairing, when a new device is arrived in the company."
   ]
  },
  {
   "cell_type": "code",
   "execution_count": 226,
   "id": "be4bfb30",
   "metadata": {},
   "outputs": [
    {
     "data": {
      "text/plain": [
       "count    40365.000000\n",
       "mean       233.052199\n",
       "std         54.573339\n",
       "min          0.000000\n",
       "25%        200.000000\n",
       "50%        232.000000\n",
       "75%        261.000000\n",
       "max        455.000000\n",
       "Name: Received_in_Day, dtype: float64"
      ]
     },
     "execution_count": 226,
     "metadata": {},
     "output_type": "execute_result"
    }
   ],
   "source": [
    "df.iloc[:,10].describe()"
   ]
  },
  {
   "cell_type": "code",
   "execution_count": 237,
   "id": "5076137c",
   "metadata": {},
   "outputs": [
    {
     "data": {
      "text/plain": [
       "(array([  13.,   16.,   13.,   14.,   19.,   72.,  121.,  105.,   70.,\n",
       "          84.,  183.,  191.,  271.,  238.,  347.,  652., 1195., 1659.,\n",
       "        2121., 2516., 2806., 3184., 3425., 3610., 3638., 3181., 2395.,\n",
       "        1850., 1421., 1154.,  915.,  729.,  530.,  338.,  179.,  108.,\n",
       "         112.,  133.,  158.,  166.,  155.,  113.,   89.,   47.,   23.,\n",
       "           6.,    0.,    0.,    0.]),\n",
       " array([  0,  10,  20,  30,  40,  50,  60,  70,  80,  90, 100, 110, 120,\n",
       "        130, 140, 150, 160, 170, 180, 190, 200, 210, 220, 230, 240, 250,\n",
       "        260, 270, 280, 290, 300, 310, 320, 330, 340, 350, 360, 370, 380,\n",
       "        390, 400, 410, 420, 430, 440, 450, 460, 470, 480, 490]),\n",
       " <BarContainer object of 49 artists>)"
      ]
     },
     "execution_count": 237,
     "metadata": {},
     "output_type": "execute_result"
    },
    {
     "data": {
      "image/png": "[encoded data removed]",
      "text/plain": [
       "<Figure size 576x432 with 1 Axes>"
      ]
     },
     "metadata": {},
     "output_type": "display_data"
    }
   ],
   "source": [
    "plt.figure(figsize=(8, 6))\n",
    "plt.title('The number of devices is already in the repair process before a new device is entered')\n",
    "plt.xlabel('Number of devices')\n",
    "plt.ylabel('Frequent')\n",
    "plt.grid(linestyle='-', linewidth=0.5)\n",
    "plt.hist(df.iloc[:,10], bins=range(0,500,10), edgecolor=\"black\")"
   ]
  },
  {
   "cell_type": "markdown",
   "id": "51c35e13",
   "metadata": {},
   "source": [
    "## X13: Number_of_devices_are_received_today\n",
    "This column indicates how many devices are received in a day that the new device arrives as well."
   ]
  },
  {
   "cell_type": "code",
   "execution_count": 238,
   "id": "11b68861",
   "metadata": {},
   "outputs": [
    {
     "data": {
      "text/plain": [
       "count    40365.000000\n",
       "mean        44.440852\n",
       "std         12.222194\n",
       "min          1.000000\n",
       "25%         37.000000\n",
       "50%         44.000000\n",
       "75%         52.000000\n",
       "max        105.000000\n",
       "Name: In_Queue, dtype: float64"
      ]
     },
     "execution_count": 238,
     "metadata": {},
     "output_type": "execute_result"
    }
   ],
   "source": [
    "df.iloc[:,11].describe()"
   ]
  },
  {
   "cell_type": "code",
   "execution_count": 243,
   "id": "60748029",
   "metadata": {},
   "outputs": [
    {
     "data": {
      "text/plain": [
       "(array([  20.,  137.,  108.,  348.,  819., 2353., 4069., 5956., 7492.,\n",
       "        6564., 5190., 3299., 1787.,  939.,  788.,  309.,   82.,    0.,\n",
       "           0.,    0.,    0.,  105.,    0.]),\n",
       " array([  0,   5,  10,  15,  20,  25,  30,  35,  40,  45,  50,  55,  60,\n",
       "         65,  70,  75,  80,  85,  90,  95, 100, 105, 110, 115]),\n",
       " <BarContainer object of 23 artists>)"
      ]
     },
     "execution_count": 243,
     "metadata": {},
     "output_type": "execute_result"
    },
    {
     "data": {
      "image/png": "[encoded data removed]",
      "text/plain": [
       "<Figure size 576x432 with 1 Axes>"
      ]
     },
     "metadata": {},
     "output_type": "display_data"
    }
   ],
   "source": [
    "plt.figure(figsize=(8, 6))\n",
    "plt.title('The number of devices are received in a day')\n",
    "plt.xlabel('Number of devices')\n",
    "plt.ylabel('Frequent')\n",
    "plt.grid(linestyle='-', linewidth=0.5)\n",
    "plt.hist(df.iloc[:,11], bins=range(0,120,5), edgecolor=\"black\")"
   ]
  },
  {
   "cell_type": "markdown",
   "id": "59ed1225",
   "metadata": {},
   "source": [
    "## Y: Waiting_Time!\n",
    "This is the labeled column, or response column of the project:"
   ]
  },
  {
   "cell_type": "code",
   "execution_count": 244,
   "id": "8f5754e5",
   "metadata": {},
   "outputs": [
    {
     "data": {
      "text/plain": [
       "count    40365.000000\n",
       "mean        15.619076\n",
       "std         32.989805\n",
       "min          0.000000\n",
       "25%          4.000000\n",
       "50%          8.000000\n",
       "75%         16.000000\n",
       "max        975.000000\n",
       "Name: TotalDays, dtype: float64"
      ]
     },
     "execution_count": 244,
     "metadata": {},
     "output_type": "execute_result"
    }
   ],
   "source": [
    "df.iloc[:,12].describe()"
   ]
  },
  {
   "cell_type": "code",
   "execution_count": 3,
   "id": "1e115102",
   "metadata": {},
   "outputs": [
    {
     "data": {
      "text/plain": [
       "(array([11512., 11454.,  6414.,  3290.,  2112.,  1268.,   831.,   611.,\n",
       "          433.,   353.,   238.,   213.,   171.,   154.,   124.,   141.,\n",
       "          133.,    78.,    82.,    65.,    53.,    53.,    50.]),\n",
       " array([  0,   5,  10,  15,  20,  25,  30,  35,  40,  45,  50,  55,  60,\n",
       "         65,  70,  75,  80,  85,  90,  95, 100, 105, 110, 115]),\n",
       " <BarContainer object of 23 artists>)"
      ]
     },
     "execution_count": 3,
     "metadata": {},
     "output_type": "execute_result"
    },
    {
     "data": {
      "image/png": "[encoded data removed]",
      "text/plain": [
       "<Figure size 576x432 with 1 Axes>"
      ]
     },
     "metadata": {
      "needs_background": "light"
     },
     "output_type": "display_data"
    }
   ],
   "source": [
    "plt.figure(figsize=(8, 6))\n",
    "plt.title('Waiting Time')\n",
    "plt.xlabel('Days')\n",
    "plt.ylabel('Frequent')\n",
    "plt.grid(linestyle='-', linewidth=0.5)\n",
    "plt.hist(df.iloc[:,12], bins=range(0,120,5), edgecolor=\"black\")"
   ]
  },
  {
   "cell_type": "code",
   "execution_count": 6,
   "id": "71626137",
   "metadata": {},
   "outputs": [
    {
     "data": {
      "text/plain": [
       "(array([11593.,  7757.,  4024.,  2776.,  2155.,  1555.,  1346.,  1142.,\n",
       "          790.,   593.,   505.,   477.,   391.,   401.,   411.,   292.,\n",
       "          217.,   209.,   212.,   166.,   177.,   169.,   155.,   126.,\n",
       "           97.,    88.,    85.,    80.,   165.]),\n",
       " array([ 0,  1,  2,  3,  4,  5,  6,  7,  8,  9, 10, 11, 12, 13, 14, 15, 16,\n",
       "        17, 18, 19, 20, 21, 22, 23, 24, 25, 26, 27, 28, 29]),\n",
       " <BarContainer object of 29 artists>)"
      ]
     },
     "execution_count": 6,
     "metadata": {},
     "output_type": "execute_result"
    },
    {
     "data": {
      "image/png": "[encoded data removed]",
      "text/plain": [
       "<Figure size 576x432 with 1 Axes>"
      ]
     },
     "metadata": {
      "needs_background": "light"
     },
     "output_type": "display_data"
    }
   ],
   "source": [
    "plt.figure(figsize=(8, 6))\n",
    "plt.title('Waiting Time')\n",
    "plt.xlabel('Days')\n",
    "plt.ylabel('Frequent')\n",
    "plt.grid(linestyle='-', linewidth=0.5)\n",
    "plt.hist(df.iloc[:,14], bins=range(0,30,1), edgecolor=\"black\")"
   ]
  },
  {
   "cell_type": "code",
   "execution_count": 7,
   "id": "05590639",
   "metadata": {},
   "outputs": [
    {
     "name": "stdout",
     "output_type": "stream",
     "text": [
      "0\n",
      "43317\n"
     ]
    }
   ],
   "source": [
    "min_value = df['DaysToFinished'].min()\n",
    "max_value = df['DaysToFinished'].max()\n",
    "print(min_value)\n",
    "print(max_value)"
   ]
  },
  {
   "cell_type": "code",
   "execution_count": 21,
   "id": "8ee27d55",
   "metadata": {},
   "outputs": [
    {
     "data": {
      "text/plain": [
       "0         (-0.001, 1.0]\n",
       "1            (2.0, 4.0]\n",
       "2            (1.0, 2.0]\n",
       "3         (-0.001, 1.0]\n",
       "4        (9.0, 43317.0]\n",
       "              ...      \n",
       "40360     (-0.001, 1.0]\n",
       "40361     (-0.001, 1.0]\n",
       "40362     (-0.001, 1.0]\n",
       "40363     (-0.001, 1.0]\n",
       "40364     (-0.001, 1.0]\n",
       "Name: DaysToFinished, Length: 40365, dtype: category\n",
       "Categories (5, interval[float64, right]): [(-0.001, 1.0] < (1.0, 2.0] < (2.0, 4.0] < (4.0, 9.0] < (9.0, 43317.0]]"
      ]
     },
     "execution_count": 21,
     "metadata": {},
     "output_type": "execute_result"
    }
   ],
   "source": [
    "pd.qcut(df['DaysToFinished'], q=6 , duplicates='drop')"
   ]
  },
  {
   "cell_type": "code",
   "execution_count": null,
   "id": "319c32bc",
   "metadata": {},
   "outputs": [],
   "source": []
  }
 ],
 "metadata": {
  "kernelspec": {
   "display_name": "Python 3 (ipykernel)",
   "language": "python",
   "name": "python3"
  },
  "language_info": {
   "codemirror_mode": {
    "name": "ipython",
    "version": 3
   },
   "file_extension": ".py",
   "mimetype": "text/x-python",
   "name": "python",
   "nbconvert_exporter": "python",
   "pygments_lexer": "ipython3",
   "version": "3.9.12"
  }
 },
 "nbformat": 4,
 "nbformat_minor": 5
}
