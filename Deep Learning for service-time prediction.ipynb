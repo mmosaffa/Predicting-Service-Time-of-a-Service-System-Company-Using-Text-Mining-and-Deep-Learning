{
  "nbformat": 4,
  "nbformat_minor": 0,
  "metadata": {
    "colab": {
      "name": "Untitled10.ipynb",
      "provenance": [],
      "collapsed_sections": [],
      "authorship_tag": "ABX9TyNS1+qQV6pH0ackDYa2OHPL",
      "include_colab_link": true
    },
    "kernelspec": {
      "name": "python3",
      "display_name": "Python 3"
    },
    "language_info": {
      "name": "python"
    }
  },
  "cells": [
    {
      "cell_type": "markdown",
      "metadata": {
        "id": "view-in-github",
        "colab_type": "text"
      },
      "source": [
        "<a href=\"https://colab.research.google.com/github/mmosaffa/Predicting-Service-Time-of-a-Service-System-Company-Using-Text-Mining-and-Deep-Learning/blob/main/Deep%20Learning%20for%20service-time%20prediction.ipynb\" target=\"_parent\"><img src=\"https://colab.research.google.com/assets/colab-badge.svg\" alt=\"Open In Colab\"/></a>"
      ]
    },
    {
      "cell_type": "code",
      "execution_count": null,
      "metadata": {
        "id": "OhZiaE-yiZLL"
      },
      "outputs": [],
      "source": [
        "import matplotlib.pyplot as plt\n",
        "import numpy as np\n",
        "import pandas as pd\n",
        "import seaborn as sns"
      ]
    },
    {
      "cell_type": "code",
      "source": [
        "import tensorflow as tf\n",
        "\n",
        "from tensorflow import keras\n",
        "from tensorflow.keras import layers\n",
        "\n",
        "print(tf.__version__)"
      ],
      "metadata": {
        "colab": {
          "base_uri": "https://localhost:8080/"
        },
        "id": "i0A4trkZi5Md",
        "outputId": "39780855-d88f-4feb-a868-4312d52f399f"
      },
      "execution_count": null,
      "outputs": [
        {
          "output_type": "stream",
          "name": "stdout",
          "text": [
            "2.8.2\n"
          ]
        }
      ]
    },
    {
      "cell_type": "code",
      "source": [
        "Complete_data = pd.read_csv('/content/PreparedData2.csv',na_values=' ') "
      ],
      "metadata": {
        "id": "LaFUNUJ4i8nn"
      },
      "execution_count": null,
      "outputs": []
    },
    {
      "cell_type": "code",
      "source": [
        "Complete_data = pd.read_csv('/content/PreparedData3Last.csv',na_values=' ') "
      ],
      "metadata": {
        "id": "gNMlFJdEYVDi"
      },
      "execution_count": null,
      "outputs": []
    },
    {
      "cell_type": "code",
      "source": [
        "Complete_data.describe()"
      ],
      "metadata": {
        "colab": {
          "base_uri": "https://localhost:8080/",
          "height": 394
        },
        "id": "D4sAiWL2lO_T",
        "outputId": "86333862-4e8a-4741-bcaa-f843ff9e69aa"
      },
      "execution_count": null,
      "outputs": [
        {
          "output_type": "execute_result",
          "data": {
            "text/plain": [
              "         Enter_Year    Enter_Time  Estimated_Price  Received_in_Day  \\\n",
              "count  10441.000000  10441.000000     1.044100e+04     10441.000000   \n",
              "mean    2017.168854     14.210982     2.741521e+10       226.576190   \n",
              "std        1.040249      2.607144     2.170162e+12        49.571665   \n",
              "min     2016.000000      0.333333     0.000000e+00         2.000000   \n",
              "25%     2016.000000     12.133333     8.000000e+05       197.000000   \n",
              "50%     2017.000000     14.133333     1.000000e+06       226.000000   \n",
              "75%     2018.000000     16.283333     1.500000e+06       253.000000   \n",
              "max     2019.000000     23.916667     2.200000e+14       455.000000   \n",
              "\n",
              "           In_Queue  DaysToFinished         تصوير         خاموش        احتمال  \\\n",
              "count  10441.000000    10199.000000  10441.000000  10441.000000  10441.000000   \n",
              "mean      43.053060        3.743210      0.372474      0.400824      0.366344   \n",
              "std       11.655276        7.951106      0.483487      0.490089      0.481828   \n",
              "min        1.000000        0.000000      0.000000      0.000000      0.000000   \n",
              "25%       36.000000        0.000000      0.000000      0.000000      0.000000   \n",
              "50%       42.000000        1.000000      0.000000      0.000000      0.000000   \n",
              "75%       50.000000        5.000000      1.000000      1.000000      1.000000   \n",
              "max      105.000000      277.000000      1.000000      1.000000      1.000000   \n",
              "\n",
              "              تعويض  ...         يکسره           چسب            مش  \\\n",
              "count  10441.000000  ...  10441.000000  10441.000000  10441.000000   \n",
              "mean       0.183124  ...      0.000383      0.000479      0.000287   \n",
              "std        0.386787  ...      0.019570      0.021879      0.016949   \n",
              "min        0.000000  ...      0.000000      0.000000      0.000000   \n",
              "25%        0.000000  ...      0.000000      0.000000      0.000000   \n",
              "50%        0.000000  ...      0.000000      0.000000      0.000000   \n",
              "75%        0.000000  ...      0.000000      0.000000      0.000000   \n",
              "max        1.000000  ...      1.000000      1.000000      1.000000   \n",
              "\n",
              "              ريخته        بلوتوث         ايراد          وهيت          ميشه  \\\n",
              "count  10441.000000  10441.000000  10441.000000  10441.000000  10441.000000   \n",
              "mean       0.000479      0.000479      0.000479      0.000479      0.000096   \n",
              "std        0.021879      0.021879      0.021879      0.021879      0.009787   \n",
              "min        0.000000      0.000000      0.000000      0.000000      0.000000   \n",
              "25%        0.000000      0.000000      0.000000      0.000000      0.000000   \n",
              "50%        0.000000      0.000000      0.000000      0.000000      0.000000   \n",
              "75%        0.000000      0.000000      0.000000      0.000000      0.000000   \n",
              "max        1.000000      1.000000      1.000000      1.000000      1.000000   \n",
              "\n",
              "             دوتايي        Length  \n",
              "count  10441.000000  10441.000000  \n",
              "mean       0.000479      4.542094  \n",
              "std        0.021879      3.452854  \n",
              "min        0.000000      0.000000  \n",
              "25%        0.000000      2.000000  \n",
              "50%        0.000000      4.000000  \n",
              "75%        0.000000      7.000000  \n",
              "max        1.000000     22.000000  \n",
              "\n",
              "[8 rows x 312 columns]"
            ],
            "text/html": [
              "\n",
              "  <div id=\"df-985db33b-5241-4301-b163-8054f90b8354\">\n",
              "    <div class=\"colab-df-container\">\n",
              "      <div>\n",
              "<style scoped>\n",
              "    .dataframe tbody tr th:only-of-type {\n",
              "        vertical-align: middle;\n",
              "    }\n",
              "\n",
              "    .dataframe tbody tr th {\n",
              "        vertical-align: top;\n",
              "    }\n",
              "\n",
              "    .dataframe thead th {\n",
              "        text-align: right;\n",
              "    }\n",
              "</style>\n",
              "<table border=\"1\" class=\"dataframe\">\n",
              "  <thead>\n",
              "    <tr style=\"text-align: right;\">\n",
              "      <th></th>\n",
              "      <th>Enter_Year</th>\n",
              "      <th>Enter_Time</th>\n",
              "      <th>Estimated_Price</th>\n",
              "      <th>Received_in_Day</th>\n",
              "      <th>In_Queue</th>\n",
              "      <th>DaysToFinished</th>\n",
              "      <th>تصوير</th>\n",
              "      <th>خاموش</th>\n",
              "      <th>احتمال</th>\n",
              "      <th>تعويض</th>\n",
              "      <th>...</th>\n",
              "      <th>يکسره</th>\n",
              "      <th>چسب</th>\n",
              "      <th>مش</th>\n",
              "      <th>ريخته</th>\n",
              "      <th>بلوتوث</th>\n",
              "      <th>ايراد</th>\n",
              "      <th>وهيت</th>\n",
              "      <th>ميشه</th>\n",
              "      <th>دوتايي</th>\n",
              "      <th>Length</th>\n",
              "    </tr>\n",
              "  </thead>\n",
              "  <tbody>\n",
              "    <tr>\n",
              "      <th>count</th>\n",
              "      <td>10441.000000</td>\n",
              "      <td>10441.000000</td>\n",
              "      <td>1.044100e+04</td>\n",
              "      <td>10441.000000</td>\n",
              "      <td>10441.000000</td>\n",
              "      <td>10199.000000</td>\n",
              "      <td>10441.000000</td>\n",
              "      <td>10441.000000</td>\n",
              "      <td>10441.000000</td>\n",
              "      <td>10441.000000</td>\n",
              "      <td>...</td>\n",
              "      <td>10441.000000</td>\n",
              "      <td>10441.000000</td>\n",
              "      <td>10441.000000</td>\n",
              "      <td>10441.000000</td>\n",
              "      <td>10441.000000</td>\n",
              "      <td>10441.000000</td>\n",
              "      <td>10441.000000</td>\n",
              "      <td>10441.000000</td>\n",
              "      <td>10441.000000</td>\n",
              "      <td>10441.000000</td>\n",
              "    </tr>\n",
              "    <tr>\n",
              "      <th>mean</th>\n",
              "      <td>2017.168854</td>\n",
              "      <td>14.210982</td>\n",
              "      <td>2.741521e+10</td>\n",
              "      <td>226.576190</td>\n",
              "      <td>43.053060</td>\n",
              "      <td>3.743210</td>\n",
              "      <td>0.372474</td>\n",
              "      <td>0.400824</td>\n",
              "      <td>0.366344</td>\n",
              "      <td>0.183124</td>\n",
              "      <td>...</td>\n",
              "      <td>0.000383</td>\n",
              "      <td>0.000479</td>\n",
              "      <td>0.000287</td>\n",
              "      <td>0.000479</td>\n",
              "      <td>0.000479</td>\n",
              "      <td>0.000479</td>\n",
              "      <td>0.000479</td>\n",
              "      <td>0.000096</td>\n",
              "      <td>0.000479</td>\n",
              "      <td>4.542094</td>\n",
              "    </tr>\n",
              "    <tr>\n",
              "      <th>std</th>\n",
              "      <td>1.040249</td>\n",
              "      <td>2.607144</td>\n",
              "      <td>2.170162e+12</td>\n",
              "      <td>49.571665</td>\n",
              "      <td>11.655276</td>\n",
              "      <td>7.951106</td>\n",
              "      <td>0.483487</td>\n",
              "      <td>0.490089</td>\n",
              "      <td>0.481828</td>\n",
              "      <td>0.386787</td>\n",
              "      <td>...</td>\n",
              "      <td>0.019570</td>\n",
              "      <td>0.021879</td>\n",
              "      <td>0.016949</td>\n",
              "      <td>0.021879</td>\n",
              "      <td>0.021879</td>\n",
              "      <td>0.021879</td>\n",
              "      <td>0.021879</td>\n",
              "      <td>0.009787</td>\n",
              "      <td>0.021879</td>\n",
              "      <td>3.452854</td>\n",
              "    </tr>\n",
              "    <tr>\n",
              "      <th>min</th>\n",
              "      <td>2016.000000</td>\n",
              "      <td>0.333333</td>\n",
              "      <td>0.000000e+00</td>\n",
              "      <td>2.000000</td>\n",
              "      <td>1.000000</td>\n",
              "      <td>0.000000</td>\n",
              "      <td>0.000000</td>\n",
              "      <td>0.000000</td>\n",
              "      <td>0.000000</td>\n",
              "      <td>0.000000</td>\n",
              "      <td>...</td>\n",
              "      <td>0.000000</td>\n",
              "      <td>0.000000</td>\n",
              "      <td>0.000000</td>\n",
              "      <td>0.000000</td>\n",
              "      <td>0.000000</td>\n",
              "      <td>0.000000</td>\n",
              "      <td>0.000000</td>\n",
              "      <td>0.000000</td>\n",
              "      <td>0.000000</td>\n",
              "      <td>0.000000</td>\n",
              "    </tr>\n",
              "    <tr>\n",
              "      <th>25%</th>\n",
              "      <td>2016.000000</td>\n",
              "      <td>12.133333</td>\n",
              "      <td>8.000000e+05</td>\n",
              "      <td>197.000000</td>\n",
              "      <td>36.000000</td>\n",
              "      <td>0.000000</td>\n",
              "      <td>0.000000</td>\n",
              "      <td>0.000000</td>\n",
              "      <td>0.000000</td>\n",
              "      <td>0.000000</td>\n",
              "      <td>...</td>\n",
              "      <td>0.000000</td>\n",
              "      <td>0.000000</td>\n",
              "      <td>0.000000</td>\n",
              "      <td>0.000000</td>\n",
              "      <td>0.000000</td>\n",
              "      <td>0.000000</td>\n",
              "      <td>0.000000</td>\n",
              "      <td>0.000000</td>\n",
              "      <td>0.000000</td>\n",
              "      <td>2.000000</td>\n",
              "    </tr>\n",
              "    <tr>\n",
              "      <th>50%</th>\n",
              "      <td>2017.000000</td>\n",
              "      <td>14.133333</td>\n",
              "      <td>1.000000e+06</td>\n",
              "      <td>226.000000</td>\n",
              "      <td>42.000000</td>\n",
              "      <td>1.000000</td>\n",
              "      <td>0.000000</td>\n",
              "      <td>0.000000</td>\n",
              "      <td>0.000000</td>\n",
              "      <td>0.000000</td>\n",
              "      <td>...</td>\n",
              "      <td>0.000000</td>\n",
              "      <td>0.000000</td>\n",
              "      <td>0.000000</td>\n",
              "      <td>0.000000</td>\n",
              "      <td>0.000000</td>\n",
              "      <td>0.000000</td>\n",
              "      <td>0.000000</td>\n",
              "      <td>0.000000</td>\n",
              "      <td>0.000000</td>\n",
              "      <td>4.000000</td>\n",
              "    </tr>\n",
              "    <tr>\n",
              "      <th>75%</th>\n",
              "      <td>2018.000000</td>\n",
              "      <td>16.283333</td>\n",
              "      <td>1.500000e+06</td>\n",
              "      <td>253.000000</td>\n",
              "      <td>50.000000</td>\n",
              "      <td>5.000000</td>\n",
              "      <td>1.000000</td>\n",
              "      <td>1.000000</td>\n",
              "      <td>1.000000</td>\n",
              "      <td>0.000000</td>\n",
              "      <td>...</td>\n",
              "      <td>0.000000</td>\n",
              "      <td>0.000000</td>\n",
              "      <td>0.000000</td>\n",
              "      <td>0.000000</td>\n",
              "      <td>0.000000</td>\n",
              "      <td>0.000000</td>\n",
              "      <td>0.000000</td>\n",
              "      <td>0.000000</td>\n",
              "      <td>0.000000</td>\n",
              "      <td>7.000000</td>\n",
              "    </tr>\n",
              "    <tr>\n",
              "      <th>max</th>\n",
              "      <td>2019.000000</td>\n",
              "      <td>23.916667</td>\n",
              "      <td>2.200000e+14</td>\n",
              "      <td>455.000000</td>\n",
              "      <td>105.000000</td>\n",
              "      <td>277.000000</td>\n",
              "      <td>1.000000</td>\n",
              "      <td>1.000000</td>\n",
              "      <td>1.000000</td>\n",
              "      <td>1.000000</td>\n",
              "      <td>...</td>\n",
              "      <td>1.000000</td>\n",
              "      <td>1.000000</td>\n",
              "      <td>1.000000</td>\n",
              "      <td>1.000000</td>\n",
              "      <td>1.000000</td>\n",
              "      <td>1.000000</td>\n",
              "      <td>1.000000</td>\n",
              "      <td>1.000000</td>\n",
              "      <td>1.000000</td>\n",
              "      <td>22.000000</td>\n",
              "    </tr>\n",
              "  </tbody>\n",
              "</table>\n",
              "<p>8 rows × 312 columns</p>\n",
              "</div>\n",
              "      <button class=\"colab-df-convert\" onclick=\"convertToInteractive('df-985db33b-5241-4301-b163-8054f90b8354')\"\n",
              "              title=\"Convert this dataframe to an interactive table.\"\n",
              "              style=\"display:none;\">\n",
              "        \n",
              "  <svg xmlns=\"http://www.w3.org/2000/svg\" height=\"24px\"viewBox=\"0 0 24 24\"\n",
              "       width=\"24px\">\n",
              "    <path d=\"M0 0h24v24H0V0z\" fill=\"none\"/>\n",
              "    <path d=\"M18.56 5.44l.94 2.06.94-2.06 2.06-.94-2.06-.94-.94-2.06-.94 2.06-2.06.94zm-11 1L8.5 8.5l.94-2.06 2.06-.94-2.06-.94L8.5 2.5l-.94 2.06-2.06.94zm10 10l.94 2.06.94-2.06 2.06-.94-2.06-.94-.94-2.06-.94 2.06-2.06.94z\"/><path d=\"M17.41 7.96l-1.37-1.37c-.4-.4-.92-.59-1.43-.59-.52 0-1.04.2-1.43.59L10.3 9.45l-7.72 7.72c-.78.78-.78 2.05 0 2.83L4 21.41c.39.39.9.59 1.41.59.51 0 1.02-.2 1.41-.59l7.78-7.78 2.81-2.81c.8-.78.8-2.07 0-2.86zM5.41 20L4 18.59l7.72-7.72 1.47 1.35L5.41 20z\"/>\n",
              "  </svg>\n",
              "      </button>\n",
              "      \n",
              "  <style>\n",
              "    .colab-df-container {\n",
              "      display:flex;\n",
              "      flex-wrap:wrap;\n",
              "      gap: 12px;\n",
              "    }\n",
              "\n",
              "    .colab-df-convert {\n",
              "      background-color: #E8F0FE;\n",
              "      border: none;\n",
              "      border-radius: 50%;\n",
              "      cursor: pointer;\n",
              "      display: none;\n",
              "      fill: #1967D2;\n",
              "      height: 32px;\n",
              "      padding: 0 0 0 0;\n",
              "      width: 32px;\n",
              "    }\n",
              "\n",
              "    .colab-df-convert:hover {\n",
              "      background-color: #E2EBFA;\n",
              "      box-shadow: 0px 1px 2px rgba(60, 64, 67, 0.3), 0px 1px 3px 1px rgba(60, 64, 67, 0.15);\n",
              "      fill: #174EA6;\n",
              "    }\n",
              "\n",
              "    [theme=dark] .colab-df-convert {\n",
              "      background-color: #3B4455;\n",
              "      fill: #D2E3FC;\n",
              "    }\n",
              "\n",
              "    [theme=dark] .colab-df-convert:hover {\n",
              "      background-color: #434B5C;\n",
              "      box-shadow: 0px 1px 3px 1px rgba(0, 0, 0, 0.15);\n",
              "      filter: drop-shadow(0px 1px 2px rgba(0, 0, 0, 0.3));\n",
              "      fill: #FFFFFF;\n",
              "    }\n",
              "  </style>\n",
              "\n",
              "      <script>\n",
              "        const buttonEl =\n",
              "          document.querySelector('#df-985db33b-5241-4301-b163-8054f90b8354 button.colab-df-convert');\n",
              "        buttonEl.style.display =\n",
              "          google.colab.kernel.accessAllowed ? 'block' : 'none';\n",
              "\n",
              "        async function convertToInteractive(key) {\n",
              "          const element = document.querySelector('#df-985db33b-5241-4301-b163-8054f90b8354');\n",
              "          const dataTable =\n",
              "            await google.colab.kernel.invokeFunction('convertToInteractive',\n",
              "                                                     [key], {});\n",
              "          if (!dataTable) return;\n",
              "\n",
              "          const docLinkHtml = 'Like what you see? Visit the ' +\n",
              "            '<a target=\"_blank\" href=https://colab.research.google.com/notebooks/data_table.ipynb>data table notebook</a>'\n",
              "            + ' to learn more about interactive tables.';\n",
              "          element.innerHTML = '';\n",
              "          dataTable['output_type'] = 'display_data';\n",
              "          await google.colab.output.renderOutput(dataTable, element);\n",
              "          const docLink = document.createElement('div');\n",
              "          docLink.innerHTML = docLinkHtml;\n",
              "          element.appendChild(docLink);\n",
              "        }\n",
              "      </script>\n",
              "    </div>\n",
              "  </div>\n",
              "  "
            ]
          },
          "metadata": {},
          "execution_count": 8
        }
      ]
    },
    {
      "cell_type": "code",
      "source": [
        "from sklearn.preprocessing import LabelEncoder\n",
        "from sklearn.preprocessing import MinMaxScaler\n",
        "\n",
        "plt.title('Without In_Queue number, Without adding weight')\n",
        "plt.hist(Complete_data['DaysToFinished'], bins=range(0,11,1), edgecolor=\"black\", color='purple')"
      ],
      "metadata": {
        "id": "aIL5TT77nBe8",
        "colab": {
          "base_uri": "https://localhost:8080/",
          "height": 352
        },
        "outputId": "453a08d6-3ef3-4a87-b6ab-e91c7c3fc30c"
      },
      "execution_count": null,
      "outputs": [
        {
          "output_type": "execute_result",
          "data": {
            "text/plain": [
              "(array([6985., 4603., 2253., 1407., 1108.,  801.,  640.,  493.,  326.,\n",
              "         446.]),\n",
              " array([ 0,  1,  2,  3,  4,  5,  6,  7,  8,  9, 10]),\n",
              " <a list of 10 Patch objects>)"
            ]
          },
          "metadata": {},
          "execution_count": 25
        },
        {
          "output_type": "display_data",
          "data": {
            "text/plain": [
              "<Figure size 432x288 with 1 Axes>"
            ],
            "image/png": "[encoded data removed]"
          },
          "metadata": {
            "needs_background": "light"
          }
        }
      ]
    },
    {
      "cell_type": "code",
      "source": [
        "Complete_data2 = Complete_data.copy()\n",
        "for i in range(len(Complete_data2)):\n",
        "  if Complete_data2.iloc[i,10] > 8:\n",
        "    Complete_data2.iloc[i,10] = 10\n",
        "\n",
        "plt.title('Without In_Queue number, Without adding weight')\n",
        "plt.hist(Complete_data2['DaysToFinished'], bins=range(0,15,1), edgecolor=\"black\", color='purple')"
      ],
      "metadata": {
        "colab": {
          "base_uri": "https://localhost:8080/",
          "height": 352
        },
        "id": "bxYkgIKzFYEo",
        "outputId": "32538e09-714c-4cc3-d313-4ebaa73df6f1"
      },
      "execution_count": null,
      "outputs": [
        {
          "output_type": "execute_result",
          "data": {
            "text/plain": [
              "(array([6985., 4603., 2253., 1407., 1108.,  801.,  640.,  493.,  326.,\n",
              "           0., 2620.,    0.,    0.,    0.]),\n",
              " array([ 0,  1,  2,  3,  4,  5,  6,  7,  8,  9, 10, 11, 12, 13, 14]),\n",
              " <a list of 14 Patch objects>)"
            ]
          },
          "metadata": {},
          "execution_count": 12
        },
        {
          "output_type": "display_data",
          "data": {
            "text/plain": [
              "<Figure size 432x288 with 1 Axes>"
            ],
            "image/png": "[encoded data removed]"
          },
          "metadata": {
            "needs_background": "light"
          }
        }
      ]
    },
    {
      "cell_type": "code",
      "source": [
        "Complete_data2 = Complete_data.copy()\n",
        "\n",
        "Complete_data2 = Complete_data2[Complete_data2['DaysToFinished'] <= 8]\n",
        "\n",
        "#Complete_data2 = Complete_data2[Complete_data2['Explanation'].notna()]\n",
        "\n",
        "X = Complete_data2.loc[:, Complete_data2.columns != 'DaysToFinished']\n",
        "\n",
        "X = X.loc[:, X.columns != 'Explanation']\n",
        "\n",
        "Y = Complete_data2['DaysToFinished']\n",
        "\n",
        "enc=LabelEncoder()\n",
        "\n",
        "enc.fit(X['Enter_Month'])\n",
        "X['Enter_Month'] = enc.transform(X['Enter_Month'])\n",
        "\n",
        "enc.fit(X['Enter_Day_Name'])\n",
        "X['Enter_Day_Name'] = enc.transform(X['Enter_Day_Name'])\n",
        "\n",
        "enc.fit(X['Enter_Year'])\n",
        "X['Enter_Year'] = enc.transform(X['Enter_Year'])\n",
        "\n",
        "enc.fit(X['Brand'])\n",
        "X['Brand'] = enc.transform(X['Brand'])\n",
        "\n",
        "enc.fit(X['Model'])\n",
        "X['Model'] = enc.transform(X['Model'])\n",
        "\n",
        "enc.fit(Y)\n",
        "y = enc.transform(Y)\n",
        "\n",
        "X.describe()"
      ],
      "metadata": {
        "colab": {
          "base_uri": "https://localhost:8080/",
          "height": 394
        },
        "id": "GRrd0TShnQb7",
        "outputId": "c08c5f45-3ca3-4285-a84a-932a5629dc6d"
      },
      "execution_count": null,
      "outputs": [
        {
          "output_type": "execute_result",
          "data": {
            "text/plain": [
              "        Enter_Month  Enter_Day_Name    Enter_Year    Enter_Time         Brand  \\\n",
              "count  18616.000000    18616.000000  18616.000000  18616.000000  18616.000000   \n",
              "mean       5.320101        2.408144      1.594865     14.088328      9.574452   \n",
              "std        3.543169        1.740620      1.035353      2.589888      7.959138   \n",
              "min        0.000000        0.000000      0.000000      0.266667      0.000000   \n",
              "25%        2.000000        1.000000      1.000000     12.000000      2.000000   \n",
              "50%        5.000000        2.000000      2.000000     13.966667      4.000000   \n",
              "75%        8.000000        4.000000      2.000000     16.166667     15.000000   \n",
              "max       11.000000        5.000000      3.000000     23.800000     29.000000   \n",
              "\n",
              "              Model  Estimated_Price  Received_in_Day      In_Queue  \\\n",
              "count  18616.000000     1.861600e+04     18616.000000  18616.000000   \n",
              "mean    1025.559411     1.276855e+10       232.980071     44.828696   \n",
              "std      577.001949     5.515316e+11        55.417066     12.262092   \n",
              "min        0.000000     0.000000e+00         0.000000      1.000000   \n",
              "25%      576.000000     8.000000e+05       200.000000     37.000000   \n",
              "50%      983.000000     1.300000e+06       233.000000     44.000000   \n",
              "75%     1520.000000     2.425000e+06       262.000000     52.000000   \n",
              "max     2002.000000     5.500000e+13       454.000000    105.000000   \n",
              "\n",
              "              تصوير  ...         يکسره           چسب            مش  \\\n",
              "count  18616.000000  ...  18616.000000  18616.000000  18616.000000   \n",
              "mean       0.292007  ...      0.000645      0.000322      0.000483   \n",
              "std        0.454698  ...      0.025382      0.017950      0.021983   \n",
              "min        0.000000  ...      0.000000      0.000000      0.000000   \n",
              "25%        0.000000  ...      0.000000      0.000000      0.000000   \n",
              "50%        0.000000  ...      0.000000      0.000000      0.000000   \n",
              "75%        1.000000  ...      0.000000      0.000000      0.000000   \n",
              "max        1.000000  ...      1.000000      1.000000      1.000000   \n",
              "\n",
              "              ريخته        بلوتوث         ايراد          وهيت          ميشه  \\\n",
              "count  18616.000000  18616.000000  18616.000000  18616.000000  18616.000000   \n",
              "mean       0.000483      0.000752      0.000483      0.000376      0.000698   \n",
              "std        0.021983      0.027414      0.021983      0.019388      0.026417   \n",
              "min        0.000000      0.000000      0.000000      0.000000      0.000000   \n",
              "25%        0.000000      0.000000      0.000000      0.000000      0.000000   \n",
              "50%        0.000000      0.000000      0.000000      0.000000      0.000000   \n",
              "75%        0.000000      0.000000      0.000000      0.000000      0.000000   \n",
              "max        1.000000      1.000000      1.000000      1.000000      1.000000   \n",
              "\n",
              "             دوتايي        Length  \n",
              "count  18616.000000  18616.000000  \n",
              "mean       0.000430      4.500645  \n",
              "std        0.020726      3.149545  \n",
              "min        0.000000      0.000000  \n",
              "25%        0.000000      2.000000  \n",
              "50%        0.000000      4.000000  \n",
              "75%        0.000000      6.000000  \n",
              "max        1.000000     22.000000  \n",
              "\n",
              "[8 rows x 315 columns]"
            ],
            "text/html": [
              "\n",
              "  <div id=\"df-d183c684-fda0-451c-a5dd-b23c8cb159ea\">\n",
              "    <div class=\"colab-df-container\">\n",
              "      <div>\n",
              "<style scoped>\n",
              "    .dataframe tbody tr th:only-of-type {\n",
              "        vertical-align: middle;\n",
              "    }\n",
              "\n",
              "    .dataframe tbody tr th {\n",
              "        vertical-align: top;\n",
              "    }\n",
              "\n",
              "    .dataframe thead th {\n",
              "        text-align: right;\n",
              "    }\n",
              "</style>\n",
              "<table border=\"1\" class=\"dataframe\">\n",
              "  <thead>\n",
              "    <tr style=\"text-align: right;\">\n",
              "      <th></th>\n",
              "      <th>Enter_Month</th>\n",
              "      <th>Enter_Day_Name</th>\n",
              "      <th>Enter_Year</th>\n",
              "      <th>Enter_Time</th>\n",
              "      <th>Brand</th>\n",
              "      <th>Model</th>\n",
              "      <th>Estimated_Price</th>\n",
              "      <th>Received_in_Day</th>\n",
              "      <th>In_Queue</th>\n",
              "      <th>تصوير</th>\n",
              "      <th>...</th>\n",
              "      <th>يکسره</th>\n",
              "      <th>چسب</th>\n",
              "      <th>مش</th>\n",
              "      <th>ريخته</th>\n",
              "      <th>بلوتوث</th>\n",
              "      <th>ايراد</th>\n",
              "      <th>وهيت</th>\n",
              "      <th>ميشه</th>\n",
              "      <th>دوتايي</th>\n",
              "      <th>Length</th>\n",
              "    </tr>\n",
              "  </thead>\n",
              "  <tbody>\n",
              "    <tr>\n",
              "      <th>count</th>\n",
              "      <td>18616.000000</td>\n",
              "      <td>18616.000000</td>\n",
              "      <td>18616.000000</td>\n",
              "      <td>18616.000000</td>\n",
              "      <td>18616.000000</td>\n",
              "      <td>18616.000000</td>\n",
              "      <td>1.861600e+04</td>\n",
              "      <td>18616.000000</td>\n",
              "      <td>18616.000000</td>\n",
              "      <td>18616.000000</td>\n",
              "      <td>...</td>\n",
              "      <td>18616.000000</td>\n",
              "      <td>18616.000000</td>\n",
              "      <td>18616.000000</td>\n",
              "      <td>18616.000000</td>\n",
              "      <td>18616.000000</td>\n",
              "      <td>18616.000000</td>\n",
              "      <td>18616.000000</td>\n",
              "      <td>18616.000000</td>\n",
              "      <td>18616.000000</td>\n",
              "      <td>18616.000000</td>\n",
              "    </tr>\n",
              "    <tr>\n",
              "      <th>mean</th>\n",
              "      <td>5.320101</td>\n",
              "      <td>2.408144</td>\n",
              "      <td>1.594865</td>\n",
              "      <td>14.088328</td>\n",
              "      <td>9.574452</td>\n",
              "      <td>1025.559411</td>\n",
              "      <td>1.276855e+10</td>\n",
              "      <td>232.980071</td>\n",
              "      <td>44.828696</td>\n",
              "      <td>0.292007</td>\n",
              "      <td>...</td>\n",
              "      <td>0.000645</td>\n",
              "      <td>0.000322</td>\n",
              "      <td>0.000483</td>\n",
              "      <td>0.000483</td>\n",
              "      <td>0.000752</td>\n",
              "      <td>0.000483</td>\n",
              "      <td>0.000376</td>\n",
              "      <td>0.000698</td>\n",
              "      <td>0.000430</td>\n",
              "      <td>4.500645</td>\n",
              "    </tr>\n",
              "    <tr>\n",
              "      <th>std</th>\n",
              "      <td>3.543169</td>\n",
              "      <td>1.740620</td>\n",
              "      <td>1.035353</td>\n",
              "      <td>2.589888</td>\n",
              "      <td>7.959138</td>\n",
              "      <td>577.001949</td>\n",
              "      <td>5.515316e+11</td>\n",
              "      <td>55.417066</td>\n",
              "      <td>12.262092</td>\n",
              "      <td>0.454698</td>\n",
              "      <td>...</td>\n",
              "      <td>0.025382</td>\n",
              "      <td>0.017950</td>\n",
              "      <td>0.021983</td>\n",
              "      <td>0.021983</td>\n",
              "      <td>0.027414</td>\n",
              "      <td>0.021983</td>\n",
              "      <td>0.019388</td>\n",
              "      <td>0.026417</td>\n",
              "      <td>0.020726</td>\n",
              "      <td>3.149545</td>\n",
              "    </tr>\n",
              "    <tr>\n",
              "      <th>min</th>\n",
              "      <td>0.000000</td>\n",
              "      <td>0.000000</td>\n",
              "      <td>0.000000</td>\n",
              "      <td>0.266667</td>\n",
              "      <td>0.000000</td>\n",
              "      <td>0.000000</td>\n",
              "      <td>0.000000e+00</td>\n",
              "      <td>0.000000</td>\n",
              "      <td>1.000000</td>\n",
              "      <td>0.000000</td>\n",
              "      <td>...</td>\n",
              "      <td>0.000000</td>\n",
              "      <td>0.000000</td>\n",
              "      <td>0.000000</td>\n",
              "      <td>0.000000</td>\n",
              "      <td>0.000000</td>\n",
              "      <td>0.000000</td>\n",
              "      <td>0.000000</td>\n",
              "      <td>0.000000</td>\n",
              "      <td>0.000000</td>\n",
              "      <td>0.000000</td>\n",
              "    </tr>\n",
              "    <tr>\n",
              "      <th>25%</th>\n",
              "      <td>2.000000</td>\n",
              "      <td>1.000000</td>\n",
              "      <td>1.000000</td>\n",
              "      <td>12.000000</td>\n",
              "      <td>2.000000</td>\n",
              "      <td>576.000000</td>\n",
              "      <td>8.000000e+05</td>\n",
              "      <td>200.000000</td>\n",
              "      <td>37.000000</td>\n",
              "      <td>0.000000</td>\n",
              "      <td>...</td>\n",
              "      <td>0.000000</td>\n",
              "      <td>0.000000</td>\n",
              "      <td>0.000000</td>\n",
              "      <td>0.000000</td>\n",
              "      <td>0.000000</td>\n",
              "      <td>0.000000</td>\n",
              "      <td>0.000000</td>\n",
              "      <td>0.000000</td>\n",
              "      <td>0.000000</td>\n",
              "      <td>2.000000</td>\n",
              "    </tr>\n",
              "    <tr>\n",
              "      <th>50%</th>\n",
              "      <td>5.000000</td>\n",
              "      <td>2.000000</td>\n",
              "      <td>2.000000</td>\n",
              "      <td>13.966667</td>\n",
              "      <td>4.000000</td>\n",
              "      <td>983.000000</td>\n",
              "      <td>1.300000e+06</td>\n",
              "      <td>233.000000</td>\n",
              "      <td>44.000000</td>\n",
              "      <td>0.000000</td>\n",
              "      <td>...</td>\n",
              "      <td>0.000000</td>\n",
              "      <td>0.000000</td>\n",
              "      <td>0.000000</td>\n",
              "      <td>0.000000</td>\n",
              "      <td>0.000000</td>\n",
              "      <td>0.000000</td>\n",
              "      <td>0.000000</td>\n",
              "      <td>0.000000</td>\n",
              "      <td>0.000000</td>\n",
              "      <td>4.000000</td>\n",
              "    </tr>\n",
              "    <tr>\n",
              "      <th>75%</th>\n",
              "      <td>8.000000</td>\n",
              "      <td>4.000000</td>\n",
              "      <td>2.000000</td>\n",
              "      <td>16.166667</td>\n",
              "      <td>15.000000</td>\n",
              "      <td>1520.000000</td>\n",
              "      <td>2.425000e+06</td>\n",
              "      <td>262.000000</td>\n",
              "      <td>52.000000</td>\n",
              "      <td>1.000000</td>\n",
              "      <td>...</td>\n",
              "      <td>0.000000</td>\n",
              "      <td>0.000000</td>\n",
              "      <td>0.000000</td>\n",
              "      <td>0.000000</td>\n",
              "      <td>0.000000</td>\n",
              "      <td>0.000000</td>\n",
              "      <td>0.000000</td>\n",
              "      <td>0.000000</td>\n",
              "      <td>0.000000</td>\n",
              "      <td>6.000000</td>\n",
              "    </tr>\n",
              "    <tr>\n",
              "      <th>max</th>\n",
              "      <td>11.000000</td>\n",
              "      <td>5.000000</td>\n",
              "      <td>3.000000</td>\n",
              "      <td>23.800000</td>\n",
              "      <td>29.000000</td>\n",
              "      <td>2002.000000</td>\n",
              "      <td>5.500000e+13</td>\n",
              "      <td>454.000000</td>\n",
              "      <td>105.000000</td>\n",
              "      <td>1.000000</td>\n",
              "      <td>...</td>\n",
              "      <td>1.000000</td>\n",
              "      <td>1.000000</td>\n",
              "      <td>1.000000</td>\n",
              "      <td>1.000000</td>\n",
              "      <td>1.000000</td>\n",
              "      <td>1.000000</td>\n",
              "      <td>1.000000</td>\n",
              "      <td>1.000000</td>\n",
              "      <td>1.000000</td>\n",
              "      <td>22.000000</td>\n",
              "    </tr>\n",
              "  </tbody>\n",
              "</table>\n",
              "<p>8 rows × 315 columns</p>\n",
              "</div>\n",
              "      <button class=\"colab-df-convert\" onclick=\"convertToInteractive('df-d183c684-fda0-451c-a5dd-b23c8cb159ea')\"\n",
              "              title=\"Convert this dataframe to an interactive table.\"\n",
              "              style=\"display:none;\">\n",
              "        \n",
              "  <svg xmlns=\"http://www.w3.org/2000/svg\" height=\"24px\"viewBox=\"0 0 24 24\"\n",
              "       width=\"24px\">\n",
              "    <path d=\"M0 0h24v24H0V0z\" fill=\"none\"/>\n",
              "    <path d=\"M18.56 5.44l.94 2.06.94-2.06 2.06-.94-2.06-.94-.94-2.06-.94 2.06-2.06.94zm-11 1L8.5 8.5l.94-2.06 2.06-.94-2.06-.94L8.5 2.5l-.94 2.06-2.06.94zm10 10l.94 2.06.94-2.06 2.06-.94-2.06-.94-.94-2.06-.94 2.06-2.06.94z\"/><path d=\"M17.41 7.96l-1.37-1.37c-.4-.4-.92-.59-1.43-.59-.52 0-1.04.2-1.43.59L10.3 9.45l-7.72 7.72c-.78.78-.78 2.05 0 2.83L4 21.41c.39.39.9.59 1.41.59.51 0 1.02-.2 1.41-.59l7.78-7.78 2.81-2.81c.8-.78.8-2.07 0-2.86zM5.41 20L4 18.59l7.72-7.72 1.47 1.35L5.41 20z\"/>\n",
              "  </svg>\n",
              "      </button>\n",
              "      \n",
              "  <style>\n",
              "    .colab-df-container {\n",
              "      display:flex;\n",
              "      flex-wrap:wrap;\n",
              "      gap: 12px;\n",
              "    }\n",
              "\n",
              "    .colab-df-convert {\n",
              "      background-color: #E8F0FE;\n",
              "      border: none;\n",
              "      border-radius: 50%;\n",
              "      cursor: pointer;\n",
              "      display: none;\n",
              "      fill: #1967D2;\n",
              "      height: 32px;\n",
              "      padding: 0 0 0 0;\n",
              "      width: 32px;\n",
              "    }\n",
              "\n",
              "    .colab-df-convert:hover {\n",
              "      background-color: #E2EBFA;\n",
              "      box-shadow: 0px 1px 2px rgba(60, 64, 67, 0.3), 0px 1px 3px 1px rgba(60, 64, 67, 0.15);\n",
              "      fill: #174EA6;\n",
              "    }\n",
              "\n",
              "    [theme=dark] .colab-df-convert {\n",
              "      background-color: #3B4455;\n",
              "      fill: #D2E3FC;\n",
              "    }\n",
              "\n",
              "    [theme=dark] .colab-df-convert:hover {\n",
              "      background-color: #434B5C;\n",
              "      box-shadow: 0px 1px 3px 1px rgba(0, 0, 0, 0.15);\n",
              "      filter: drop-shadow(0px 1px 2px rgba(0, 0, 0, 0.3));\n",
              "      fill: #FFFFFF;\n",
              "    }\n",
              "  </style>\n",
              "\n",
              "      <script>\n",
              "        const buttonEl =\n",
              "          document.querySelector('#df-d183c684-fda0-451c-a5dd-b23c8cb159ea button.colab-df-convert');\n",
              "        buttonEl.style.display =\n",
              "          google.colab.kernel.accessAllowed ? 'block' : 'none';\n",
              "\n",
              "        async function convertToInteractive(key) {\n",
              "          const element = document.querySelector('#df-d183c684-fda0-451c-a5dd-b23c8cb159ea');\n",
              "          const dataTable =\n",
              "            await google.colab.kernel.invokeFunction('convertToInteractive',\n",
              "                                                     [key], {});\n",
              "          if (!dataTable) return;\n",
              "\n",
              "          const docLinkHtml = 'Like what you see? Visit the ' +\n",
              "            '<a target=\"_blank\" href=https://colab.research.google.com/notebooks/data_table.ipynb>data table notebook</a>'\n",
              "            + ' to learn more about interactive tables.';\n",
              "          element.innerHTML = '';\n",
              "          dataTable['output_type'] = 'display_data';\n",
              "          await google.colab.output.renderOutput(dataTable, element);\n",
              "          const docLink = document.createElement('div');\n",
              "          docLink.innerHTML = docLinkHtml;\n",
              "          element.appendChild(docLink);\n",
              "        }\n",
              "      </script>\n",
              "    </div>\n",
              "  </div>\n",
              "  "
            ]
          },
          "metadata": {},
          "execution_count": 26
        }
      ]
    },
    {
      "cell_type": "code",
      "source": [
        "import pandas as pd\n",
        "import numpy as np\n",
        "from sklearn.feature_selection import SelectKBest\n",
        "from sklearn.feature_selection import chi2"
      ],
      "metadata": {
        "id": "PUm4ktBmfPzx"
      },
      "execution_count": null,
      "outputs": []
    },
    {
      "cell_type": "code",
      "source": [
        "X = X.loc[:, X.columns != 'Model']\n",
        "bestfeatures = SelectKBest(score_func=chi2, k=10)\n",
        "fit = bestfeatures.fit(X,y)\n",
        "dfscores = pd.DataFrame(fit.scores_)\n",
        "dfcolumns = pd.DataFrame(X.columns)\n",
        "#concat two dataframes for better visualization \n",
        "featureScores = pd.concat([dfcolumns,dfscores],axis=1)\n",
        "featureScores.columns = ['Specs','Score']  #naming the dataframe columns\n",
        "print(featureScores.nlargest(10,'Score'))  #print 10 best features"
      ],
      "metadata": {
        "colab": {
          "base_uri": "https://localhost:8080/"
        },
        "id": "ZcEb-tjcfp6A",
        "outputId": "8b565279-4f43-4e3d-ffe7-3cbf234460b8"
      },
      "execution_count": null,
      "outputs": [
        {
          "output_type": "stream",
          "name": "stdout",
          "text": [
            "               Specs         Score\n",
            "5    Estimated_Price  5.152818e+14\n",
            "6    Received_in_Day  6.117732e+02\n",
            "11             تعويض  3.397011e+02\n",
            "10            احتمال  2.176277e+02\n",
            "13             تاييد  2.043263e+02\n",
            "9              خاموش  2.009518e+02\n",
            "7           In_Queue  1.490276e+02\n",
            "18             خارجي  9.311345e+01\n",
            "16           مادربرد  8.935721e+01\n",
            "313           Length  7.799728e+01\n"
          ]
        }
      ]
    },
    {
      "cell_type": "code",
      "source": [
        "from sklearn.ensemble import ExtraTreesClassifier\n",
        "import matplotlib.pyplot as plt\n",
        "model = ExtraTreesClassifier()\n",
        "model.fit(X,y)\n",
        "\n",
        "print(model.feature_importances_) #use inbuilt class feature_importances of tree based classifiers\n",
        "#plot graph of feature importances for better visualization\n",
        "feat_importances = pd.Series(model.feature_importances_, index=X.columns)\n",
        "feat_importances.nlargest(15).plot(kind='barh')\n",
        "plt.show()"
      ],
      "metadata": {
        "colab": {
          "base_uri": "https://localhost:8080/",
          "height": 1000
        },
        "id": "g32-gs3R0uu0",
        "outputId": "84e2dc19-7f15-4095-f3fb-216078665511"
      },
      "execution_count": null,
      "outputs": [
        {
          "output_type": "stream",
          "name": "stdout",
          "text": [
            "[6.81151153e-02 5.87445208e-02 3.28849509e-02 1.01699707e-01\n",
            " 7.21774777e-02 8.25248630e-02 9.99917008e-02 8.62116952e-02\n",
            " 8.64355894e-03 4.09053852e-03 4.02706586e-03 9.35595384e-03\n",
            " 7.30943547e-03 4.13153783e-03 6.87316768e-03 6.71128807e-03\n",
            " 5.00247927e-03 5.10093365e-03 5.57736478e-03 4.89357814e-03\n",
            " 4.74539158e-03 4.97223896e-03 4.28128462e-03 5.63309776e-03\n",
            " 5.01670648e-03 5.00981423e-03 4.86018181e-03 3.11813012e-03\n",
            " 3.77798437e-03 3.20885582e-03 3.18530304e-03 3.10647411e-03\n",
            " 4.66511973e-03 4.25543863e-03 4.02095015e-03 2.55751022e-03\n",
            " 4.58896516e-03 3.46989367e-03 4.80473387e-03 3.26016208e-03\n",
            " 4.52182435e-03 3.05390214e-03 3.80894018e-03 3.30145033e-03\n",
            " 1.78727853e-03 2.42702257e-03 3.60753319e-03 1.94189596e-03\n",
            " 3.13377334e-03 2.77402561e-03 2.79569424e-03 2.87380406e-03\n",
            " 2.62495015e-03 3.23779516e-03 2.06659785e-03 2.82283435e-03\n",
            " 2.20766089e-03 1.95855808e-03 1.12228966e-03 2.45553308e-03\n",
            " 1.04005276e-03 2.84512269e-03 2.78926029e-03 1.49628301e-03\n",
            " 2.55744969e-03 1.75542699e-03 1.84696495e-03 2.60323937e-03\n",
            " 1.60083364e-03 1.73248704e-03 9.76324918e-04 9.05546771e-04\n",
            " 1.75047718e-03 2.04663156e-03 2.15850134e-03 1.45058290e-03\n",
            " 1.90986629e-03 1.58108376e-03 1.21595258e-03 1.59658225e-03\n",
            " 1.29619005e-03 1.47544851e-03 8.74038483e-04 1.80171317e-03\n",
            " 1.22726918e-03 1.87339532e-03 1.62625236e-03 1.35263089e-03\n",
            " 1.35601192e-03 1.40512231e-03 8.78786767e-04 1.12111425e-03\n",
            " 1.04304793e-03 1.36027065e-03 1.31203465e-03 1.19030960e-03\n",
            " 1.26668316e-03 1.21074741e-03 9.77183141e-04 1.52286103e-03\n",
            " 8.52516452e-04 1.41642168e-03 1.05280067e-03 1.30894327e-03\n",
            " 1.40816987e-03 8.04151455e-04 9.22526350e-04 1.15654594e-03\n",
            " 9.50140464e-04 1.11125402e-03 1.43774486e-03 1.32340169e-03\n",
            " 3.36018550e-04 1.06832056e-03 7.97815614e-04 5.05018190e-04\n",
            " 8.17942206e-04 7.03908521e-04 1.05166283e-03 6.43130338e-04\n",
            " 7.24557405e-04 4.74785617e-04 9.83620490e-04 8.52853469e-04\n",
            " 8.84787184e-04 8.25073665e-04 1.01247422e-03 8.86818576e-04\n",
            " 1.11628014e-03 7.59056989e-04 5.89656802e-04 6.68202252e-04\n",
            " 6.48200198e-04 6.44350028e-04 3.87025299e-04 8.64751878e-04\n",
            " 6.07563492e-04 5.99306486e-04 6.47899452e-04 3.25304388e-04\n",
            " 5.82701014e-04 4.50268339e-04 7.82519158e-04 2.98670227e-04\n",
            " 5.31144451e-04 7.69050893e-04 8.08840365e-04 4.82495350e-04\n",
            " 5.83991593e-04 5.12723251e-04 4.73495758e-04 4.05964704e-04\n",
            " 3.88203989e-04 5.73647853e-04 4.72630557e-04 5.13357327e-04\n",
            " 3.86487614e-04 4.42048271e-04 3.87993561e-04 5.31878762e-04\n",
            " 5.07255144e-04 7.66467580e-04 2.82533477e-04 6.47547979e-04\n",
            " 6.51849262e-04 3.62571564e-04 4.08359651e-04 4.86642292e-04\n",
            " 5.32299775e-04 5.94560622e-04 3.98186337e-04 7.02146307e-04\n",
            " 4.89468168e-04 6.76072381e-04 3.22594318e-04 4.28004438e-04\n",
            " 5.66230048e-04 4.50283324e-04 4.73824084e-04 6.02437156e-04\n",
            " 4.87104573e-04 1.78748504e-04 4.64835864e-04 5.96425713e-04\n",
            " 4.49828612e-04 4.50968407e-04 5.84873833e-04 3.95661029e-04\n",
            " 4.54694309e-04 4.71649619e-04 4.32165972e-04 1.80093626e-04\n",
            " 3.61919233e-04 4.09877160e-04 3.19633079e-04 2.84022587e-04\n",
            " 3.59260969e-04 3.32530711e-04 5.11612584e-04 3.33214391e-04\n",
            " 4.50923213e-04 4.21734294e-04 3.88668315e-04 2.64322217e-04\n",
            " 5.50751214e-04 4.35066885e-04 2.33391870e-04 3.24407150e-04\n",
            " 2.81988297e-04 3.20643466e-04 4.73962601e-04 2.53383016e-04\n",
            " 2.02903026e-04 4.03468099e-04 3.65268971e-04 2.58585376e-04\n",
            " 4.73067141e-04 1.91460900e-04 4.11003050e-04 2.04104897e-04\n",
            " 2.56488974e-04 3.90715294e-04 2.07902355e-04 2.08781560e-04\n",
            " 3.06741999e-04 3.21881188e-04 3.02073540e-04 2.79310903e-04\n",
            " 3.76214397e-04 2.70456373e-04 3.46983919e-04 3.42059292e-04\n",
            " 4.26273115e-04 2.57476445e-04 2.36701732e-04 2.12321259e-04\n",
            " 3.99447775e-04 2.44729251e-04 2.06776875e-04 2.52993190e-04\n",
            " 3.37464373e-04 9.09394566e-05 1.86604883e-04 2.05421502e-04\n",
            " 1.60903556e-04 2.34873475e-04 1.04108330e-04 1.52858330e-04\n",
            " 1.74401022e-04 3.38276424e-04 2.23633201e-04 4.17388885e-04\n",
            " 2.62830034e-04 1.48961425e-04 1.80522747e-04 2.37825370e-04\n",
            " 1.76799048e-04 1.16398543e-04 1.83492305e-04 3.03691421e-04\n",
            " 3.95203002e-04 2.00987383e-04 2.20852003e-04 1.57176411e-04\n",
            " 2.14561922e-04 8.58566404e-05 2.65031116e-04 1.71526274e-04\n",
            " 1.31016121e-04 3.13931767e-04 6.49026413e-05 2.10996559e-04\n",
            " 2.46368848e-04 2.59553323e-04 3.41116074e-04 2.42308441e-04\n",
            " 1.44222844e-04 2.01784582e-04 2.40517080e-04 2.31917478e-04\n",
            " 8.53470897e-06 1.60144243e-04 1.97512580e-04 2.81970840e-04\n",
            " 1.96017860e-04 1.77858993e-04 9.16674521e-05 2.01997772e-04\n",
            " 1.89131697e-04 9.71437834e-05 1.60181547e-04 2.30671349e-04\n",
            " 1.98767810e-04 1.43212733e-04 1.76665866e-04 1.26777226e-05\n",
            " 1.58266080e-04 1.79325885e-04 1.66716692e-04 1.32602610e-04\n",
            " 1.16346566e-04 1.26297724e-04 2.00827805e-04 1.33903607e-04\n",
            " 1.43691384e-04 1.02662553e-04 1.36803982e-04 1.90252186e-04\n",
            " 1.61521512e-04 1.61559467e-04 9.82456777e-05 2.09897930e-04\n",
            " 1.32400037e-04 3.74759801e-02]\n"
          ]
        },
        {
          "output_type": "display_data",
          "data": {
            "text/plain": [
              "<Figure size 432x288 with 1 Axes>"
            ],
            "image/png": "[encoded data removed]"
          },
          "metadata": {
            "needs_background": "light"
          }
        }
      ]
    },
    {
      "cell_type": "code",
      "source": [
        "from sklearn.datasets import load_iris\n",
        "from sklearn.feature_selection import SelectKBest\n",
        "from sklearn.feature_selection import chi2\n",
        "X.shape\n",
        "X_new = SelectKBest(chi2, k=100).fit_transform(X, y)\n",
        "X_new.shape"
      ],
      "metadata": {
        "colab": {
          "base_uri": "https://localhost:8080/"
        },
        "id": "M0v4UzxQgAEY",
        "outputId": "d37a4572-318e-4c75-c001-2eaa9553cc5e"
      },
      "execution_count": null,
      "outputs": [
        {
          "output_type": "execute_result",
          "data": {
            "text/plain": [
              "ExtraTreesClassifier()"
            ]
          },
          "metadata": {},
          "execution_count": 16
        }
      ]
    },
    {
      "cell_type": "code",
      "source": [
        "X = pd.concat([X,pd.get_dummies(X['Enter_Month'])],1)\n",
        "X = pd.concat([X,pd.get_dummies(X['Enter_Day_Name'])],1)\n",
        "X = pd.concat([X,pd.get_dummies(X['Enter_Year'])],1)\n",
        "X = pd.concat([X,pd.get_dummies(X['Brand'])],1)\n",
        "#X = pd.concat([X,pd.get_dummies(X['Model'])],1)\n",
        "\n",
        "X = X.loc[:, X.columns != 'Enter_Month']\n",
        "X = X.loc[:, X.columns != 'Enter_Day_Name']\n",
        "X = X.loc[:, X.columns != 'Enter_Year']\n",
        "X = X.loc[:, X.columns != 'Brand']\n",
        "X = X.loc[:, X.columns != 'Model']\n",
        "\n",
        "X.shape[1]\n",
        "X"
      ],
      "metadata": {
        "colab": {
          "base_uri": "https://localhost:8080/",
          "height": 631
        },
        "id": "a9deXmf2s8GQ",
        "outputId": "8905d7c3-f1fd-43a1-da50-d8d9327cbaca"
      },
      "execution_count": null,
      "outputs": [
        {
          "output_type": "stream",
          "name": "stderr",
          "text": [
            "/usr/local/lib/python3.7/dist-packages/ipykernel_launcher.py:1: FutureWarning: In a future version of pandas all arguments of concat except for the argument 'objs' will be keyword-only\n",
            "  \"\"\"Entry point for launching an IPython kernel.\n",
            "/usr/local/lib/python3.7/dist-packages/ipykernel_launcher.py:2: FutureWarning: In a future version of pandas all arguments of concat except for the argument 'objs' will be keyword-only\n",
            "  \n",
            "/usr/local/lib/python3.7/dist-packages/ipykernel_launcher.py:3: FutureWarning: In a future version of pandas all arguments of concat except for the argument 'objs' will be keyword-only\n",
            "  This is separate from the ipykernel package so we can avoid doing imports until\n",
            "/usr/local/lib/python3.7/dist-packages/ipykernel_launcher.py:4: FutureWarning: In a future version of pandas all arguments of concat except for the argument 'objs' will be keyword-only\n",
            "  after removing the cwd from sys.path.\n"
          ]
        },
        {
          "output_type": "execute_result",
          "data": {
            "text/plain": [
              "       Enter_Time  Estimated_Price  Received_in_Day  In_Queue  تصوير  خاموش  \\\n",
              "0       16.333333         475000.0                0         1      1      1   \n",
              "1       16.233333         800000.0                9         4      1      1   \n",
              "2       13.050000              0.0               12        17      1      0   \n",
              "3       11.216667         950000.0               28        44      1      1   \n",
              "4       11.400000              0.0               30        44      1      1   \n",
              "...           ...              ...              ...       ...    ...    ...   \n",
              "21231   14.066667        4150000.0               10         7      0      0   \n",
              "21232   15.066667              0.0               10         7      0      0   \n",
              "21233   15.683333        7800000.0               11         7      1      0   \n",
              "21234   16.416667        5240000.0               11         7      0      0   \n",
              "21235   11.333333       14550000.0                0         1      0      0   \n",
              "\n",
              "       احتمال  تعويض  چک  تاييد  ...  20  21  22  23  24  25  26  27  28  29  \n",
              "0           1      0   0      0  ...   0   0   0   1   0   0   0   0   0   0  \n",
              "1           1      0   0      0  ...   0   0   0   0   0   0   0   0   0   0  \n",
              "2           0      1   0      0  ...   0   0   0   0   0   0   0   0   0   0  \n",
              "3           1      0   0      0  ...   0   0   0   1   0   0   0   0   0   0  \n",
              "4           1      0   0      0  ...   0   0   0   0   0   0   0   0   0   0  \n",
              "...       ...    ...  ..    ...  ...  ..  ..  ..  ..  ..  ..  ..  ..  ..  ..  \n",
              "21231       0      1   0      0  ...   0   0   0   0   0   0   0   0   0   0  \n",
              "21232       0      0   1      0  ...   0   0   0   0   0   0   0   0   0   0  \n",
              "21233       0      0   0      0  ...   0   0   0   0   0   0   0   0   0   0  \n",
              "21234       0      1   0      0  ...   0   0   0   0   0   0   0   0   0   0  \n",
              "21235       0      1   1      0  ...   0   0   0   0   0   0   0   0   0   0  \n",
              "\n",
              "[18616 rows x 362 columns]"
            ],
            "text/html": [
              "\n",
              "  <div id=\"df-d95ab2c3-84c6-4b87-abc6-f241513388d3\">\n",
              "    <div class=\"colab-df-container\">\n",
              "      <div>\n",
              "<style scoped>\n",
              "    .dataframe tbody tr th:only-of-type {\n",
              "        vertical-align: middle;\n",
              "    }\n",
              "\n",
              "    .dataframe tbody tr th {\n",
              "        vertical-align: top;\n",
              "    }\n",
              "\n",
              "    .dataframe thead th {\n",
              "        text-align: right;\n",
              "    }\n",
              "</style>\n",
              "<table border=\"1\" class=\"dataframe\">\n",
              "  <thead>\n",
              "    <tr style=\"text-align: right;\">\n",
              "      <th></th>\n",
              "      <th>Enter_Time</th>\n",
              "      <th>Estimated_Price</th>\n",
              "      <th>Received_in_Day</th>\n",
              "      <th>In_Queue</th>\n",
              "      <th>تصوير</th>\n",
              "      <th>خاموش</th>\n",
              "      <th>احتمال</th>\n",
              "      <th>تعويض</th>\n",
              "      <th>چک</th>\n",
              "      <th>تاييد</th>\n",
              "      <th>...</th>\n",
              "      <th>20</th>\n",
              "      <th>21</th>\n",
              "      <th>22</th>\n",
              "      <th>23</th>\n",
              "      <th>24</th>\n",
              "      <th>25</th>\n",
              "      <th>26</th>\n",
              "      <th>27</th>\n",
              "      <th>28</th>\n",
              "      <th>29</th>\n",
              "    </tr>\n",
              "  </thead>\n",
              "  <tbody>\n",
              "    <tr>\n",
              "      <th>0</th>\n",
              "      <td>16.333333</td>\n",
              "      <td>475000.0</td>\n",
              "      <td>0</td>\n",
              "      <td>1</td>\n",
              "      <td>1</td>\n",
              "      <td>1</td>\n",
              "      <td>1</td>\n",
              "      <td>0</td>\n",
              "      <td>0</td>\n",
              "      <td>0</td>\n",
              "      <td>...</td>\n",
              "      <td>0</td>\n",
              "      <td>0</td>\n",
              "      <td>0</td>\n",
              "      <td>1</td>\n",
              "      <td>0</td>\n",
              "      <td>0</td>\n",
              "      <td>0</td>\n",
              "      <td>0</td>\n",
              "      <td>0</td>\n",
              "      <td>0</td>\n",
              "    </tr>\n",
              "    <tr>\n",
              "      <th>1</th>\n",
              "      <td>16.233333</td>\n",
              "      <td>800000.0</td>\n",
              "      <td>9</td>\n",
              "      <td>4</td>\n",
              "      <td>1</td>\n",
              "      <td>1</td>\n",
              "      <td>1</td>\n",
              "      <td>0</td>\n",
              "      <td>0</td>\n",
              "      <td>0</td>\n",
              "      <td>...</td>\n",
              "      <td>0</td>\n",
              "      <td>0</td>\n",
              "      <td>0</td>\n",
              "      <td>0</td>\n",
              "      <td>0</td>\n",
              "      <td>0</td>\n",
              "      <td>0</td>\n",
              "      <td>0</td>\n",
              "      <td>0</td>\n",
              "      <td>0</td>\n",
              "    </tr>\n",
              "    <tr>\n",
              "      <th>2</th>\n",
              "      <td>13.050000</td>\n",
              "      <td>0.0</td>\n",
              "      <td>12</td>\n",
              "      <td>17</td>\n",
              "      <td>1</td>\n",
              "      <td>0</td>\n",
              "      <td>0</td>\n",
              "      <td>1</td>\n",
              "      <td>0</td>\n",
              "      <td>0</td>\n",
              "      <td>...</td>\n",
              "      <td>0</td>\n",
              "      <td>0</td>\n",
              "      <td>0</td>\n",
              "      <td>0</td>\n",
              "      <td>0</td>\n",
              "      <td>0</td>\n",
              "      <td>0</td>\n",
              "      <td>0</td>\n",
              "      <td>0</td>\n",
              "      <td>0</td>\n",
              "    </tr>\n",
              "    <tr>\n",
              "      <th>3</th>\n",
              "      <td>11.216667</td>\n",
              "      <td>950000.0</td>\n",
              "      <td>28</td>\n",
              "      <td>44</td>\n",
              "      <td>1</td>\n",
              "      <td>1</td>\n",
              "      <td>1</td>\n",
              "      <td>0</td>\n",
              "      <td>0</td>\n",
              "      <td>0</td>\n",
              "      <td>...</td>\n",
              "      <td>0</td>\n",
              "      <td>0</td>\n",
              "      <td>0</td>\n",
              "      <td>1</td>\n",
              "      <td>0</td>\n",
              "      <td>0</td>\n",
              "      <td>0</td>\n",
              "      <td>0</td>\n",
              "      <td>0</td>\n",
              "      <td>0</td>\n",
              "    </tr>\n",
              "    <tr>\n",
              "      <th>4</th>\n",
              "      <td>11.400000</td>\n",
              "      <td>0.0</td>\n",
              "      <td>30</td>\n",
              "      <td>44</td>\n",
              "      <td>1</td>\n",
              "      <td>1</td>\n",
              "      <td>1</td>\n",
              "      <td>0</td>\n",
              "      <td>0</td>\n",
              "      <td>0</td>\n",
              "      <td>...</td>\n",
              "      <td>0</td>\n",
              "      <td>0</td>\n",
              "      <td>0</td>\n",
              "      <td>0</td>\n",
              "      <td>0</td>\n",
              "      <td>0</td>\n",
              "      <td>0</td>\n",
              "      <td>0</td>\n",
              "      <td>0</td>\n",
              "      <td>0</td>\n",
              "    </tr>\n",
              "    <tr>\n",
              "      <th>...</th>\n",
              "      <td>...</td>\n",
              "      <td>...</td>\n",
              "      <td>...</td>\n",
              "      <td>...</td>\n",
              "      <td>...</td>\n",
              "      <td>...</td>\n",
              "      <td>...</td>\n",
              "      <td>...</td>\n",
              "      <td>...</td>\n",
              "      <td>...</td>\n",
              "      <td>...</td>\n",
              "      <td>...</td>\n",
              "      <td>...</td>\n",
              "      <td>...</td>\n",
              "      <td>...</td>\n",
              "      <td>...</td>\n",
              "      <td>...</td>\n",
              "      <td>...</td>\n",
              "      <td>...</td>\n",
              "      <td>...</td>\n",
              "      <td>...</td>\n",
              "    </tr>\n",
              "    <tr>\n",
              "      <th>21231</th>\n",
              "      <td>14.066667</td>\n",
              "      <td>4150000.0</td>\n",
              "      <td>10</td>\n",
              "      <td>7</td>\n",
              "      <td>0</td>\n",
              "      <td>0</td>\n",
              "      <td>0</td>\n",
              "      <td>1</td>\n",
              "      <td>0</td>\n",
              "      <td>0</td>\n",
              "      <td>...</td>\n",
              "      <td>0</td>\n",
              "      <td>0</td>\n",
              "      <td>0</td>\n",
              "      <td>0</td>\n",
              "      <td>0</td>\n",
              "      <td>0</td>\n",
              "      <td>0</td>\n",
              "      <td>0</td>\n",
              "      <td>0</td>\n",
              "      <td>0</td>\n",
              "    </tr>\n",
              "    <tr>\n",
              "      <th>21232</th>\n",
              "      <td>15.066667</td>\n",
              "      <td>0.0</td>\n",
              "      <td>10</td>\n",
              "      <td>7</td>\n",
              "      <td>0</td>\n",
              "      <td>0</td>\n",
              "      <td>0</td>\n",
              "      <td>0</td>\n",
              "      <td>1</td>\n",
              "      <td>0</td>\n",
              "      <td>...</td>\n",
              "      <td>0</td>\n",
              "      <td>0</td>\n",
              "      <td>0</td>\n",
              "      <td>0</td>\n",
              "      <td>0</td>\n",
              "      <td>0</td>\n",
              "      <td>0</td>\n",
              "      <td>0</td>\n",
              "      <td>0</td>\n",
              "      <td>0</td>\n",
              "    </tr>\n",
              "    <tr>\n",
              "      <th>21233</th>\n",
              "      <td>15.683333</td>\n",
              "      <td>7800000.0</td>\n",
              "      <td>11</td>\n",
              "      <td>7</td>\n",
              "      <td>1</td>\n",
              "      <td>0</td>\n",
              "      <td>0</td>\n",
              "      <td>0</td>\n",
              "      <td>0</td>\n",
              "      <td>0</td>\n",
              "      <td>...</td>\n",
              "      <td>0</td>\n",
              "      <td>0</td>\n",
              "      <td>0</td>\n",
              "      <td>0</td>\n",
              "      <td>0</td>\n",
              "      <td>0</td>\n",
              "      <td>0</td>\n",
              "      <td>0</td>\n",
              "      <td>0</td>\n",
              "      <td>0</td>\n",
              "    </tr>\n",
              "    <tr>\n",
              "      <th>21234</th>\n",
              "      <td>16.416667</td>\n",
              "      <td>5240000.0</td>\n",
              "      <td>11</td>\n",
              "      <td>7</td>\n",
              "      <td>0</td>\n",
              "      <td>0</td>\n",
              "      <td>0</td>\n",
              "      <td>1</td>\n",
              "      <td>0</td>\n",
              "      <td>0</td>\n",
              "      <td>...</td>\n",
              "      <td>0</td>\n",
              "      <td>0</td>\n",
              "      <td>0</td>\n",
              "      <td>0</td>\n",
              "      <td>0</td>\n",
              "      <td>0</td>\n",
              "      <td>0</td>\n",
              "      <td>0</td>\n",
              "      <td>0</td>\n",
              "      <td>0</td>\n",
              "    </tr>\n",
              "    <tr>\n",
              "      <th>21235</th>\n",
              "      <td>11.333333</td>\n",
              "      <td>14550000.0</td>\n",
              "      <td>0</td>\n",
              "      <td>1</td>\n",
              "      <td>0</td>\n",
              "      <td>0</td>\n",
              "      <td>0</td>\n",
              "      <td>1</td>\n",
              "      <td>1</td>\n",
              "      <td>0</td>\n",
              "      <td>...</td>\n",
              "      <td>0</td>\n",
              "      <td>0</td>\n",
              "      <td>0</td>\n",
              "      <td>0</td>\n",
              "      <td>0</td>\n",
              "      <td>0</td>\n",
              "      <td>0</td>\n",
              "      <td>0</td>\n",
              "      <td>0</td>\n",
              "      <td>0</td>\n",
              "    </tr>\n",
              "  </tbody>\n",
              "</table>\n",
              "<p>18616 rows × 362 columns</p>\n",
              "</div>\n",
              "      <button class=\"colab-df-convert\" onclick=\"convertToInteractive('df-d95ab2c3-84c6-4b87-abc6-f241513388d3')\"\n",
              "              title=\"Convert this dataframe to an interactive table.\"\n",
              "              style=\"display:none;\">\n",
              "        \n",
              "  <svg xmlns=\"http://www.w3.org/2000/svg\" height=\"24px\"viewBox=\"0 0 24 24\"\n",
              "       width=\"24px\">\n",
              "    <path d=\"M0 0h24v24H0V0z\" fill=\"none\"/>\n",
              "    <path d=\"M18.56 5.44l.94 2.06.94-2.06 2.06-.94-2.06-.94-.94-2.06-.94 2.06-2.06.94zm-11 1L8.5 8.5l.94-2.06 2.06-.94-2.06-.94L8.5 2.5l-.94 2.06-2.06.94zm10 10l.94 2.06.94-2.06 2.06-.94-2.06-.94-.94-2.06-.94 2.06-2.06.94z\"/><path d=\"M17.41 7.96l-1.37-1.37c-.4-.4-.92-.59-1.43-.59-.52 0-1.04.2-1.43.59L10.3 9.45l-7.72 7.72c-.78.78-.78 2.05 0 2.83L4 21.41c.39.39.9.59 1.41.59.51 0 1.02-.2 1.41-.59l7.78-7.78 2.81-2.81c.8-.78.8-2.07 0-2.86zM5.41 20L4 18.59l7.72-7.72 1.47 1.35L5.41 20z\"/>\n",
              "  </svg>\n",
              "      </button>\n",
              "      \n",
              "  <style>\n",
              "    .colab-df-container {\n",
              "      display:flex;\n",
              "      flex-wrap:wrap;\n",
              "      gap: 12px;\n",
              "    }\n",
              "\n",
              "    .colab-df-convert {\n",
              "      background-color: #E8F0FE;\n",
              "      border: none;\n",
              "      border-radius: 50%;\n",
              "      cursor: pointer;\n",
              "      display: none;\n",
              "      fill: #1967D2;\n",
              "      height: 32px;\n",
              "      padding: 0 0 0 0;\n",
              "      width: 32px;\n",
              "    }\n",
              "\n",
              "    .colab-df-convert:hover {\n",
              "      background-color: #E2EBFA;\n",
              "      box-shadow: 0px 1px 2px rgba(60, 64, 67, 0.3), 0px 1px 3px 1px rgba(60, 64, 67, 0.15);\n",
              "      fill: #174EA6;\n",
              "    }\n",
              "\n",
              "    [theme=dark] .colab-df-convert {\n",
              "      background-color: #3B4455;\n",
              "      fill: #D2E3FC;\n",
              "    }\n",
              "\n",
              "    [theme=dark] .colab-df-convert:hover {\n",
              "      background-color: #434B5C;\n",
              "      box-shadow: 0px 1px 3px 1px rgba(0, 0, 0, 0.15);\n",
              "      filter: drop-shadow(0px 1px 2px rgba(0, 0, 0, 0.3));\n",
              "      fill: #FFFFFF;\n",
              "    }\n",
              "  </style>\n",
              "\n",
              "      <script>\n",
              "        const buttonEl =\n",
              "          document.querySelector('#df-d95ab2c3-84c6-4b87-abc6-f241513388d3 button.colab-df-convert');\n",
              "        buttonEl.style.display =\n",
              "          google.colab.kernel.accessAllowed ? 'block' : 'none';\n",
              "\n",
              "        async function convertToInteractive(key) {\n",
              "          const element = document.querySelector('#df-d95ab2c3-84c6-4b87-abc6-f241513388d3');\n",
              "          const dataTable =\n",
              "            await google.colab.kernel.invokeFunction('convertToInteractive',\n",
              "                                                     [key], {});\n",
              "          if (!dataTable) return;\n",
              "\n",
              "          const docLinkHtml = 'Like what you see? Visit the ' +\n",
              "            '<a target=\"_blank\" href=https://colab.research.google.com/notebooks/data_table.ipynb>data table notebook</a>'\n",
              "            + ' to learn more about interactive tables.';\n",
              "          element.innerHTML = '';\n",
              "          dataTable['output_type'] = 'display_data';\n",
              "          await google.colab.output.renderOutput(dataTable, element);\n",
              "          const docLink = document.createElement('div');\n",
              "          docLink.innerHTML = docLinkHtml;\n",
              "          element.appendChild(docLink);\n",
              "        }\n",
              "      </script>\n",
              "    </div>\n",
              "  </div>\n",
              "  "
            ]
          },
          "metadata": {},
          "execution_count": 31
        }
      ]
    },
    {
      "cell_type": "code",
      "source": [
        "from sklearn.model_selection import train_test_split\n",
        "from sklearn.preprocessing import MinMaxScaler\n",
        "\n",
        "X_train, X_test, y_train, y_test = train_test_split(X, y, test_size=0.15) \n",
        "\n",
        "X_train_N = X_train.copy()\n",
        "X_test_N = X_test.copy()\n",
        "\n",
        "X_train_N = X_train_N.loc[:, X_train_N.columns != 'In_Queue']\n",
        "X_train_N = X_train_N.loc[:, X_train_N.columns != 'Received_in_Day']\n",
        "\n",
        "X_test_N = X_test_N.loc[:, X_test_N.columns != 'In_Queue']\n",
        "X_test_N = X_test_N.loc[:, X_test_N.columns != 'Received_in_Day']\n",
        "\n",
        "mms = MinMaxScaler()\n",
        "\n",
        "mms.fit(X_train)\n",
        "X_train = mms.transform(X_train)\n",
        "mms.fit(X_test)\n",
        "X_test = mms.transform(X_test)\n",
        "\n",
        "mms.fit(X_train_N)\n",
        "X_train_N = mms.transform(X_train_N)\n",
        "mms.fit(X_test_N)\n",
        "X_test_N = mms.transform(X_test_N)\n",
        "\n",
        "from sklearn.metrics import mean_squared_error,mean_absolute_error\n",
        "from math import sqrt"
      ],
      "metadata": {
        "id": "Pf6BwkJIvc2r",
        "colab": {
          "base_uri": "https://localhost:8080/"
        },
        "outputId": "3f2276d9-1124-4bfa-de43-05aaeafe05d8"
      },
      "execution_count": null,
      "outputs": [
        {
          "output_type": "stream",
          "name": "stderr",
          "text": [
            "/usr/local/lib/python3.7/dist-packages/sklearn/utils/validation.py:1692: FutureWarning: Feature names only support names that are all strings. Got feature names with dtypes: ['int', 'str']. An error will be raised in 1.2.\n",
            "  FutureWarning,\n",
            "/usr/local/lib/python3.7/dist-packages/sklearn/utils/validation.py:1692: FutureWarning: Feature names only support names that are all strings. Got feature names with dtypes: ['int', 'str']. An error will be raised in 1.2.\n",
            "  FutureWarning,\n",
            "/usr/local/lib/python3.7/dist-packages/sklearn/utils/validation.py:1692: FutureWarning: Feature names only support names that are all strings. Got feature names with dtypes: ['int', 'str']. An error will be raised in 1.2.\n",
            "  FutureWarning,\n",
            "/usr/local/lib/python3.7/dist-packages/sklearn/utils/validation.py:1692: FutureWarning: Feature names only support names that are all strings. Got feature names with dtypes: ['int', 'str']. An error will be raised in 1.2.\n",
            "  FutureWarning,\n",
            "/usr/local/lib/python3.7/dist-packages/sklearn/utils/validation.py:1692: FutureWarning: Feature names only support names that are all strings. Got feature names with dtypes: ['int', 'str']. An error will be raised in 1.2.\n",
            "  FutureWarning,\n",
            "/usr/local/lib/python3.7/dist-packages/sklearn/utils/validation.py:1692: FutureWarning: Feature names only support names that are all strings. Got feature names with dtypes: ['int', 'str']. An error will be raised in 1.2.\n",
            "  FutureWarning,\n",
            "/usr/local/lib/python3.7/dist-packages/sklearn/utils/validation.py:1692: FutureWarning: Feature names only support names that are all strings. Got feature names with dtypes: ['int', 'str']. An error will be raised in 1.2.\n",
            "  FutureWarning,\n",
            "/usr/local/lib/python3.7/dist-packages/sklearn/utils/validation.py:1692: FutureWarning: Feature names only support names that are all strings. Got feature names with dtypes: ['int', 'str']. An error will be raised in 1.2.\n",
            "  FutureWarning,\n"
          ]
        }
      ]
    },
    {
      "cell_type": "code",
      "source": [
        "from tensorflow.keras.layers import Input, Dense, Activation,Dropout\n",
        "from tensorflow.keras.models import Model\n",
        "\n",
        "#mean_squared_logarithmic_error"
      ],
      "metadata": {
        "id": "s5Tnun25Ai6J"
      },
      "execution_count": null,
      "outputs": []
    },
    {
      "cell_type": "code",
      "source": [
        "a = np.zeros((len(y_train),1))\n",
        "for i in range(len(a)):\n",
        "  a[i] = np.random.exponential(scale=4.56)"
      ],
      "metadata": {
        "id": "AdiSKx777YtK"
      },
      "execution_count": null,
      "outputs": []
    },
    {
      "cell_type": "code",
      "source": [
        "f = lambda a: (abs(a)+a)/2 \n",
        "\n",
        "input_layer = Input(shape=(X.shape[1],))\n",
        "dense_layer_1 = Dense(512, activation='relu')(input_layer)\n",
        "dense_layer_2 = Dense(128, activation='relu')(dense_layer_1)\n",
        "dense_layer_3 = Dense(64, activation='relu')(dense_layer_2)\n",
        "output = (Dense(1)(dense_layer_3))\n",
        "\n",
        "model = Model(inputs=input_layer, outputs=output)\n",
        "model.compile(loss=\"mean_squared_error\" , optimizer=\"adam\", metrics=[\"mean_squared_error\"])\n",
        "\n",
        "history = model.fit(X_train, y_train, batch_size=256, epochs=30, verbose=1, validation_split=0.1)\n",
        "\n",
        "pred_train = model.predict(X_train)\n",
        "print(np.sqrt(mean_squared_error(y_train,pred_train)))\n",
        "\n",
        "pred = model.predict(X_test)\n",
        "print(np.sqrt(mean_squared_error(y_test,f(pred))))\n",
        "\n",
        "pred = model.predict(X_test)\n",
        "print((mean_absolute_error(y_test,pred)))"
      ],
      "metadata": {
        "colab": {
          "base_uri": "https://localhost:8080/"
        },
        "id": "li5_2yvq-IL6",
        "outputId": "e23d6598-945f-4903-b962-383896561a26"
      },
      "execution_count": null,
      "outputs": [
        {
          "output_type": "stream",
          "name": "stdout",
          "text": [
            "Epoch 1/30\n",
            "56/56 [==============================] - 2s 16ms/step - loss: 4.4037 - mean_squared_error: 4.4037 - val_loss: 4.0666 - val_mean_squared_error: 4.0666\n",
            "Epoch 2/30\n",
            "56/56 [==============================] - 1s 13ms/step - loss: 3.9809 - mean_squared_error: 3.9809 - val_loss: 4.0512 - val_mean_squared_error: 4.0512\n",
            "Epoch 3/30\n",
            "56/56 [==============================] - 1s 12ms/step - loss: 3.8648 - mean_squared_error: 3.8648 - val_loss: 4.0811 - val_mean_squared_error: 4.0811\n",
            "Epoch 4/30\n",
            "56/56 [==============================] - 1s 13ms/step - loss: 3.7377 - mean_squared_error: 3.7377 - val_loss: 4.1352 - val_mean_squared_error: 4.1352\n",
            "Epoch 5/30\n",
            "56/56 [==============================] - 1s 13ms/step - loss: 3.5014 - mean_squared_error: 3.5014 - val_loss: 4.3254 - val_mean_squared_error: 4.3254\n",
            "Epoch 6/30\n",
            "56/56 [==============================] - 1s 13ms/step - loss: 3.1711 - mean_squared_error: 3.1711 - val_loss: 4.3528 - val_mean_squared_error: 4.3528\n",
            "Epoch 7/30\n",
            "56/56 [==============================] - 1s 12ms/step - loss: 2.7795 - mean_squared_error: 2.7795 - val_loss: 4.7074 - val_mean_squared_error: 4.7074\n",
            "Epoch 8/30\n",
            "56/56 [==============================] - 1s 12ms/step - loss: 2.5244 - mean_squared_error: 2.5244 - val_loss: 4.5431 - val_mean_squared_error: 4.5431\n",
            "Epoch 9/30\n",
            "56/56 [==============================] - 1s 14ms/step - loss: 2.2669 - mean_squared_error: 2.2669 - val_loss: 4.9955 - val_mean_squared_error: 4.9955\n",
            "Epoch 10/30\n",
            "56/56 [==============================] - 1s 13ms/step - loss: 2.0619 - mean_squared_error: 2.0619 - val_loss: 4.8898 - val_mean_squared_error: 4.8898\n",
            "Epoch 11/30\n",
            "56/56 [==============================] - 1s 13ms/step - loss: 1.9379 - mean_squared_error: 1.9379 - val_loss: 5.0229 - val_mean_squared_error: 5.0229\n",
            "Epoch 12/30\n",
            "56/56 [==============================] - 1s 12ms/step - loss: 1.8093 - mean_squared_error: 1.8093 - val_loss: 4.8936 - val_mean_squared_error: 4.8936\n",
            "Epoch 13/30\n",
            "56/56 [==============================] - 1s 13ms/step - loss: 1.6752 - mean_squared_error: 1.6752 - val_loss: 5.0902 - val_mean_squared_error: 5.0902\n",
            "Epoch 14/30\n",
            "56/56 [==============================] - 1s 13ms/step - loss: 1.5713 - mean_squared_error: 1.5713 - val_loss: 5.1201 - val_mean_squared_error: 5.1201\n",
            "Epoch 15/30\n",
            "56/56 [==============================] - 1s 13ms/step - loss: 1.4744 - mean_squared_error: 1.4744 - val_loss: 5.2019 - val_mean_squared_error: 5.2019\n",
            "Epoch 16/30\n",
            "56/56 [==============================] - 1s 12ms/step - loss: 1.3999 - mean_squared_error: 1.3999 - val_loss: 5.1951 - val_mean_squared_error: 5.1951\n",
            "Epoch 17/30\n",
            "56/56 [==============================] - 1s 12ms/step - loss: 1.3037 - mean_squared_error: 1.3037 - val_loss: 5.4009 - val_mean_squared_error: 5.4009\n",
            "Epoch 18/30\n",
            "56/56 [==============================] - 1s 12ms/step - loss: 1.2869 - mean_squared_error: 1.2869 - val_loss: 5.7252 - val_mean_squared_error: 5.7252\n",
            "Epoch 19/30\n",
            "56/56 [==============================] - 1s 13ms/step - loss: 1.1952 - mean_squared_error: 1.1952 - val_loss: 5.3529 - val_mean_squared_error: 5.3529\n",
            "Epoch 20/30\n",
            "56/56 [==============================] - 1s 13ms/step - loss: 1.1255 - mean_squared_error: 1.1255 - val_loss: 5.5069 - val_mean_squared_error: 5.5069\n",
            "Epoch 21/30\n",
            "56/56 [==============================] - 1s 12ms/step - loss: 1.0676 - mean_squared_error: 1.0676 - val_loss: 5.3762 - val_mean_squared_error: 5.3762\n",
            "Epoch 22/30\n",
            "56/56 [==============================] - 1s 12ms/step - loss: 1.0245 - mean_squared_error: 1.0245 - val_loss: 5.5088 - val_mean_squared_error: 5.5088\n",
            "Epoch 23/30\n",
            "56/56 [==============================] - 1s 15ms/step - loss: 0.9962 - mean_squared_error: 0.9962 - val_loss: 5.5308 - val_mean_squared_error: 5.5308\n",
            "Epoch 24/30\n",
            "56/56 [==============================] - 1s 13ms/step - loss: 0.9470 - mean_squared_error: 0.9470 - val_loss: 5.4383 - val_mean_squared_error: 5.4383\n",
            "Epoch 25/30\n",
            "56/56 [==============================] - 1s 13ms/step - loss: 0.8851 - mean_squared_error: 0.8851 - val_loss: 5.7874 - val_mean_squared_error: 5.7874\n",
            "Epoch 26/30\n",
            "56/56 [==============================] - 1s 13ms/step - loss: 0.8825 - mean_squared_error: 0.8825 - val_loss: 5.6614 - val_mean_squared_error: 5.6614\n",
            "Epoch 27/30\n",
            "56/56 [==============================] - 1s 13ms/step - loss: 0.8354 - mean_squared_error: 0.8354 - val_loss: 5.5365 - val_mean_squared_error: 5.5365\n",
            "Epoch 28/30\n",
            "56/56 [==============================] - 1s 13ms/step - loss: 0.8394 - mean_squared_error: 0.8394 - val_loss: 5.6944 - val_mean_squared_error: 5.6944\n",
            "Epoch 29/30\n",
            "56/56 [==============================] - 1s 12ms/step - loss: 0.7942 - mean_squared_error: 0.7942 - val_loss: 5.5057 - val_mean_squared_error: 5.5057\n",
            "Epoch 30/30\n",
            "56/56 [==============================] - 1s 13ms/step - loss: 0.7799 - mean_squared_error: 0.7799 - val_loss: 5.5699 - val_mean_squared_error: 5.5699\n",
            "1.1024973941997613\n",
            "2.318074024569174\n",
            "1.6645712748987183\n"
          ]
        }
      ]
    },
    {
      "cell_type": "code",
      "source": [
        "f=lambda a: (abs(a)+a)/2 \n",
        "input_layer = Input(shape=(X.shape[1],))\n",
        "dense_layer_1 = Dense(256, activation='relu')(input_layer)\n",
        "dense_layer_2 = Dense(64, activation='relu')(dense_layer_1)\n",
        "dense_layer_3 = Dense(32, activation='relu')(dense_layer_2)\n",
        "output = (Dense(1)(dense_layer_3))\n",
        "\n",
        "model2 = Model(inputs=input_layer, outputs=output)\n",
        "model2.compile(loss=\"mean_squared_error\" , optimizer=\"adam\", metrics=[\"mean_squared_error\"])\n",
        "\n",
        "history2 = model2.fit(X_train, y_train, batch_size=256, epochs=30, verbose=1, validation_split=0.1)\n",
        "\n",
        "pred_train2 = model2.predict(X_train)\n",
        "print(np.sqrt(mean_squared_error(y_train,pred_train2)))\n",
        "\n",
        "pred2 = model2.predict(X_test)\n",
        "print(np.sqrt(mean_squared_error(y_test,pred2)))\n",
        "print((mean_absolute_error(y_test,(pred2))))"
      ],
      "metadata": {
        "colab": {
          "base_uri": "https://localhost:8080/"
        },
        "id": "mENpcaA8xjbc",
        "outputId": "858e5a4e-4132-4e7c-e789-be5114c759e8"
      },
      "execution_count": null,
      "outputs": [
        {
          "output_type": "stream",
          "name": "stdout",
          "text": [
            "Epoch 1/30\n",
            "56/56 [==============================] - 1s 11ms/step - loss: 4.5638 - mean_squared_error: 4.5638 - val_loss: 4.0978 - val_mean_squared_error: 4.0978\n",
            "Epoch 2/30\n",
            "56/56 [==============================] - 0s 8ms/step - loss: 4.0293 - mean_squared_error: 4.0293 - val_loss: 4.0207 - val_mean_squared_error: 4.0207\n",
            "Epoch 3/30\n",
            "56/56 [==============================] - 1s 9ms/step - loss: 3.9312 - mean_squared_error: 3.9312 - val_loss: 4.0484 - val_mean_squared_error: 4.0484\n",
            "Epoch 4/30\n",
            "56/56 [==============================] - 0s 8ms/step - loss: 3.8538 - mean_squared_error: 3.8538 - val_loss: 4.0810 - val_mean_squared_error: 4.0810\n",
            "Epoch 5/30\n",
            "56/56 [==============================] - 0s 8ms/step - loss: 3.7485 - mean_squared_error: 3.7485 - val_loss: 4.1006 - val_mean_squared_error: 4.1006\n",
            "Epoch 6/30\n",
            "56/56 [==============================] - 0s 8ms/step - loss: 3.6035 - mean_squared_error: 3.6035 - val_loss: 4.2479 - val_mean_squared_error: 4.2479\n",
            "Epoch 7/30\n",
            "56/56 [==============================] - 0s 8ms/step - loss: 3.4087 - mean_squared_error: 3.4087 - val_loss: 4.2684 - val_mean_squared_error: 4.2684\n",
            "Epoch 8/30\n",
            "56/56 [==============================] - 0s 9ms/step - loss: 3.1282 - mean_squared_error: 3.1282 - val_loss: 4.5000 - val_mean_squared_error: 4.5000\n",
            "Epoch 9/30\n",
            "56/56 [==============================] - 0s 8ms/step - loss: 2.8663 - mean_squared_error: 2.8663 - val_loss: 4.7654 - val_mean_squared_error: 4.7654\n",
            "Epoch 10/30\n",
            "56/56 [==============================] - 1s 9ms/step - loss: 2.6332 - mean_squared_error: 2.6332 - val_loss: 4.6740 - val_mean_squared_error: 4.6740\n",
            "Epoch 11/30\n",
            "56/56 [==============================] - 0s 8ms/step - loss: 2.4973 - mean_squared_error: 2.4973 - val_loss: 4.8527 - val_mean_squared_error: 4.8527\n",
            "Epoch 12/30\n",
            "56/56 [==============================] - 0s 8ms/step - loss: 2.2838 - mean_squared_error: 2.2838 - val_loss: 4.9590 - val_mean_squared_error: 4.9590\n",
            "Epoch 13/30\n",
            "56/56 [==============================] - 0s 8ms/step - loss: 2.1394 - mean_squared_error: 2.1394 - val_loss: 5.0518 - val_mean_squared_error: 5.0518\n",
            "Epoch 14/30\n",
            "56/56 [==============================] - 1s 9ms/step - loss: 2.0432 - mean_squared_error: 2.0432 - val_loss: 5.3148 - val_mean_squared_error: 5.3148\n",
            "Epoch 15/30\n",
            "56/56 [==============================] - 0s 8ms/step - loss: 1.9122 - mean_squared_error: 1.9122 - val_loss: 5.2641 - val_mean_squared_error: 5.2641\n",
            "Epoch 16/30\n",
            "56/56 [==============================] - 0s 8ms/step - loss: 1.8335 - mean_squared_error: 1.8335 - val_loss: 5.1445 - val_mean_squared_error: 5.1445\n",
            "Epoch 17/30\n",
            "56/56 [==============================] - 0s 8ms/step - loss: 1.7443 - mean_squared_error: 1.7443 - val_loss: 5.1392 - val_mean_squared_error: 5.1392\n",
            "Epoch 18/30\n",
            "56/56 [==============================] - 0s 8ms/step - loss: 1.6801 - mean_squared_error: 1.6801 - val_loss: 5.7102 - val_mean_squared_error: 5.7102\n",
            "Epoch 19/30\n",
            "56/56 [==============================] - 0s 8ms/step - loss: 1.6181 - mean_squared_error: 1.6181 - val_loss: 5.3807 - val_mean_squared_error: 5.3807\n",
            "Epoch 20/30\n",
            "56/56 [==============================] - 0s 8ms/step - loss: 1.5521 - mean_squared_error: 1.5521 - val_loss: 5.6449 - val_mean_squared_error: 5.6449\n",
            "Epoch 21/30\n",
            "56/56 [==============================] - 0s 8ms/step - loss: 1.4720 - mean_squared_error: 1.4720 - val_loss: 5.4243 - val_mean_squared_error: 5.4243\n",
            "Epoch 22/30\n",
            "56/56 [==============================] - 0s 7ms/step - loss: 1.4700 - mean_squared_error: 1.4700 - val_loss: 5.8132 - val_mean_squared_error: 5.8132\n",
            "Epoch 23/30\n",
            "56/56 [==============================] - 0s 7ms/step - loss: 1.3707 - mean_squared_error: 1.3707 - val_loss: 5.5138 - val_mean_squared_error: 5.5138\n",
            "Epoch 24/30\n",
            "56/56 [==============================] - 0s 8ms/step - loss: 1.3277 - mean_squared_error: 1.3277 - val_loss: 5.4760 - val_mean_squared_error: 5.4760\n",
            "Epoch 25/30\n",
            "56/56 [==============================] - 0s 8ms/step - loss: 1.2788 - mean_squared_error: 1.2788 - val_loss: 5.7878 - val_mean_squared_error: 5.7878\n",
            "Epoch 26/30\n",
            "56/56 [==============================] - 0s 8ms/step - loss: 1.2243 - mean_squared_error: 1.2243 - val_loss: 5.7222 - val_mean_squared_error: 5.7222\n",
            "Epoch 27/30\n",
            "56/56 [==============================] - 0s 8ms/step - loss: 1.2112 - mean_squared_error: 1.2112 - val_loss: 5.6662 - val_mean_squared_error: 5.6662\n",
            "Epoch 28/30\n",
            "56/56 [==============================] - 0s 8ms/step - loss: 1.1316 - mean_squared_error: 1.1316 - val_loss: 5.7040 - val_mean_squared_error: 5.7040\n",
            "Epoch 29/30\n",
            "56/56 [==============================] - 0s 8ms/step - loss: 1.1113 - mean_squared_error: 1.1113 - val_loss: 5.5341 - val_mean_squared_error: 5.5341\n",
            "Epoch 30/30\n",
            "56/56 [==============================] - 0s 8ms/step - loss: 1.1306 - mean_squared_error: 1.1306 - val_loss: 5.5326 - val_mean_squared_error: 5.5326\n",
            "1.206701207498343\n",
            "2.305841925621384\n",
            "1.6815086963569503\n"
          ]
        }
      ]
    },
    {
      "cell_type": "code",
      "source": [
        "X_train, X_test, y_train, y_test = train_test_split(X, y, test_size=0.15) \n",
        "mms.fit(X_train)\n",
        "X_train = mms.transform(X_train)\n",
        "mms.fit(X_test)\n",
        "X_test = mms.transform(X_test)"
      ],
      "metadata": {
        "colab": {
          "base_uri": "https://localhost:8080/"
        },
        "id": "2vzH1x9IgJTG",
        "outputId": "79e3a082-a714-4dba-9e5c-957ba23232a5"
      },
      "execution_count": null,
      "outputs": [
        {
          "output_type": "stream",
          "name": "stderr",
          "text": [
            "/usr/local/lib/python3.7/dist-packages/sklearn/utils/validation.py:1692: FutureWarning: Feature names only support names that are all strings. Got feature names with dtypes: ['int', 'str']. An error will be raised in 1.2.\n",
            "  FutureWarning,\n",
            "/usr/local/lib/python3.7/dist-packages/sklearn/utils/validation.py:1692: FutureWarning: Feature names only support names that are all strings. Got feature names with dtypes: ['int', 'str']. An error will be raised in 1.2.\n",
            "  FutureWarning,\n",
            "/usr/local/lib/python3.7/dist-packages/sklearn/utils/validation.py:1692: FutureWarning: Feature names only support names that are all strings. Got feature names with dtypes: ['int', 'str']. An error will be raised in 1.2.\n",
            "  FutureWarning,\n",
            "/usr/local/lib/python3.7/dist-packages/sklearn/utils/validation.py:1692: FutureWarning: Feature names only support names that are all strings. Got feature names with dtypes: ['int', 'str']. An error will be raised in 1.2.\n",
            "  FutureWarning,\n"
          ]
        }
      ]
    },
    {
      "cell_type": "code",
      "source": [
        "pred_train = model.predict(X_train)\n",
        "print(mean_absolute_error(y_train,pred_train))\n",
        "\n",
        "pred = f(model.predict(X_test))\n",
        "pred2 = np.floor(f(model2.predict(X_test)))\n",
        "\n",
        "print(mean_absolute_error(y_test,pred))\n",
        "print(((8-mean_absolute_error(y_test,pred))/8)*100)\n",
        "\n",
        "print(mean_absolute_error(y_test,pred2))\n",
        "print(((8-mean_absolute_error(y_test,pred2))/8)*100)\n",
        "\n",
        "plt.figure(figsize=(14, 10))\n",
        "plt.title('Histogram of the GradientBoostingRegressor prediction with actual labels')\n",
        "plt.xlabel('Days')\n",
        "plt.ylabel('Number')\n",
        "#plt.hist(pred, bins=range(0,10,1), edgecolor=\"black\", color='red', alpha=0.5)\n",
        "plt.hist(y_pred6, bins=range(0,10,1), edgecolor=\"black\", color='blue', alpha=0.5)\n",
        "plt.hist(y_test, bins=range(0,10,1), edgecolor=\"black\", color='red', alpha=0.5)\n",
        "\n",
        "plt.grid(linestyle='-', linewidth=0.5)\n",
        "plt.legend(['Predicted with GradientBoostingRegressor','Actual'])\n",
        "plt.show()"
      ],
      "metadata": {
        "id": "BtQDaazy-QVh",
        "colab": {
          "base_uri": "https://localhost:8080/",
          "height": 710
        },
        "outputId": "aab7418a-aa19-4556-b5d3-6fd4698094fd"
      },
      "execution_count": null,
      "outputs": [
        {
          "output_type": "stream",
          "name": "stdout",
          "text": [
            "100819272557.92688\n",
            "1.1115284842688082\n",
            "86.1058939466399\n",
            "1.117436448263516\n",
            "86.03204439670606\n"
          ]
        },
        {
          "output_type": "display_data",
          "data": {
            "text/plain": [
              "<Figure size 1008x720 with 1 Axes>"
            ],
            "image/png": "[encoded data removed]"
          },
          "metadata": {
            "needs_background": "light"
          }
        }
      ]
    },
    {
      "cell_type": "code",
      "source": [
        "pred_train2 = model2.predict(X_train)\n",
        "print(np.sqrt(mean_absolute_error(y_train,pred_train2)))\n",
        "\n",
        "\n",
        "pred2 = (model2.predict(X_test))\n",
        "\n",
        "f=lambda a: (abs(a)+a)/2 \n",
        "pred22 = np.ceil(f(pred2))\n",
        "predd22 = ((pred22 - min(pred22))*8/(max(pred22)-min(pred22)))\n",
        "\n",
        "print(np.sqrt(mean_absolute_error(y_test,pred2)))\n",
        "print(np.sqrt(mean_absolute_error(y_test,pred2)*len(X_test)))\n",
        "\n",
        "print(np.sqrt(mean_absolute_error(y_test,predd22)))\n",
        "print(np.sqrt(mean_absolute_error(y_test,predd22)*len(X_test)))\n",
        "\n",
        "plt.title('With In_Queue number, Without adding weight')\n",
        "plt.hist(pred2, bins=range(0,10,1), edgecolor=\"black\", color='red')\n",
        "\n",
        "plt.title('With In_Queue number, Without adding weight')\n",
        "#plt.hist(pred2, bins=range(0,10,1), edgecolor=\"black\", color='yellow')"
      ],
      "metadata": {
        "colab": {
          "base_uri": "https://localhost:8080/",
          "height": 388
        },
        "id": "DOOLJie8DeVb",
        "outputId": "c4bd133b-6ef0-49ff-9a55-7c5c771ca501"
      },
      "execution_count": null,
      "outputs": [
        {
          "output_type": "stream",
          "name": "stdout",
          "text": [
            "1.0485772795274892\n",
            "1.362701599326705\n",
            "49.90167857949208\n",
            "1.4330334170646968\n",
            "52.477206313815394\n"
          ]
        },
        {
          "output_type": "execute_result",
          "data": {
            "text/plain": [
              "Text(0.5, 1.0, 'With In_Queue number, Without adding weight')"
            ]
          },
          "metadata": {},
          "execution_count": 27
        },
        {
          "output_type": "display_data",
          "data": {
            "text/plain": [
              "<Figure size 432x288 with 1 Axes>"
            ],
            "image/png": "[encoded data removed]"
          },
          "metadata": {
            "needs_background": "light"
          }
        }
      ]
    },
    {
      "cell_type": "code",
      "source": [
        "#Regression Models\n",
        "import pandas as pd\n",
        "from sklearn.pipeline import Pipeline\n",
        "\n",
        "from sklearn.linear_model import LinearRegression\n",
        "from lightgbm import LGBMRegressor\n",
        "from xgboost.sklearn import XGBRegressor\n",
        "from sklearn.linear_model import SGDRegressor\n",
        "from sklearn.kernel_ridge import KernelRidge\n",
        "from sklearn.linear_model import ElasticNet\n",
        "from sklearn.linear_model import BayesianRidge\n",
        "from sklearn.ensemble import GradientBoostingRegressor\n",
        "from sklearn.linear_model import PoissonRegressor\n",
        "from sklearn.svm import SVR\n",
        "from sklearn.ensemble import RandomForestRegressor\n",
        "from sklearn.preprocessing import PolynomialFeatures"
      ],
      "metadata": {
        "id": "OgVn3ad_eUBS"
      },
      "execution_count": null,
      "outputs": []
    },
    {
      "cell_type": "code",
      "source": [
        "regressor1 = LinearRegression()\n",
        "regressor2 = PoissonRegressor()\n",
        "regressor3 = BayesianRidge()\n",
        "regressor4 = SVR(kernel = 'rbf')\n",
        "regressor5 = RandomForestRegressor(n_estimators=500, max_features='auto', random_state=0 , max_depth = 20)\n",
        "regressor6 = GradientBoostingRegressor(loss='squared_error', n_estimators = 200, max_depth = 20, max_features = 'auto')\n"
      ],
      "metadata": {
        "id": "dlMnNU_Ke0gN"
      },
      "execution_count": null,
      "outputs": []
    },
    {
      "cell_type": "code",
      "source": [
        "regressor1.fit(X_train, y_train)\n",
        "regressor2.fit(X_train, y_train)\n",
        "regressor3.fit(X_train, y_train)\n",
        "regressor4.fit(X_train, y_train)\n",
        "regressor5.fit(X_train, y_train)\n",
        "regressor6.fit(X_train, y_train)"
      ],
      "metadata": {
        "colab": {
          "base_uri": "https://localhost:8080/"
        },
        "id": "DbM9qwz6fq-n",
        "outputId": "2b23ca58-a5dc-471a-bc78-654ae3d604bb"
      },
      "execution_count": null,
      "outputs": [
        {
          "output_type": "execute_result",
          "data": {
            "text/plain": [
              "GradientBoostingRegressor(max_depth=20, max_features='auto', n_estimators=200)"
            ]
          },
          "metadata": {},
          "execution_count": 38
        }
      ]
    },
    {
      "cell_type": "code",
      "source": [
        "y_train1 = regressor1.predict(X_train)\n",
        "y_train2 = regressor2.predict(X_train)\n",
        "y_train3 = regressor3.predict(X_train)\n",
        "y_train4 = regressor4.predict(X_train)\n",
        "y_train5 = regressor5.predict(X_train)\n",
        "y_train6 = regressor6.predict(X_train)\n",
        "  X_train, X_test, y_train, y_test = train_test_split(X, y, test_size=0.15) \n"
      ],
      "metadata": {
        "id": "Aq8LwueHiOOL"
      },
      "execution_count": null,
      "outputs": []
    },
    {
      "cell_type": "code",
      "source": [
        "pred = model.predict(X_test)\n",
        "pred2 = model2.predict(X_test)\n",
        "y_pred1 = regressor1.predict(X_test)\n",
        "y_pred2 = regressor2.predict(X_test)\n",
        "y_pred3 = regressor3.predict(X_test)\n",
        "y_pred4 = regressor4.predict(X_test)\n",
        "y_pred5 = regressor5.predict(X_test)\n",
        "y_pred6 = regressor6.predict(X_test)"
      ],
      "metadata": {
        "id": "WX2MjVzPgrq1"
      },
      "execution_count": null,
      "outputs": []
    },
    {
      "cell_type": "code",
      "source": [
        "plt.hist(y_pred6, bins=range(0,10,1), edgecolor=\"black\", color='red')"
      ],
      "metadata": {
        "colab": {
          "base_uri": "https://localhost:8080/",
          "height": 336
        },
        "id": "FEX6d-x4hWMk",
        "outputId": "644ade47-63df-4469-82a2-480276d3fa05"
      },
      "execution_count": null,
      "outputs": [
        {
          "output_type": "execute_result",
          "data": {
            "text/plain": [
              "(array([1.314e+03, 1.315e+03, 1.380e+02, 1.000e+00, 0.000e+00, 0.000e+00,\n",
              "        0.000e+00, 0.000e+00, 0.000e+00]),\n",
              " array([0, 1, 2, 3, 4, 5, 6, 7, 8, 9]),\n",
              " <a list of 9 Patch objects>)"
            ]
          },
          "metadata": {},
          "execution_count": 37
        },
        {
          "output_type": "display_data",
          "data": {
            "text/plain": [
              "<Figure size 432x288 with 1 Axes>"
            ],
            "image/png": "[encoded data removed]"
          },
          "metadata": {
            "needs_background": "light"
          }
        }
      ]
    },
    {
      "cell_type": "code",
      "source": [
        "l = np.zeros((50,2))\n",
        "l = pd.DataFrame(l)\n",
        "for i in range(25):\n",
        "  X_train, X_test, y_train, y_test = train_test_split(X, y, test_size=0.15) \n",
        "  mms.fit(X_test)\n",
        "  X_test = mms.transform(X_test)\n",
        "  pred = f(model.predict(X_test))\n",
        "  pred2 = f(model2.predict(X_test))\n",
        "  l.iloc[i,0] = ((8 - mean_absolute_error(y_test,pred))/8)*100\n",
        "  l.iloc[49 - i,0] = ((8 - mean_absolute_error(y_test,pred2))/8)*100\n",
        "  l.iloc[i,1] = 'Number_1'\n",
        "  l.iloc[49 - i,1] = 'Number_2'\n",
        "\n",
        "\n",
        "sns.boxplot(x=l.iloc[:,0], y=l.iloc[:,1], linewidth=5)\n",
        "plt.show()\n",
        "#mean_Square_Error"
      ],
      "metadata": {
        "colab": {
          "base_uri": "https://localhost:8080/"
        },
        "id": "Co4keH2L_oGU",
        "outputId": "235908c1-beec-4fad-a602-f43aaa2115ea"
      },
      "execution_count": null,
      "outputs": [
        {
          "output_type": "stream",
          "name": "stderr",
          "text": [
            "/usr/local/lib/python3.7/dist-packages/sklearn/utils/validation.py:1692: FutureWarning: Feature names only support names that are all strings. Got feature names with dtypes: ['int', 'str']. An error will be raised in 1.2.\n",
            "  FutureWarning,\n",
            "/usr/local/lib/python3.7/dist-packages/sklearn/utils/validation.py:1692: FutureWarning: Feature names only support names that are all strings. Got feature names with dtypes: ['int', 'str']. An error will be raised in 1.2.\n",
            "  FutureWarning,\n",
            "/usr/local/lib/python3.7/dist-packages/sklearn/utils/validation.py:1692: FutureWarning: Feature names only support names that are all strings. Got feature names with dtypes: ['int', 'str']. An error will be raised in 1.2.\n",
            "  FutureWarning,\n",
            "/usr/local/lib/python3.7/dist-packages/sklearn/utils/validation.py:1692: FutureWarning: Feature names only support names that are all strings. Got feature names with dtypes: ['int', 'str']. An error will be raised in 1.2.\n",
            "  FutureWarning,\n",
            "/usr/local/lib/python3.7/dist-packages/sklearn/utils/validation.py:1692: FutureWarning: Feature names only support names that are all strings. Got feature names with dtypes: ['int', 'str']. An error will be raised in 1.2.\n",
            "  FutureWarning,\n",
            "/usr/local/lib/python3.7/dist-packages/sklearn/utils/validation.py:1692: FutureWarning: Feature names only support names that are all strings. Got feature names with dtypes: ['int', 'str']. An error will be raised in 1.2.\n",
            "  FutureWarning,\n",
            "/usr/local/lib/python3.7/dist-packages/sklearn/utils/validation.py:1692: FutureWarning: Feature names only support names that are all strings. Got feature names with dtypes: ['int', 'str']. An error will be raised in 1.2.\n",
            "  FutureWarning,\n",
            "/usr/local/lib/python3.7/dist-packages/sklearn/utils/validation.py:1692: FutureWarning: Feature names only support names that are all strings. Got feature names with dtypes: ['int', 'str']. An error will be raised in 1.2.\n",
            "  FutureWarning,\n",
            "/usr/local/lib/python3.7/dist-packages/sklearn/utils/validation.py:1692: FutureWarning: Feature names only support names that are all strings. Got feature names with dtypes: ['int', 'str']. An error will be raised in 1.2.\n",
            "  FutureWarning,\n",
            "/usr/local/lib/python3.7/dist-packages/sklearn/utils/validation.py:1692: FutureWarning: Feature names only support names that are all strings. Got feature names with dtypes: ['int', 'str']. An error will be raised in 1.2.\n",
            "  FutureWarning,\n",
            "/usr/local/lib/python3.7/dist-packages/sklearn/utils/validation.py:1692: FutureWarning: Feature names only support names that are all strings. Got feature names with dtypes: ['int', 'str']. An error will be raised in 1.2.\n",
            "  FutureWarning,\n",
            "/usr/local/lib/python3.7/dist-packages/sklearn/utils/validation.py:1692: FutureWarning: Feature names only support names that are all strings. Got feature names with dtypes: ['int', 'str']. An error will be raised in 1.2.\n",
            "  FutureWarning,\n",
            "/usr/local/lib/python3.7/dist-packages/sklearn/utils/validation.py:1692: FutureWarning: Feature names only support names that are all strings. Got feature names with dtypes: ['int', 'str']. An error will be raised in 1.2.\n",
            "  FutureWarning,\n",
            "/usr/local/lib/python3.7/dist-packages/sklearn/utils/validation.py:1692: FutureWarning: Feature names only support names that are all strings. Got feature names with dtypes: ['int', 'str']. An error will be raised in 1.2.\n",
            "  FutureWarning,\n",
            "/usr/local/lib/python3.7/dist-packages/sklearn/utils/validation.py:1692: FutureWarning: Feature names only support names that are all strings. Got feature names with dtypes: ['int', 'str']. An error will be raised in 1.2.\n",
            "  FutureWarning,\n",
            "/usr/local/lib/python3.7/dist-packages/sklearn/utils/validation.py:1692: FutureWarning: Feature names only support names that are all strings. Got feature names with dtypes: ['int', 'str']. An error will be raised in 1.2.\n",
            "  FutureWarning,\n",
            "/usr/local/lib/python3.7/dist-packages/sklearn/utils/validation.py:1692: FutureWarning: Feature names only support names that are all strings. Got feature names with dtypes: ['int', 'str']. An error will be raised in 1.2.\n",
            "  FutureWarning,\n",
            "/usr/local/lib/python3.7/dist-packages/sklearn/utils/validation.py:1692: FutureWarning: Feature names only support names that are all strings. Got feature names with dtypes: ['int', 'str']. An error will be raised in 1.2.\n",
            "  FutureWarning,\n",
            "/usr/local/lib/python3.7/dist-packages/sklearn/utils/validation.py:1692: FutureWarning: Feature names only support names that are all strings. Got feature names with dtypes: ['int', 'str']. An error will be raised in 1.2.\n",
            "  FutureWarning,\n",
            "/usr/local/lib/python3.7/dist-packages/sklearn/utils/validation.py:1692: FutureWarning: Feature names only support names that are all strings. Got feature names with dtypes: ['int', 'str']. An error will be raised in 1.2.\n",
            "  FutureWarning,\n",
            "/usr/local/lib/python3.7/dist-packages/sklearn/utils/validation.py:1692: FutureWarning: Feature names only support names that are all strings. Got feature names with dtypes: ['int', 'str']. An error will be raised in 1.2.\n",
            "  FutureWarning,\n",
            "/usr/local/lib/python3.7/dist-packages/sklearn/utils/validation.py:1692: FutureWarning: Feature names only support names that are all strings. Got feature names with dtypes: ['int', 'str']. An error will be raised in 1.2.\n",
            "  FutureWarning,\n",
            "/usr/local/lib/python3.7/dist-packages/sklearn/utils/validation.py:1692: FutureWarning: Feature names only support names that are all strings. Got feature names with dtypes: ['int', 'str']. An error will be raised in 1.2.\n",
            "  FutureWarning,\n",
            "/usr/local/lib/python3.7/dist-packages/sklearn/utils/validation.py:1692: FutureWarning: Feature names only support names that are all strings. Got feature names with dtypes: ['int', 'str']. An error will be raised in 1.2.\n",
            "  FutureWarning,\n",
            "/usr/local/lib/python3.7/dist-packages/sklearn/utils/validation.py:1692: FutureWarning: Feature names only support names that are all strings. Got feature names with dtypes: ['int', 'str']. An error will be raised in 1.2.\n",
            "  FutureWarning,\n",
            "/usr/local/lib/python3.7/dist-packages/sklearn/utils/validation.py:1692: FutureWarning: Feature names only support names that are all strings. Got feature names with dtypes: ['int', 'str']. An error will be raised in 1.2.\n",
            "  FutureWarning,\n",
            "/usr/local/lib/python3.7/dist-packages/sklearn/utils/validation.py:1692: FutureWarning: Feature names only support names that are all strings. Got feature names with dtypes: ['int', 'str']. An error will be raised in 1.2.\n",
            "  FutureWarning,\n",
            "/usr/local/lib/python3.7/dist-packages/sklearn/utils/validation.py:1692: FutureWarning: Feature names only support names that are all strings. Got feature names with dtypes: ['int', 'str']. An error will be raised in 1.2.\n",
            "  FutureWarning,\n",
            "/usr/local/lib/python3.7/dist-packages/sklearn/utils/validation.py:1692: FutureWarning: Feature names only support names that are all strings. Got feature names with dtypes: ['int', 'str']. An error will be raised in 1.2.\n",
            "  FutureWarning,\n",
            "/usr/local/lib/python3.7/dist-packages/sklearn/utils/validation.py:1692: FutureWarning: Feature names only support names that are all strings. Got feature names with dtypes: ['int', 'str']. An error will be raised in 1.2.\n",
            "  FutureWarning,\n",
            "/usr/local/lib/python3.7/dist-packages/sklearn/utils/validation.py:1692: FutureWarning: Feature names only support names that are all strings. Got feature names with dtypes: ['int', 'str']. An error will be raised in 1.2.\n",
            "  FutureWarning,\n",
            "/usr/local/lib/python3.7/dist-packages/sklearn/utils/validation.py:1692: FutureWarning: Feature names only support names that are all strings. Got feature names with dtypes: ['int', 'str']. An error will be raised in 1.2.\n",
            "  FutureWarning,\n",
            "/usr/local/lib/python3.7/dist-packages/sklearn/utils/validation.py:1692: FutureWarning: Feature names only support names that are all strings. Got feature names with dtypes: ['int', 'str']. An error will be raised in 1.2.\n",
            "  FutureWarning,\n",
            "/usr/local/lib/python3.7/dist-packages/sklearn/utils/validation.py:1692: FutureWarning: Feature names only support names that are all strings. Got feature names with dtypes: ['int', 'str']. An error will be raised in 1.2.\n",
            "  FutureWarning,\n",
            "/usr/local/lib/python3.7/dist-packages/sklearn/utils/validation.py:1692: FutureWarning: Feature names only support names that are all strings. Got feature names with dtypes: ['int', 'str']. An error will be raised in 1.2.\n",
            "  FutureWarning,\n",
            "/usr/local/lib/python3.7/dist-packages/sklearn/utils/validation.py:1692: FutureWarning: Feature names only support names that are all strings. Got feature names with dtypes: ['int', 'str']. An error will be raised in 1.2.\n",
            "  FutureWarning,\n",
            "/usr/local/lib/python3.7/dist-packages/sklearn/utils/validation.py:1692: FutureWarning: Feature names only support names that are all strings. Got feature names with dtypes: ['int', 'str']. An error will be raised in 1.2.\n",
            "  FutureWarning,\n",
            "/usr/local/lib/python3.7/dist-packages/sklearn/utils/validation.py:1692: FutureWarning: Feature names only support names that are all strings. Got feature names with dtypes: ['int', 'str']. An error will be raised in 1.2.\n",
            "  FutureWarning,\n",
            "/usr/local/lib/python3.7/dist-packages/sklearn/utils/validation.py:1692: FutureWarning: Feature names only support names that are all strings. Got feature names with dtypes: ['int', 'str']. An error will be raised in 1.2.\n",
            "  FutureWarning,\n",
            "/usr/local/lib/python3.7/dist-packages/sklearn/utils/validation.py:1692: FutureWarning: Feature names only support names that are all strings. Got feature names with dtypes: ['int', 'str']. An error will be raised in 1.2.\n",
            "  FutureWarning,\n",
            "/usr/local/lib/python3.7/dist-packages/sklearn/utils/validation.py:1692: FutureWarning: Feature names only support names that are all strings. Got feature names with dtypes: ['int', 'str']. An error will be raised in 1.2.\n",
            "  FutureWarning,\n",
            "/usr/local/lib/python3.7/dist-packages/sklearn/utils/validation.py:1692: FutureWarning: Feature names only support names that are all strings. Got feature names with dtypes: ['int', 'str']. An error will be raised in 1.2.\n",
            "  FutureWarning,\n",
            "/usr/local/lib/python3.7/dist-packages/sklearn/utils/validation.py:1692: FutureWarning: Feature names only support names that are all strings. Got feature names with dtypes: ['int', 'str']. An error will be raised in 1.2.\n",
            "  FutureWarning,\n",
            "/usr/local/lib/python3.7/dist-packages/sklearn/utils/validation.py:1692: FutureWarning: Feature names only support names that are all strings. Got feature names with dtypes: ['int', 'str']. An error will be raised in 1.2.\n",
            "  FutureWarning,\n",
            "/usr/local/lib/python3.7/dist-packages/sklearn/utils/validation.py:1692: FutureWarning: Feature names only support names that are all strings. Got feature names with dtypes: ['int', 'str']. An error will be raised in 1.2.\n",
            "  FutureWarning,\n",
            "/usr/local/lib/python3.7/dist-packages/sklearn/utils/validation.py:1692: FutureWarning: Feature names only support names that are all strings. Got feature names with dtypes: ['int', 'str']. An error will be raised in 1.2.\n",
            "  FutureWarning,\n",
            "/usr/local/lib/python3.7/dist-packages/sklearn/utils/validation.py:1692: FutureWarning: Feature names only support names that are all strings. Got feature names with dtypes: ['int', 'str']. An error will be raised in 1.2.\n",
            "  FutureWarning,\n",
            "/usr/local/lib/python3.7/dist-packages/sklearn/utils/validation.py:1692: FutureWarning: Feature names only support names that are all strings. Got feature names with dtypes: ['int', 'str']. An error will be raised in 1.2.\n",
            "  FutureWarning,\n",
            "/usr/local/lib/python3.7/dist-packages/sklearn/utils/validation.py:1692: FutureWarning: Feature names only support names that are all strings. Got feature names with dtypes: ['int', 'str']. An error will be raised in 1.2.\n",
            "  FutureWarning,\n",
            "/usr/local/lib/python3.7/dist-packages/sklearn/utils/validation.py:1692: FutureWarning: Feature names only support names that are all strings. Got feature names with dtypes: ['int', 'str']. An error will be raised in 1.2.\n",
            "  FutureWarning,\n"
          ]
        }
      ]
    },
    {
      "cell_type": "code",
      "source": [
        ""
      ],
      "metadata": {
        "colab": {
          "base_uri": "https://localhost:8080/",
          "height": 279
        },
        "id": "c1mnppCPGzrH",
        "outputId": "5ad41320-d6ff-4563-cc4a-289e9dce79d4"
      },
      "execution_count": null,
      "outputs": [
        {
          "output_type": "display_data",
          "data": {
            "text/plain": [
              "<Figure size 432x288 with 1 Axes>"
            ],
            "image/png": "[encoded data removed]"
          },
          "metadata": {
            "needs_background": "light"
          }
        }
      ]
    },
    {
      "cell_type": "code",
      "source": [
        "plt.scatter((pred),y_test)"
      ],
      "metadata": {
        "colab": {
          "base_uri": "https://localhost:8080/",
          "height": 285
        },
        "id": "_sUXjFkbHh9Q",
        "outputId": "ff36e80d-7e46-4b2c-d151-cf273102711c"
      },
      "execution_count": null,
      "outputs": [
        {
          "output_type": "execute_result",
          "data": {
            "text/plain": [
              "<matplotlib.collections.PathCollection at 0x7fdb3ef3fdd0>"
            ]
          },
          "metadata": {},
          "execution_count": 223
        },
        {
          "output_type": "display_data",
          "data": {
            "text/plain": [
              "<Figure size 432x288 with 1 Axes>"
            ],
            "image/png": "[encoded data removed]"
          },
          "metadata": {}
        }
      ]
    },
    {
      "cell_type": "code",
      "source": [
        "from google.colab import files\n",
        "df = pd.DataFrame(l)\n",
        "df.to_csv('filename.csv') \n",
        "files.download('filename.csv')"
      ],
      "metadata": {
        "colab": {
          "base_uri": "https://localhost:8080/",
          "height": 17
        },
        "id": "0yNjDExMHpVO",
        "outputId": "7fdeb737-4912-486c-dcfb-27aa49eb9d82"
      },
      "execution_count": null,
      "outputs": [
        {
          "output_type": "display_data",
          "data": {
            "text/plain": [
              "<IPython.core.display.Javascript object>"
            ],
            "application/javascript": [
              "\n",
              "    async function download(id, filename, size) {\n",
              "      if (!google.colab.kernel.accessAllowed) {\n",
              "        return;\n",
              "      }\n",
              "      const div = document.createElement('div');\n",
              "      const label = document.createElement('label');\n",
              "      label.textContent = `Downloading \"${filename}\": `;\n",
              "      div.appendChild(label);\n",
              "      const progress = document.createElement('progress');\n",
              "      progress.max = size;\n",
              "      div.appendChild(progress);\n",
              "      document.body.appendChild(div);\n",
              "\n",
              "      const buffers = [];\n",
              "      let downloaded = 0;\n",
              "\n",
              "      const channel = await google.colab.kernel.comms.open(id);\n",
              "      // Send a message to notify the kernel that we're ready.\n",
              "      channel.send({})\n",
              "\n",
              "      for await (const message of channel.messages) {\n",
              "        // Send a message to notify the kernel that we're ready.\n",
              "        channel.send({})\n",
              "        if (message.buffers) {\n",
              "          for (const buffer of message.buffers) {\n",
              "            buffers.push(buffer);\n",
              "            downloaded += buffer.byteLength;\n",
              "            progress.value = downloaded;\n",
              "          }\n",
              "        }\n",
              "      }\n",
              "      const blob = new Blob(buffers, {type: 'application/binary'});\n",
              "      const a = document.createElement('a');\n",
              "      a.href = window.URL.createObjectURL(blob);\n",
              "      a.download = filename;\n",
              "      div.appendChild(a);\n",
              "      a.click();\n",
              "      div.remove();\n",
              "    }\n",
              "  "
            ]
          },
          "metadata": {}
        },
        {
          "output_type": "display_data",
          "data": {
            "text/plain": [
              "<IPython.core.display.Javascript object>"
            ],
            "application/javascript": [
              "download(\"download_a99dbf38-83b0-4d3e-b156-5436c1431675\", \"filename.csv\", 14927)"
            ]
          },
          "metadata": {}
        }
      ]
    },
    {
      "cell_type": "code",
      "source": [
        "lenn = 50\n",
        "f=lambda a: (abs(a)+a)/2 \n",
        "l = np.zeros((8*lenn,2))\n",
        "l = pd.DataFrame(l)\n",
        "counter = 0\n",
        "for i in range(lenn):\n",
        "  X_train, X_test, y_train, y_test = train_test_split(X, y, test_size=0.15) \n",
        "  mms.fit(X_test)\n",
        "  X_test = mms.transform(X_test)\n",
        "  pred = f(model.predict(X_test))\n",
        "  l.iloc[counter,0] = ((8 - mean_absolute_error(y_test,f(pred)))/8)*100\n",
        "  l.iloc[counter,1] = 'DL_512_Nodes'\n",
        "  counter = counter + 1\n",
        "  pred2 = f(model2.predict(X_test))\n",
        "  l.iloc[counter,0] = ((8 - mean_absolute_error(y_test,f(pred2)))/8)*100\n",
        "  l.iloc[counter,1] = 'DL_256_Nodes'\n",
        "  counter = counter + 1\n",
        "  y_pred1 = regressor1.predict(X_test)\n",
        "  l.iloc[counter,0] = ((8 - mean_absolute_error(y_test,f(y_pred1)))/8)*100\n",
        "  l.iloc[counter,1] = 'LinearRegression'\n",
        "  counter = counter + 1\n",
        "  y_pred2 = regressor2.predict(X_test)\n",
        "  l.iloc[counter,0] = ((8 - mean_absolute_error(y_test,f(y_pred2)))/8)*100\n",
        "  l.iloc[counter,1] = 'PoissonRegressor'\n",
        "  counter = counter + 1\n",
        "  y_pred3 = regressor3.predict(X_test)\n",
        "  l.iloc[counter,0] = ((8 - mean_absolute_error(y_test,f(y_pred3)))/8)*100\n",
        "  l.iloc[counter,1] = 'BayesianRidge'\n",
        "  counter = counter + 1\n",
        "  y_pred4 = regressor4.predict(X_test)\n",
        "  l.iloc[counter,0] = ((8 - mean_absolute_error(y_test,f(y_pred4)))/8)*100\n",
        "  l.iloc[counter,1] = 'SVR'\n",
        "  counter = counter + 1\n",
        "  y_pred5 = regressor5.predict(X_test)\n",
        "  l.iloc[counter,0] = ((8 - mean_absolute_error(y_test,f(y_pred5)))/8)*100\n",
        "  l.iloc[counter,1] = 'RandomForestRegressor'\n",
        "  counter = counter + 1\n",
        "  y_pred6 = regressor6.predict(X_test)\n",
        "  l.iloc[counter,0] = ((8 - mean_absolute_error(y_test,f(y_pred6)))/8)*100\n",
        "  l.iloc[counter,1] = 'GradientBoostingRegressor'\n",
        "  counter = counter + 1\n",
        "\n",
        "sns.boxplot(x=l.iloc[:,0], y=l.iloc[:,1], linewidth=5)\n",
        "plt.show()"
      ],
      "metadata": {
        "id": "I9HFaRo93qgP",
        "colab": {
          "base_uri": "https://localhost:8080/",
          "height": 279
        },
        "outputId": "a207541b-fb8e-4179-f92d-484a935454d7"
      },
      "execution_count": null,
      "outputs": [
        {
          "output_type": "display_data",
          "data": {
            "text/plain": [
              "<Figure size 432x288 with 1 Axes>"
            ],
            "image/png": "[encoded data removed]"
          },
          "metadata": {
            "needs_background": "light"
          }
        }
      ]
    },
    {
      "cell_type": "code",
      "source": [
        "plt.figure(figsize=(14, 10))\n",
        "ax = sns.boxplot(x=l.iloc[:,1], y=l.iloc[:,0], showmeans=True, meanprops={\"marker\":\"o\",\n",
        "                       \"markerfacecolor\":\"white\", \n",
        "                       \"markeredgecolor\":\"black\",\n",
        "                      \"markersize\":\"10\"}, linewidth=5)\n",
        "ax.set_xticklabels(ax.get_xticklabels(),rotation = 30)\n",
        "plt.grid(linestyle='-', linewidth=0.5)\n",
        "plt.ylabel(\"Accuracy Percentage\", size=14)\n",
        "plt.xlabel(\"Methods\", size=14)\n",
        "plt.title(\"Boxplot of 50 iterations of each method's performance\", size=18)\n",
        "plt.show()"
      ],
      "metadata": {
        "id": "cibm9q4pzxGe",
        "colab": {
          "base_uri": "https://localhost:8080/",
          "height": 697
        },
        "outputId": "81b9a8ba-49c5-4120-c486-950e3c73e3e0"
      },
      "execution_count": null,
      "outputs": [
        {
          "output_type": "display_data",
          "data": {
            "text/plain": [
              "<Figure size 1008x720 with 1 Axes>"
            ],
            "image/png": "[encoded data removed]"
          },
          "metadata": {
            "needs_background": "light"
          }
        }
      ]
    },
    {
      "cell_type": "code",
      "source": [
        "((8 - mean_absolute_error(y_test,y_pred5))/8)*100"
      ],
      "metadata": {
        "colab": {
          "base_uri": "https://localhost:8080/"
        },
        "id": "VH02pMDgmBHs",
        "outputId": "2abd1950-8d1a-4e5f-f46c-99baf530eeb3"
      },
      "execution_count": null,
      "outputs": [
        {
          "output_type": "execute_result",
          "data": {
            "text/plain": [
              "83.65165559188702"
            ]
          },
          "metadata": {},
          "execution_count": 41
        }
      ]
    },
    {
      "cell_type": "code",
      "source": [
        "pred = f(model.predict(X_test))\n",
        "pred2 = f(model2.predict(X_test))\n",
        "y_pred1 = f(regressor1.predict(X_test))\n",
        "y_pred2 = f(regressor2.predict(X_test))\n",
        "y_pred3 = f(regressor3.predict(X_test))\n",
        "y_pred4 = f(regressor4.predict(X_test))\n",
        "y_pred5 = f(regressor5.predict(X_test))\n",
        "y_pred6 = f(regressor6.predict(X_test))"
      ],
      "metadata": {
        "id": "r2kfWBsymDBX"
      },
      "execution_count": null,
      "outputs": []
    },
    {
      "cell_type": "code",
      "source": [
        "plt.figure(figsize=(14, 10))\n",
        "plt.subplot(5, 2, 1)\n",
        "plt.hist(pred, bins=range(0,10,1), edgecolor=\"black\", color='green', alpha=0.5)\n",
        "plt.legend(['DL_512_Nodes'])\n",
        "plt.xlabel('Days')\n",
        "plt.ylabel('Number')\n",
        "plt.grid(linestyle='-', linewidth=0.5)\n",
        "plt.subplot(5, 2, 2)\n",
        "plt.hist(pred2, bins=range(0,10,1), edgecolor=\"black\", color='green', alpha=0.5)\n",
        "plt.legend(['DL_256_Nodes'])\n",
        "plt.xlabel('Days')\n",
        "plt.ylabel('Number')\n",
        "plt.grid(linestyle='-', linewidth=0.5)\n",
        "plt.subplot(5, 2, 3)\n",
        "plt.hist(y_pred1, bins=range(0,10,1), edgecolor=\"black\", color='red', alpha=0.5)\n",
        "plt.legend(['LinearRegression'])\n",
        "plt.xlabel('Days')\n",
        "plt.ylabel('Number')\n",
        "plt.grid(linestyle='-', linewidth=0.5)\n",
        "plt.subplot(5, 2, 4)\n",
        "plt.hist(y_pred2, bins=range(0,10,1), edgecolor=\"black\", color='red', alpha=0.5)\n",
        "plt.legend(['PoissonRegressor'])\n",
        "plt.xlabel('Days')\n",
        "plt.ylabel('Number')\n",
        "plt.grid(linestyle='-', linewidth=0.5)\n",
        "plt.subplot(5, 2, 5)\n",
        "plt.hist(y_pred3, bins=range(0,10,1), edgecolor=\"black\", color='black', alpha=0.5)\n",
        "plt.legend(['BayesianRidge'])\n",
        "plt.xlabel('Days')\n",
        "plt.ylabel('Number')\n",
        "plt.grid(linestyle='-', linewidth=0.5)\n",
        "plt.subplot(5, 2, 6)\n",
        "plt.hist(y_pred4, bins=range(0,10,1), edgecolor=\"black\", color='black', alpha=0.5)\n",
        "plt.legend(['SVR'])\n",
        "plt.xlabel('Days')\n",
        "plt.ylabel('Number')\n",
        "plt.grid(linestyle='-', linewidth=0.5)\n",
        "plt.subplot(5, 2, 7)\n",
        "plt.hist(y_pred5, bins=range(0,10,1), edgecolor=\"black\", color='black', alpha=0.5)\n",
        "plt.legend(['RandomForestRegressor'])\n",
        "plt.xlabel('Days')\n",
        "plt.ylabel('Number')\n",
        "plt.grid(linestyle='-', linewidth=0.5)\n",
        "plt.subplot(5, 2, 8)\n",
        "plt.hist(y_pred6, bins=range(0,10,1), edgecolor=\"black\", color='green', alpha=0.5)\n",
        "plt.legend(['GradientBoostingRegressor'])\n",
        "plt.xlabel('Days')\n",
        "plt.ylabel('Number')\n",
        "plt.grid(linestyle='-', linewidth=0.5)\n",
        "plt.subplot(5, 2, 10)\n",
        "plt.hist(y_test, bins=range(0,10,1), edgecolor=\"black\", color='purple', alpha=0.5)\n",
        "plt.legend(['Actual Data'])\n",
        "plt.xlabel('Days')\n",
        "plt.ylabel('Number')\n",
        "plt.grid(linestyle='-', linewidth=0.5)"
      ],
      "metadata": {
        "colab": {
          "base_uri": "https://localhost:8080/",
          "height": 606
        },
        "id": "Dr5eIZUYxAWv",
        "outputId": "11fbc51b-2ce2-48cd-da6a-a76c39b0eb99"
      },
      "execution_count": null,
      "outputs": [
        {
          "output_type": "display_data",
          "data": {
            "text/plain": [
              "<Figure size 1008x720 with 9 Axes>"
            ],
            "image/png": "[encoded data removed]"
          },
          "metadata": {
            "needs_background": "light"
          }
        }
      ]
    },
    {
      "cell_type": "code",
      "source": [
        "df = pd.read_csv('/content/EvaluationsOfPerformance.csv',na_values=' ') "
      ],
      "metadata": {
        "id": "umWGq2ztyCmR"
      },
      "execution_count": null,
      "outputs": []
    },
    {
      "cell_type": "code",
      "source": [
        "df"
      ],
      "metadata": {
        "colab": {
          "base_uri": "https://localhost:8080/",
          "height": 424
        },
        "id": "S9Ko0InYMhAH",
        "outputId": "8e6a01ed-f7d4-43d8-f673-5fd49fb5111a"
      },
      "execution_count": null,
      "outputs": [
        {
          "output_type": "execute_result",
          "data": {
            "text/plain": [
              "             0                          1\n",
              "0    85.702261               DL_512_Nodes\n",
              "1    86.018226               DL_256_Nodes\n",
              "2    78.609197           LinearRegression\n",
              "3    79.669993           PoissonRegressor\n",
              "4    80.277939              BayesianRidge\n",
              "..         ...                        ...\n",
              "395  79.919957           PoissonRegressor\n",
              "396  80.429303              BayesianRidge\n",
              "397  83.184820                        SVR\n",
              "398  83.651656      RandomForestRegressor\n",
              "399  88.780021  GradientBoostingRegressor\n",
              "\n",
              "[400 rows x 2 columns]"
            ],
            "text/html": [
              "\n",
              "  <div id=\"df-3df8f865-fd84-441e-a4a3-a14a51057740\">\n",
              "    <div class=\"colab-df-container\">\n",
              "      <div>\n",
              "<style scoped>\n",
              "    .dataframe tbody tr th:only-of-type {\n",
              "        vertical-align: middle;\n",
              "    }\n",
              "\n",
              "    .dataframe tbody tr th {\n",
              "        vertical-align: top;\n",
              "    }\n",
              "\n",
              "    .dataframe thead th {\n",
              "        text-align: right;\n",
              "    }\n",
              "</style>\n",
              "<table border=\"1\" class=\"dataframe\">\n",
              "  <thead>\n",
              "    <tr style=\"text-align: right;\">\n",
              "      <th></th>\n",
              "      <th>0</th>\n",
              "      <th>1</th>\n",
              "    </tr>\n",
              "  </thead>\n",
              "  <tbody>\n",
              "    <tr>\n",
              "      <th>0</th>\n",
              "      <td>85.702261</td>\n",
              "      <td>DL_512_Nodes</td>\n",
              "    </tr>\n",
              "    <tr>\n",
              "      <th>1</th>\n",
              "      <td>86.018226</td>\n",
              "      <td>DL_256_Nodes</td>\n",
              "    </tr>\n",
              "    <tr>\n",
              "      <th>2</th>\n",
              "      <td>78.609197</td>\n",
              "      <td>LinearRegression</td>\n",
              "    </tr>\n",
              "    <tr>\n",
              "      <th>3</th>\n",
              "      <td>79.669993</td>\n",
              "      <td>PoissonRegressor</td>\n",
              "    </tr>\n",
              "    <tr>\n",
              "      <th>4</th>\n",
              "      <td>80.277939</td>\n",
              "      <td>BayesianRidge</td>\n",
              "    </tr>\n",
              "    <tr>\n",
              "      <th>...</th>\n",
              "      <td>...</td>\n",
              "      <td>...</td>\n",
              "    </tr>\n",
              "    <tr>\n",
              "      <th>395</th>\n",
              "      <td>79.919957</td>\n",
              "      <td>PoissonRegressor</td>\n",
              "    </tr>\n",
              "    <tr>\n",
              "      <th>396</th>\n",
              "      <td>80.429303</td>\n",
              "      <td>BayesianRidge</td>\n",
              "    </tr>\n",
              "    <tr>\n",
              "      <th>397</th>\n",
              "      <td>83.184820</td>\n",
              "      <td>SVR</td>\n",
              "    </tr>\n",
              "    <tr>\n",
              "      <th>398</th>\n",
              "      <td>83.651656</td>\n",
              "      <td>RandomForestRegressor</td>\n",
              "    </tr>\n",
              "    <tr>\n",
              "      <th>399</th>\n",
              "      <td>88.780021</td>\n",
              "      <td>GradientBoostingRegressor</td>\n",
              "    </tr>\n",
              "  </tbody>\n",
              "</table>\n",
              "<p>400 rows × 2 columns</p>\n",
              "</div>\n",
              "      <button class=\"colab-df-convert\" onclick=\"convertToInteractive('df-3df8f865-fd84-441e-a4a3-a14a51057740')\"\n",
              "              title=\"Convert this dataframe to an interactive table.\"\n",
              "              style=\"display:none;\">\n",
              "        \n",
              "  <svg xmlns=\"http://www.w3.org/2000/svg\" height=\"24px\"viewBox=\"0 0 24 24\"\n",
              "       width=\"24px\">\n",
              "    <path d=\"M0 0h24v24H0V0z\" fill=\"none\"/>\n",
              "    <path d=\"M18.56 5.44l.94 2.06.94-2.06 2.06-.94-2.06-.94-.94-2.06-.94 2.06-2.06.94zm-11 1L8.5 8.5l.94-2.06 2.06-.94-2.06-.94L8.5 2.5l-.94 2.06-2.06.94zm10 10l.94 2.06.94-2.06 2.06-.94-2.06-.94-.94-2.06-.94 2.06-2.06.94z\"/><path d=\"M17.41 7.96l-1.37-1.37c-.4-.4-.92-.59-1.43-.59-.52 0-1.04.2-1.43.59L10.3 9.45l-7.72 7.72c-.78.78-.78 2.05 0 2.83L4 21.41c.39.39.9.59 1.41.59.51 0 1.02-.2 1.41-.59l7.78-7.78 2.81-2.81c.8-.78.8-2.07 0-2.86zM5.41 20L4 18.59l7.72-7.72 1.47 1.35L5.41 20z\"/>\n",
              "  </svg>\n",
              "      </button>\n",
              "      \n",
              "  <style>\n",
              "    .colab-df-container {\n",
              "      display:flex;\n",
              "      flex-wrap:wrap;\n",
              "      gap: 12px;\n",
              "    }\n",
              "\n",
              "    .colab-df-convert {\n",
              "      background-color: #E8F0FE;\n",
              "      border: none;\n",
              "      border-radius: 50%;\n",
              "      cursor: pointer;\n",
              "      display: none;\n",
              "      fill: #1967D2;\n",
              "      height: 32px;\n",
              "      padding: 0 0 0 0;\n",
              "      width: 32px;\n",
              "    }\n",
              "\n",
              "    .colab-df-convert:hover {\n",
              "      background-color: #E2EBFA;\n",
              "      box-shadow: 0px 1px 2px rgba(60, 64, 67, 0.3), 0px 1px 3px 1px rgba(60, 64, 67, 0.15);\n",
              "      fill: #174EA6;\n",
              "    }\n",
              "\n",
              "    [theme=dark] .colab-df-convert {\n",
              "      background-color: #3B4455;\n",
              "      fill: #D2E3FC;\n",
              "    }\n",
              "\n",
              "    [theme=dark] .colab-df-convert:hover {\n",
              "      background-color: #434B5C;\n",
              "      box-shadow: 0px 1px 3px 1px rgba(0, 0, 0, 0.15);\n",
              "      filter: drop-shadow(0px 1px 2px rgba(0, 0, 0, 0.3));\n",
              "      fill: #FFFFFF;\n",
              "    }\n",
              "  </style>\n",
              "\n",
              "      <script>\n",
              "        const buttonEl =\n",
              "          document.querySelector('#df-3df8f865-fd84-441e-a4a3-a14a51057740 button.colab-df-convert');\n",
              "        buttonEl.style.display =\n",
              "          google.colab.kernel.accessAllowed ? 'block' : 'none';\n",
              "\n",
              "        async function convertToInteractive(key) {\n",
              "          const element = document.querySelector('#df-3df8f865-fd84-441e-a4a3-a14a51057740');\n",
              "          const dataTable =\n",
              "            await google.colab.kernel.invokeFunction('convertToInteractive',\n",
              "                                                     [key], {});\n",
              "          if (!dataTable) return;\n",
              "\n",
              "          const docLinkHtml = 'Like what you see? Visit the ' +\n",
              "            '<a target=\"_blank\" href=https://colab.research.google.com/notebooks/data_table.ipynb>data table notebook</a>'\n",
              "            + ' to learn more about interactive tables.';\n",
              "          element.innerHTML = '';\n",
              "          dataTable['output_type'] = 'display_data';\n",
              "          await google.colab.output.renderOutput(dataTable, element);\n",
              "          const docLink = document.createElement('div');\n",
              "          docLink.innerHTML = docLinkHtml;\n",
              "          element.appendChild(docLink);\n",
              "        }\n",
              "      </script>\n",
              "    </div>\n",
              "  </div>\n",
              "  "
            ]
          },
          "metadata": {},
          "execution_count": 6
        }
      ]
    },
    {
      "cell_type": "code",
      "source": [
        "(df[df.iloc[:,1] == 'DL_512_Nodes'].iloc[:,0])"
      ],
      "metadata": {
        "colab": {
          "base_uri": "https://localhost:8080/"
        },
        "id": "3g1qV77MMma_",
        "outputId": "f94e0cfd-5508-4a1a-cc4b-1f347f22405c"
      },
      "execution_count": null,
      "outputs": [
        {
          "output_type": "execute_result",
          "data": {
            "text/plain": [
              "0      85.702261\n",
              "8      86.395228\n",
              "16     85.990054\n",
              "24     86.091247\n",
              "32     86.324996\n",
              "40     86.411064\n",
              "48     85.935757\n",
              "56     86.296309\n",
              "64     86.252690\n",
              "72     86.625905\n",
              "80     85.876627\n",
              "88     85.901118\n",
              "96     86.041044\n",
              "104    86.114356\n",
              "112    85.745458\n",
              "120    86.432173\n",
              "128    86.438976\n",
              "136    86.316452\n",
              "144    85.808316\n",
              "152    86.137471\n",
              "160    85.525972\n",
              "168    86.253254\n",
              "176    86.456613\n",
              "184    86.179624\n",
              "192    86.148895\n",
              "200    85.974192\n",
              "208    85.538014\n",
              "216    85.898131\n",
              "224    86.662016\n",
              "232    86.026211\n",
              "240    85.914950\n",
              "248    86.219645\n",
              "256    86.285345\n",
              "264    86.179878\n",
              "272    85.592765\n",
              "280    86.067263\n",
              "288    86.448629\n",
              "296    86.205259\n",
              "304    86.203152\n",
              "312    86.051158\n",
              "320    86.257280\n",
              "328    85.990779\n",
              "336    85.997279\n",
              "344    86.245643\n",
              "352    86.069486\n",
              "360    85.976792\n",
              "368    86.324048\n",
              "376    86.148747\n",
              "384    86.536658\n",
              "392    86.105894\n",
              "Name: 0, dtype: float64"
            ]
          },
          "metadata": {},
          "execution_count": 9
        }
      ]
    },
    {
      "cell_type": "code",
      "source": [
        "from scipy.stats import f_oneway\n",
        "f_oneway(df[df.iloc[:,1] == 'PoissonRegressor'].iloc[:,0], df[df.iloc[:,1] == 'LinearRegression'].iloc[:,0])"
      ],
      "metadata": {
        "colab": {
          "base_uri": "https://localhost:8080/"
        },
        "id": "RH6rC6tvMyFw",
        "outputId": "508ab496-212d-4ef7-8ff1-70c53be2d1b3"
      },
      "execution_count": null,
      "outputs": [
        {
          "output_type": "execute_result",
          "data": {
            "text/plain": [
              "F_onewayResult(statistic=26.667697824880925, pvalue=1.2691378056035746e-06)"
            ]
          },
          "metadata": {},
          "execution_count": 14
        }
      ]
    },
    {
      "cell_type": "code",
      "source": [
        "import scipy.stats as stats\n",
        "fvalue, pvalue = stats.f_oneway(df[df.iloc[:,1] == 'DL_512_Nodes'].iloc[:,0], \n",
        "                                df[df.iloc[:,1] == 'DL_256_Nodes'].iloc[:,0],\n",
        "                                df[df.iloc[:,1] == 'LinearRegression'].iloc[:,0],\n",
        "                                df[df.iloc[:,1] == 'PoissonRegressor'].iloc[:,0],\n",
        "                                df[df.iloc[:,1] == 'BayesianRidge'].iloc[:,0],\n",
        "                                df[df.iloc[:,1] == 'SVR'].iloc[:,0],\n",
        "                                df[df.iloc[:,1] == 'RandomForestRegressor'].iloc[:,0],  \n",
        "                                df[df.iloc[:,1] == 'GradientBoostingRegressor'].iloc[:,0])"
      ],
      "metadata": {
        "id": "_uA06F0XOf-7"
      },
      "execution_count": null,
      "outputs": []
    },
    {
      "cell_type": "code",
      "source": [
        "print(fvalue, pvalue)"
      ],
      "metadata": {
        "colab": {
          "base_uri": "https://localhost:8080/"
        },
        "id": "P63LsTpRPhSW",
        "outputId": "a211a468-e735-452b-edb1-bd794b8e125b"
      },
      "execution_count": null,
      "outputs": [
        {
          "output_type": "stream",
          "name": "stdout",
          "text": [
            "678.8311859259842 1.012014928371233e-214\n"
          ]
        }
      ]
    },
    {
      "cell_type": "code",
      "source": [
        "import pandas as pd\n",
        "import numpy as np\n",
        "from scipy.stats import f_oneway\n",
        "from statsmodels.stats.multicomp import pairwise_tukeyhsd"
      ],
      "metadata": {
        "colab": {
          "base_uri": "https://localhost:8080/"
        },
        "id": "2MaftROCP-hg",
        "outputId": "4d71303f-3438-4720-807b-3b71aa2f4e68"
      },
      "execution_count": null,
      "outputs": [
        {
          "output_type": "stream",
          "name": "stderr",
          "text": [
            "/usr/local/lib/python3.7/dist-packages/statsmodels/tools/_testing.py:19: FutureWarning: pandas.util.testing is deprecated. Use the functions in the public API at pandas.testing instead.\n",
            "  import pandas.util.testing as tm\n"
          ]
        }
      ]
    },
    {
      "cell_type": "code",
      "source": [
        "tukey = pairwise_tukeyhsd(endog=df.iloc[:,0],\n",
        "                          groups=df.iloc[:,1],\n",
        "                          alpha=0.05)"
      ],
      "metadata": {
        "colab": {
          "base_uri": "https://localhost:8080/",
          "height": 354
        },
        "id": "flR_zrQOR5hl",
        "outputId": "a26180c1-236d-42a2-f7bd-4b18759cad3c"
      },
      "execution_count": null,
      "outputs": [
        {
          "output_type": "error",
          "ename": "IndexError",
          "evalue": "ignored",
          "traceback": [
            "\u001b[0;31m---------------------------------------------------------------------------\u001b[0m",
            "\u001b[0;31mIndexError\u001b[0m                                Traceback (most recent call last)",
            "\u001b[0;32m<ipython-input-98-d1289f4f553b>\u001b[0m in \u001b[0;36m<module>\u001b[0;34m()\u001b[0m\n\u001b[1;32m      1\u001b[0m tukey = pairwise_tukeyhsd(endog=df.iloc[:,0],\n\u001b[0;32m----> 2\u001b[0;31m                           \u001b[0mgroups\u001b[0m\u001b[0;34m=\u001b[0m\u001b[0mdf\u001b[0m\u001b[0;34m.\u001b[0m\u001b[0miloc\u001b[0m\u001b[0;34m[\u001b[0m\u001b[0;34m:\u001b[0m\u001b[0;34m,\u001b[0m\u001b[0;36m1\u001b[0m\u001b[0;34m]\u001b[0m\u001b[0;34m,\u001b[0m\u001b[0;34m\u001b[0m\u001b[0;34m\u001b[0m\u001b[0m\n\u001b[0m\u001b[1;32m      3\u001b[0m                           alpha=0.05)\n",
            "\u001b[0;32m/usr/local/lib/python3.7/dist-packages/pandas/core/indexing.py\u001b[0m in \u001b[0;36m__getitem__\u001b[0;34m(self, key)\u001b[0m\n\u001b[1;32m    923\u001b[0m                 \u001b[0;32mwith\u001b[0m \u001b[0msuppress\u001b[0m\u001b[0;34m(\u001b[0m\u001b[0mKeyError\u001b[0m\u001b[0;34m,\u001b[0m \u001b[0mIndexError\u001b[0m\u001b[0;34m)\u001b[0m\u001b[0;34m:\u001b[0m\u001b[0;34m\u001b[0m\u001b[0;34m\u001b[0m\u001b[0m\n\u001b[1;32m    924\u001b[0m                     \u001b[0;32mreturn\u001b[0m \u001b[0mself\u001b[0m\u001b[0;34m.\u001b[0m\u001b[0mobj\u001b[0m\u001b[0;34m.\u001b[0m\u001b[0m_get_value\u001b[0m\u001b[0;34m(\u001b[0m\u001b[0;34m*\u001b[0m\u001b[0mkey\u001b[0m\u001b[0;34m,\u001b[0m \u001b[0mtakeable\u001b[0m\u001b[0;34m=\u001b[0m\u001b[0mself\u001b[0m\u001b[0;34m.\u001b[0m\u001b[0m_takeable\u001b[0m\u001b[0;34m)\u001b[0m\u001b[0;34m\u001b[0m\u001b[0;34m\u001b[0m\u001b[0m\n\u001b[0;32m--> 925\u001b[0;31m             \u001b[0;32mreturn\u001b[0m \u001b[0mself\u001b[0m\u001b[0;34m.\u001b[0m\u001b[0m_getitem_tuple\u001b[0m\u001b[0;34m(\u001b[0m\u001b[0mkey\u001b[0m\u001b[0;34m)\u001b[0m\u001b[0;34m\u001b[0m\u001b[0;34m\u001b[0m\u001b[0m\n\u001b[0m\u001b[1;32m    926\u001b[0m         \u001b[0;32melse\u001b[0m\u001b[0;34m:\u001b[0m\u001b[0;34m\u001b[0m\u001b[0;34m\u001b[0m\u001b[0m\n\u001b[1;32m    927\u001b[0m             \u001b[0;31m# we by definition only have the 0th axis\u001b[0m\u001b[0;34m\u001b[0m\u001b[0;34m\u001b[0m\u001b[0;34m\u001b[0m\u001b[0m\n",
            "\u001b[0;32m/usr/local/lib/python3.7/dist-packages/pandas/core/indexing.py\u001b[0m in \u001b[0;36m_getitem_tuple\u001b[0;34m(self, tup)\u001b[0m\n\u001b[1;32m   1504\u001b[0m     \u001b[0;32mdef\u001b[0m \u001b[0m_getitem_tuple\u001b[0m\u001b[0;34m(\u001b[0m\u001b[0mself\u001b[0m\u001b[0;34m,\u001b[0m \u001b[0mtup\u001b[0m\u001b[0;34m:\u001b[0m \u001b[0mtuple\u001b[0m\u001b[0;34m)\u001b[0m\u001b[0;34m:\u001b[0m\u001b[0;34m\u001b[0m\u001b[0;34m\u001b[0m\u001b[0m\n\u001b[1;32m   1505\u001b[0m \u001b[0;34m\u001b[0m\u001b[0m\n\u001b[0;32m-> 1506\u001b[0;31m         \u001b[0mself\u001b[0m\u001b[0;34m.\u001b[0m\u001b[0m_has_valid_tuple\u001b[0m\u001b[0;34m(\u001b[0m\u001b[0mtup\u001b[0m\u001b[0;34m)\u001b[0m\u001b[0;34m\u001b[0m\u001b[0;34m\u001b[0m\u001b[0m\n\u001b[0m\u001b[1;32m   1507\u001b[0m         \u001b[0;32mwith\u001b[0m \u001b[0msuppress\u001b[0m\u001b[0;34m(\u001b[0m\u001b[0mIndexingError\u001b[0m\u001b[0;34m)\u001b[0m\u001b[0;34m:\u001b[0m\u001b[0;34m\u001b[0m\u001b[0;34m\u001b[0m\u001b[0m\n\u001b[1;32m   1508\u001b[0m             \u001b[0;32mreturn\u001b[0m \u001b[0mself\u001b[0m\u001b[0;34m.\u001b[0m\u001b[0m_getitem_lowerdim\u001b[0m\u001b[0;34m(\u001b[0m\u001b[0mtup\u001b[0m\u001b[0;34m)\u001b[0m\u001b[0;34m\u001b[0m\u001b[0;34m\u001b[0m\u001b[0m\n",
            "\u001b[0;32m/usr/local/lib/python3.7/dist-packages/pandas/core/indexing.py\u001b[0m in \u001b[0;36m_has_valid_tuple\u001b[0;34m(self, key)\u001b[0m\n\u001b[1;32m    752\u001b[0m         \u001b[0;32mfor\u001b[0m \u001b[0mi\u001b[0m\u001b[0;34m,\u001b[0m \u001b[0mk\u001b[0m \u001b[0;32min\u001b[0m \u001b[0menumerate\u001b[0m\u001b[0;34m(\u001b[0m\u001b[0mkey\u001b[0m\u001b[0;34m)\u001b[0m\u001b[0;34m:\u001b[0m\u001b[0;34m\u001b[0m\u001b[0;34m\u001b[0m\u001b[0m\n\u001b[1;32m    753\u001b[0m             \u001b[0;32mtry\u001b[0m\u001b[0;34m:\u001b[0m\u001b[0;34m\u001b[0m\u001b[0;34m\u001b[0m\u001b[0m\n\u001b[0;32m--> 754\u001b[0;31m                 \u001b[0mself\u001b[0m\u001b[0;34m.\u001b[0m\u001b[0m_validate_key\u001b[0m\u001b[0;34m(\u001b[0m\u001b[0mk\u001b[0m\u001b[0;34m,\u001b[0m \u001b[0mi\u001b[0m\u001b[0;34m)\u001b[0m\u001b[0;34m\u001b[0m\u001b[0;34m\u001b[0m\u001b[0m\n\u001b[0m\u001b[1;32m    755\u001b[0m             \u001b[0;32mexcept\u001b[0m \u001b[0mValueError\u001b[0m \u001b[0;32mas\u001b[0m \u001b[0merr\u001b[0m\u001b[0;34m:\u001b[0m\u001b[0;34m\u001b[0m\u001b[0;34m\u001b[0m\u001b[0m\n\u001b[1;32m    756\u001b[0m                 raise ValueError(\n",
            "\u001b[0;32m/usr/local/lib/python3.7/dist-packages/pandas/core/indexing.py\u001b[0m in \u001b[0;36m_validate_key\u001b[0;34m(self, key, axis)\u001b[0m\n\u001b[1;32m   1407\u001b[0m             \u001b[0;32mreturn\u001b[0m\u001b[0;34m\u001b[0m\u001b[0;34m\u001b[0m\u001b[0m\n\u001b[1;32m   1408\u001b[0m         \u001b[0;32melif\u001b[0m \u001b[0mis_integer\u001b[0m\u001b[0;34m(\u001b[0m\u001b[0mkey\u001b[0m\u001b[0;34m)\u001b[0m\u001b[0;34m:\u001b[0m\u001b[0;34m\u001b[0m\u001b[0;34m\u001b[0m\u001b[0m\n\u001b[0;32m-> 1409\u001b[0;31m             \u001b[0mself\u001b[0m\u001b[0;34m.\u001b[0m\u001b[0m_validate_integer\u001b[0m\u001b[0;34m(\u001b[0m\u001b[0mkey\u001b[0m\u001b[0;34m,\u001b[0m \u001b[0maxis\u001b[0m\u001b[0;34m)\u001b[0m\u001b[0;34m\u001b[0m\u001b[0;34m\u001b[0m\u001b[0m\n\u001b[0m\u001b[1;32m   1410\u001b[0m         \u001b[0;32melif\u001b[0m \u001b[0misinstance\u001b[0m\u001b[0;34m(\u001b[0m\u001b[0mkey\u001b[0m\u001b[0;34m,\u001b[0m \u001b[0mtuple\u001b[0m\u001b[0;34m)\u001b[0m\u001b[0;34m:\u001b[0m\u001b[0;34m\u001b[0m\u001b[0;34m\u001b[0m\u001b[0m\n\u001b[1;32m   1411\u001b[0m             \u001b[0;31m# a tuple should already have been caught by this point\u001b[0m\u001b[0;34m\u001b[0m\u001b[0;34m\u001b[0m\u001b[0;34m\u001b[0m\u001b[0m\n",
            "\u001b[0;32m/usr/local/lib/python3.7/dist-packages/pandas/core/indexing.py\u001b[0m in \u001b[0;36m_validate_integer\u001b[0;34m(self, key, axis)\u001b[0m\n\u001b[1;32m   1498\u001b[0m         \u001b[0mlen_axis\u001b[0m \u001b[0;34m=\u001b[0m \u001b[0mlen\u001b[0m\u001b[0;34m(\u001b[0m\u001b[0mself\u001b[0m\u001b[0;34m.\u001b[0m\u001b[0mobj\u001b[0m\u001b[0;34m.\u001b[0m\u001b[0m_get_axis\u001b[0m\u001b[0;34m(\u001b[0m\u001b[0maxis\u001b[0m\u001b[0;34m)\u001b[0m\u001b[0;34m)\u001b[0m\u001b[0;34m\u001b[0m\u001b[0;34m\u001b[0m\u001b[0m\n\u001b[1;32m   1499\u001b[0m         \u001b[0;32mif\u001b[0m \u001b[0mkey\u001b[0m \u001b[0;34m>=\u001b[0m \u001b[0mlen_axis\u001b[0m \u001b[0;32mor\u001b[0m \u001b[0mkey\u001b[0m \u001b[0;34m<\u001b[0m \u001b[0;34m-\u001b[0m\u001b[0mlen_axis\u001b[0m\u001b[0;34m:\u001b[0m\u001b[0;34m\u001b[0m\u001b[0;34m\u001b[0m\u001b[0m\n\u001b[0;32m-> 1500\u001b[0;31m             \u001b[0;32mraise\u001b[0m \u001b[0mIndexError\u001b[0m\u001b[0;34m(\u001b[0m\u001b[0;34m\"single positional indexer is out-of-bounds\"\u001b[0m\u001b[0;34m)\u001b[0m\u001b[0;34m\u001b[0m\u001b[0;34m\u001b[0m\u001b[0m\n\u001b[0m\u001b[1;32m   1501\u001b[0m \u001b[0;34m\u001b[0m\u001b[0m\n\u001b[1;32m   1502\u001b[0m     \u001b[0;31m# -------------------------------------------------------------------\u001b[0m\u001b[0;34m\u001b[0m\u001b[0;34m\u001b[0m\u001b[0;34m\u001b[0m\u001b[0m\n",
            "\u001b[0;31mIndexError\u001b[0m: single positional indexer is out-of-bounds"
          ]
        }
      ]
    },
    {
      "cell_type": "code",
      "source": [
        "print(tukey)"
      ],
      "metadata": {
        "colab": {
          "base_uri": "https://localhost:8080/"
        },
        "id": "TYrhNnRbSMtO",
        "outputId": "8efb17ba-4d4e-482e-93ae-2629af437f49"
      },
      "execution_count": null,
      "outputs": [
        {
          "output_type": "stream",
          "name": "stdout",
          "text": [
            "                   Multiple Comparison of Means - Tukey HSD, FWER=0.05                    \n",
            "==========================================================================================\n",
            "          group1                    group2          meandiff p-adj   lower   upper  reject\n",
            "------------------------------------------------------------------------------------------\n",
            "            BayesianRidge              DL_256_Nodes   5.7667  0.001  5.2357  6.2977   True\n",
            "            BayesianRidge              DL_512_Nodes   5.5721  0.001  5.0411  6.1031   True\n",
            "            BayesianRidge GradientBoostingRegressor   7.5526  0.001  7.0216  8.0836   True\n",
            "            BayesianRidge          LinearRegression  -0.9815  0.001 -1.5125 -0.4505   True\n",
            "            BayesianRidge          PoissonRegressor  -0.5129 0.0672 -1.0439  0.0181  False\n",
            "            BayesianRidge     RandomForestRegressor   3.0298  0.001  2.4988  3.5608   True\n",
            "            BayesianRidge                       SVR   2.9472  0.001  2.4162  3.4782   True\n",
            "             DL_256_Nodes              DL_512_Nodes  -0.1946    0.9 -0.7256  0.3364  False\n",
            "             DL_256_Nodes GradientBoostingRegressor   1.7859  0.001  1.2549  2.3169   True\n",
            "             DL_256_Nodes          LinearRegression  -6.7482  0.001 -7.2792 -6.2172   True\n",
            "             DL_256_Nodes          PoissonRegressor  -6.2796  0.001 -6.8106 -5.7486   True\n",
            "             DL_256_Nodes     RandomForestRegressor  -2.7369  0.001 -3.2679 -2.2059   True\n",
            "             DL_256_Nodes                       SVR  -2.8195  0.001 -3.3505 -2.2885   True\n",
            "             DL_512_Nodes GradientBoostingRegressor   1.9805  0.001  1.4494  2.5115   True\n",
            "             DL_512_Nodes          LinearRegression  -6.5536  0.001 -7.0846 -6.0226   True\n",
            "             DL_512_Nodes          PoissonRegressor   -6.085  0.001  -6.616  -5.554   True\n",
            "             DL_512_Nodes     RandomForestRegressor  -2.5423  0.001 -3.0734 -2.0113   True\n",
            "             DL_512_Nodes                       SVR  -2.6249  0.001 -3.1559 -2.0939   True\n",
            "GradientBoostingRegressor          LinearRegression  -8.5341  0.001 -9.0651 -8.0031   True\n",
            "GradientBoostingRegressor          PoissonRegressor  -8.0655  0.001 -8.5965 -7.5345   True\n",
            "GradientBoostingRegressor     RandomForestRegressor  -4.5228  0.001 -5.0538 -3.9918   True\n",
            "GradientBoostingRegressor                       SVR  -4.6054  0.001 -5.1364 -4.0744   True\n",
            "         LinearRegression          PoissonRegressor   0.4686 0.1285 -0.0624  0.9996  False\n",
            "         LinearRegression     RandomForestRegressor   4.0113  0.001  3.4803  4.5423   True\n",
            "         LinearRegression                       SVR   3.9287  0.001  3.3977  4.4597   True\n",
            "         PoissonRegressor     RandomForestRegressor   3.5427  0.001  3.0117  4.0737   True\n",
            "         PoissonRegressor                       SVR   3.4601  0.001  2.9291  3.9911   True\n",
            "    RandomForestRegressor                       SVR  -0.0826    0.9 -0.6136  0.4484  False\n",
            "------------------------------------------------------------------------------------------\n"
          ]
        }
      ]
    },
    {
      "cell_type": "code",
      "source": [
        "fvalue, pvalue = stats.f_oneway(df[df.iloc[:,1] == 'SVR'].iloc[:,0], \n",
        "                                df[df.iloc[:,1] == 'RandomForestRegressor'].iloc[:,0])\n",
        "\n",
        "print(fvalue, pvalue)"
      ],
      "metadata": {
        "colab": {
          "base_uri": "https://localhost:8080/"
        },
        "id": "xUgz9xUPSNI7",
        "outputId": "435ca974-1dca-4efb-d689-c468a2b1296a"
      },
      "execution_count": null,
      "outputs": [
        {
          "output_type": "stream",
          "name": "stdout",
          "text": [
            "0.5858025562388829 0.44588621792292604\n"
          ]
        }
      ]
    },
    {
      "cell_type": "code",
      "source": [
        "lenn = len(y_test)\n",
        "l = np.zeros((9*lenn,2))\n",
        "l = pd.DataFrame(l)\n",
        "counter = 0\n",
        "for i in range(lenn):\n",
        "  l.iloc[counter,0] = pred[i][0]\n",
        "  l.iloc[counter,1] = 'DL_512_Nodes'\n",
        "  counter = counter + 1\n",
        "  l.iloc[counter,0] = pred2[i][0]\n",
        "  l.iloc[counter,1] = 'DL_256_Nodes'\n",
        "  counter = counter + 1\n",
        "  l.iloc[counter,0] = y_pred1[i]\n",
        "  l.iloc[counter,1] = 'LinearRegression'\n",
        "  counter = counter + 1\n",
        "  l.iloc[counter,0] = y_pred2[i]\n",
        "  l.iloc[counter,1] = 'PoissonRegressor'\n",
        "  counter = counter + 1\n",
        "  l.iloc[counter,0] = y_pred3[i]\n",
        "  l.iloc[counter,1] = 'BayesianRidge'\n",
        "  counter = counter + 1\n",
        "  l.iloc[counter,0] = y_pred4[i]\n",
        "  l.iloc[counter,1] = 'SVR'\n",
        "  counter = counter + 1\n",
        "  l.iloc[counter,0] = y_pred5[i]\n",
        "  l.iloc[counter,1] = 'RandomForestRegressor'\n",
        "  counter = counter + 1\n",
        "  l.iloc[counter,0] = y_pred6[i]\n",
        "  l.iloc[counter,1] = 'GradientBoostingRegressor'\n",
        "  counter = counter + 1\n",
        "  l.iloc[counter,0] = y_test[i]\n",
        "  l.iloc[counter,1] = 'Actual'\n",
        "  counter = counter + 1\n",
        "\n",
        "\n",
        "sns.boxplot(x=l.iloc[:,0], y=l.iloc[:,1], linewidth=5)\n",
        "plt.show()"
      ],
      "metadata": {
        "colab": {
          "base_uri": "https://localhost:8080/",
          "height": 279
        },
        "id": "8E5YB23_KRNM",
        "outputId": "30dcce3a-d85e-4dc0-9b3a-571ae9f73c7b"
      },
      "execution_count": null,
      "outputs": [
        {
          "output_type": "display_data",
          "data": {
            "text/plain": [
              "<Figure size 432x288 with 1 Axes>"
            ],
            "image/png": "[encoded data removed]"
          },
          "metadata": {
            "needs_background": "light"
          }
        }
      ]
    },
    {
      "cell_type": "code",
      "source": [
        "tukey = pairwise_tukeyhsd(endog=l.iloc[:,0],\n",
        "                          groups=l.iloc[:,1],\n",
        "                          alpha=0.001)\n",
        "\n",
        "print(tukey)"
      ],
      "metadata": {
        "colab": {
          "base_uri": "https://localhost:8080/"
        },
        "id": "MFZANBfGMNvH",
        "outputId": "898add4d-d4a8-424a-a5b5-c62a3c116429"
      },
      "execution_count": null,
      "outputs": [
        {
          "output_type": "stream",
          "name": "stdout",
          "text": [
            "                   Multiple Comparison of Means - Tukey HSD, FWER=0.00                    \n",
            "==========================================================================================\n",
            "          group1                    group2          meandiff p-adj   lower   upper  reject\n",
            "------------------------------------------------------------------------------------------\n",
            "                   Actual             BayesianRidge   0.0528 0.6165 -0.0651  0.1707  False\n",
            "                   Actual              DL_256_Nodes  -0.1468  0.001 -0.2647 -0.0289   True\n",
            "                   Actual              DL_512_Nodes  -0.3182  0.001 -0.4361 -0.2003   True\n",
            "                   Actual GradientBoostingRegressor   0.1468  0.001  0.0289  0.2647   True\n",
            "                   Actual          LinearRegression  -1.4658  0.001 -1.5837 -1.3479   True\n",
            "                   Actual          PoissonRegressor   0.0746 0.1696 -0.0433  0.1925  False\n",
            "                   Actual     RandomForestRegressor   0.0812 0.0947 -0.0367  0.1991  False\n",
            "                   Actual                       SVR   -0.606  0.001 -0.7239 -0.4882   True\n",
            "            BayesianRidge              DL_256_Nodes  -0.1996  0.001 -0.3174 -0.0817   True\n",
            "            BayesianRidge              DL_512_Nodes   -0.371  0.001 -0.4889 -0.2531   True\n",
            "            BayesianRidge GradientBoostingRegressor    0.094 0.0245 -0.0238  0.2119  False\n",
            "            BayesianRidge          LinearRegression  -1.5186  0.001 -1.6365 -1.4007   True\n",
            "            BayesianRidge          PoissonRegressor   0.0218    0.9 -0.0961  0.1397  False\n",
            "            BayesianRidge     RandomForestRegressor   0.0284    0.9 -0.0895  0.1463  False\n",
            "            BayesianRidge                       SVR  -0.6588  0.001 -0.7767 -0.5409   True\n",
            "             DL_256_Nodes              DL_512_Nodes  -0.1714  0.001 -0.2893 -0.0535   True\n",
            "             DL_256_Nodes GradientBoostingRegressor   0.2936  0.001  0.1757  0.4115   True\n",
            "             DL_256_Nodes          LinearRegression   -1.319  0.001 -1.4369 -1.2011   True\n",
            "             DL_256_Nodes          PoissonRegressor   0.2214  0.001  0.1035  0.3393   True\n",
            "             DL_256_Nodes     RandomForestRegressor    0.228  0.001  0.1101  0.3458   True\n",
            "             DL_256_Nodes                       SVR  -0.4593  0.001 -0.5771 -0.3414   True\n",
            "             DL_512_Nodes GradientBoostingRegressor    0.465  0.001  0.3472  0.5829   True\n",
            "             DL_512_Nodes          LinearRegression  -1.1476  0.001 -1.2655 -1.0297   True\n",
            "             DL_512_Nodes          PoissonRegressor   0.3928  0.001  0.2749  0.5107   True\n",
            "             DL_512_Nodes     RandomForestRegressor   0.3994  0.001  0.2815  0.5173   True\n",
            "             DL_512_Nodes                       SVR  -0.2878  0.001 -0.4057   -0.17   True\n",
            "GradientBoostingRegressor          LinearRegression  -1.6126  0.001 -1.7305 -1.4948   True\n",
            "GradientBoostingRegressor          PoissonRegressor  -0.0722 0.2048 -0.1901  0.0457  False\n",
            "GradientBoostingRegressor     RandomForestRegressor  -0.0656 0.3269 -0.1835  0.0522  False\n",
            "GradientBoostingRegressor                       SVR  -0.7529  0.001 -0.8707  -0.635   True\n",
            "         LinearRegression          PoissonRegressor   1.5404  0.001  1.4225  1.6583   True\n",
            "         LinearRegression     RandomForestRegressor    1.547  0.001  1.4291  1.6649   True\n",
            "         LinearRegression                       SVR   0.8598  0.001  0.7419  0.9776   True\n",
            "         PoissonRegressor     RandomForestRegressor   0.0066    0.9 -0.1113  0.1245  False\n",
            "         PoissonRegressor                       SVR  -0.6806  0.001 -0.7985 -0.5628   True\n",
            "    RandomForestRegressor                       SVR  -0.6872  0.001 -0.8051 -0.5693   True\n",
            "------------------------------------------------------------------------------------------\n"
          ]
        }
      ]
    },
    {
      "cell_type": "code",
      "source": [
        "fvalue, pvalue = stats.f_oneway(l[l.iloc[:,1] == 'Actual'].iloc[:,0], \n",
        "                                l[l.iloc[:,1] == 'DL_256_Nodes'].iloc[:,0])\n",
        "\n",
        "print(fvalue, pvalue)"
      ],
      "metadata": {
        "colab": {
          "base_uri": "https://localhost:8080/"
        },
        "id": "w0mq6UwZMw3F",
        "outputId": "2c3718d3-f7d2-430a-99ff-2f94a7b97dc2"
      },
      "execution_count": null,
      "outputs": [
        {
          "output_type": "stream",
          "name": "stdout",
          "text": [
            "10.12100806479349 0.0014739163162031132\n"
          ]
        }
      ]
    },
    {
      "cell_type": "code",
      "source": [
        "fvalue, pvalue = stats.f_oneway(l[l.iloc[:,1] == 'Actual'].iloc[:,0], \n",
        "                                l[l.iloc[:,1] == 'DL_512_Nodes'].iloc[:,0])\n",
        "\n",
        "print(fvalue, pvalue)"
      ],
      "metadata": {
        "colab": {
          "base_uri": "https://localhost:8080/"
        },
        "id": "feHmm4k1WOVr",
        "outputId": "f4829d02-1273-4757-c022-948f34226ce5"
      },
      "execution_count": null,
      "outputs": [
        {
          "output_type": "stream",
          "name": "stdout",
          "text": [
            "48.70211836620933 3.3254950377708046e-12\n"
          ]
        }
      ]
    },
    {
      "cell_type": "code",
      "source": [
        "fvalue, pvalue = stats.f_oneway(l[l.iloc[:,1] == 'Actual'].iloc[:,0], \n",
        "                                l[l.iloc[:,1] == 'GradientBoostingRegressor'].iloc[:,0])\n",
        "\n",
        "print(fvalue, pvalue)"
      ],
      "metadata": {
        "colab": {
          "base_uri": "https://localhost:8080/"
        },
        "id": "88kc7y35WVlA",
        "outputId": "36f526c6-c108-42e5-fb69-660b2c2319e1"
      },
      "execution_count": null,
      "outputs": [
        {
          "output_type": "stream",
          "name": "stdout",
          "text": [
            "11.686084476986485 0.0006341952769908283\n"
          ]
        }
      ]
    },
    {
      "cell_type": "code",
      "source": [
        ""
      ],
      "metadata": {
        "id": "0cxgYLuOWggi"
      },
      "execution_count": null,
      "outputs": []
    }
  ]
}